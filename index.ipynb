{
 "cells": [
  {
   "cell_type": "markdown",
   "metadata": {},
   "source": [
    "<table width = \"100%\">\n",
    "  <tr style=\"background-color:white;\">\n",
    "    <!-- QWorld Logo -->\n",
    "    <td style=\"text-align:left; padding:0px; width:200px;\"> \n",
    "        <img src=\"images/QWorld.png\"> </td>\n",
    "    <!-- Padding -->\n",
    "    <td width=\"*\">&nbsp;&nbsp;&nbsp;&nbsp;&emsp;&emsp;&emsp;&nbsp;&nbsp;</td>\n",
    "    <td style=\"padding:0px;width:250px;\"></td>\n",
    "   \n",
    "  </tr> \n",
    " </table>\n",
    " \n",
    "<hr>"
   ]
  },
  {
   "cell_type": "markdown",
   "metadata": {},
   "source": [
    "<h1 align=\"left\" style=\"color: #fbb32a;\"> Welcome </h1>\n",
    "    \n",
    "The material contains notebooks to guide you for music generation using quantum annealing.\n",
    "\n",
    "It consists of notebooks from QWorld's tutorial QCobalt and code used in generating the music pieces in the chapter \"Music Composition Using Quantum Annealing\" by Arya et al. Before moving on, please first check the installation notebook."
   ]
  },
  {
   "cell_type": "markdown",
   "metadata": {},
   "source": [
    "<h1 align=\"left\" style=\"color: #fbb32a;\"> Content </h1>"
   ]
  },
  {
   "cell_type": "markdown",
   "metadata": {},
   "source": [
    "[Ocean SDK Installation](Ocean_SDK_Installation.ipynb) \n",
    "\n",
    "[QUBO](QUBO_Mathematical_Definition.ipynb)\n",
    "\n",
    "[Penalty Method](QUBO_PenaltyMethod.ipynb)\n",
    "\n",
    "[Ising Model](Ising_Model.ipynb)\n",
    "\n",
    "[Ising to QUBO Conversion](Ising_Model_2.ipynb)\n",
    "\n",
    "[Quantum Annealing](Quantum_Annealing.ipynb)\n",
    "\n",
    "[QUBO for Music Generation](QUBO_For_Music_Generation.ipynb)\n"
   ]
  },
  {
   "cell_type": "markdown",
   "metadata": {},
   "source": [
    "<h1 align=\"left\" style=\"color: #fbb32a;\"> Additional Resouces </h1>"
   ]
  },
  {
   "cell_type": "markdown",
   "metadata": {},
   "source": [
    "\n",
    "Please check the repository for the [QCobalt](https://gitlab.com/qworld/qresearch/qintern2021/12_educational-material-development-for-quantum-annealing) material for more detailed information on quantum annealing.\n",
    "\n",
    "You can read the original chapter on music generation for a more detailed insight about this content.\n",
    "\n",
    "Arya, A., Botelho, L., Cañete, F., Kapadia, D., & Salehi, Ö. (2022). [Applications of Quantum Annealing to Music Theory](https://arxiv.org/abs/2201.10557). In Quantum Computer Music: Foundations, Methods and Advanced Concepts (pp. 373-406). Cham: Springer International Publishing."
   ]
  }
 ],
 "metadata": {
  "kernelspec": {
   "display_name": "Python 3",
   "language": "python",
   "name": "python3"
  },
  "language_info": {
   "codemirror_mode": {
    "name": "ipython",
    "version": 3
   },
   "file_extension": ".py",
   "mimetype": "text/x-python",
   "name": "python",
   "nbconvert_exporter": "python",
   "pygments_lexer": "ipython3",
   "version": "3.7.3"
  },
  "latex_envs": {
   "LaTeX_envs_menu_present": true,
   "autoclose": true,
   "autocomplete": true,
   "bibliofile": "biblio.bib",
   "cite_by": "apalike",
   "current_citInitial": 1,
   "eqLabelWithNumbers": true,
   "eqNumInitial": 1,
   "hotkeys": {
    "equation": "Ctrl-E",
    "itemize": "Ctrl-I"
   },
   "labels_anchors": false,
   "latex_user_defs": false,
   "report_style_numbering": false,
   "user_envs_cfg": false
  },
  "toc": {
   "base_numbering": 1,
   "nav_menu": {},
   "number_sections": false,
   "sideBar": true,
   "skip_h1_title": false,
   "title_cell": "Table of Contents",
   "title_sidebar": "Contents",
   "toc_cell": false,
   "toc_position": {},
   "toc_section_display": true,
   "toc_window_display": false
  }
 },
 "nbformat": 4,
 "nbformat_minor": 4
}
