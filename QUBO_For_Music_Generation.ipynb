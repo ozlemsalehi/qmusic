{
 "cells": [
  {
   "cell_type": "markdown",
   "id": "1ee810ec",
   "metadata": {},
   "source": [
    "<table width = \"100%\">\n",
    "  <tr style=\"background-color:white;\">\n",
    "    <!-- QWorld Logo -->\n",
    "    <td style=\"text-align:left;width:200px;\"> \n",
    "        <a href=\"https://qworld.net/\" target=\"_blank\"><img src=\"./images/QWorld.png\"> </a></td>\n",
    "    <td style=\"text-align:right;vertical-align:bottom;font-size:16px;\"> \n",
    "        Prepared by Özlem Salehi</td>    \n",
    "</table>\n",
    "<hr>"
   ]
  },
  {
   "cell_type": "markdown",
   "id": "cathedral-vegetation",
   "metadata": {},
   "source": [
    "# QUBO for Music Generation\n",
    "\n",
    "In this notebook, we will model the music generation process by quadratic unconstrained binary optimization.\n",
    "\n",
    "The codes in this notebook are used to generate the music pieces presented in the paper [\"Music Composition Using Quantum Annealing\"](https://arxiv.org/abs/2201.10557). You can read the paper to get a deeper insight. The content is also published as a chapter in the following reference:\n",
    "\n",
    "Arya, A., Botelho, L., Cañete, F., Kapadia, D., & Salehi, Ö. (2022). Applications of Quantum Annealing to Music Theory. In Quantum Computer Music: Foundations, Methods and Advanced Concepts (pp. 373-406). Cham: Springer International Publishing."
   ]
  },
  {
   "cell_type": "markdown",
   "id": "f4034fed",
   "metadata": {},
   "source": [
    "## Preliminaries"
   ]
  },
  {
   "cell_type": "markdown",
   "id": "optical-judge",
   "metadata": {},
   "source": [
    "### Imports"
   ]
  },
  {
   "cell_type": "markdown",
   "id": "pharmaceutical-lafayette",
   "metadata": {},
   "source": [
    "You need to import the following to run the codes. If you have made a successfull installation, you should be able to run the following cell without any error. "
   ]
  },
  {
   "cell_type": "code",
   "execution_count": 37,
   "id": "identical-virtue",
   "metadata": {},
   "outputs": [],
   "source": [
    "# D-Wave modules\n",
    "import dimod\n",
    "import neal\n",
    "from dwave.system.samplers.leap_hybrid_sampler import LeapHybridSampler\n",
    "from dwave.system import EmbeddingComposite, DWaveSampler\n",
    "import dwave_networkx as dnx \n",
    "\n",
    "# Pyqubo will be used formulate the models\n",
    "from pyqubo import Binary, Constraint, LogEncInteger\n",
    "\n",
    "# pickle will be used for saving data\n",
    "import pickle\n",
    "\n",
    "# This is a built in module which we will use in the header of the for loops.\n",
    "from itertools import product"
   ]
  },
  {
   "cell_type": "markdown",
   "id": "behavioral-freeware",
   "metadata": {},
   "source": [
    "### Helper functions "
   ]
  },
  {
   "cell_type": "markdown",
   "id": "bound-belief",
   "metadata": {},
   "source": [
    "We will list some functions that will be used in the rest of the notebook."
   ]
  },
  {
   "cell_type": "markdown",
   "id": "standing-education",
   "metadata": {},
   "source": [
    "<b>Storing results</b>\n",
    "\n",
    "The sampleset returned by D-Wave is converted in to a serializable object which is convenient for storing and pickle is used to store it."
   ]
  },
  {
   "cell_type": "code",
   "execution_count": 38,
   "id": "specified-netherlands",
   "metadata": {},
   "outputs": [],
   "source": [
    "def store_results(filename, sampleset):\n",
    "    \"\"\"Stores the sampleset obtained from D-Wave\n",
    "    \n",
    "    :param filename: name of the file \n",
    "    :type filename: string\n",
    "    :param sampleset: sampleset to be stored\n",
    "    :type sampleset: dimod.SampleSet\n",
    "    \"\"\"\n",
    "    sdf = sampleset.to_serializable()\n",
    "    with open(filename, 'wb') as handle:\n",
    "        pickle.dump(sdf, handle)"
   ]
  },
  {
   "cell_type": "markdown",
   "id": "detected-twelve",
   "metadata": {},
   "source": [
    "<b> Annealing experiment</b>\n",
    "\n",
    "This function is used to perform the annealing experiment. Annealing type is either 's', 'h' or 'q', representing simulated, hybrid and quantum respectively. The parameter `ns` which stands for number of sweeps is needed only for simulated annealing. `at` is the annealing time for quantum annealing and `cs` determines the chain strength. For hybrid annealing, no parameters are used. If any of the parameters are not provided, then their default values are used."
   ]
  },
  {
   "cell_type": "code",
   "execution_count": 39,
   "id": "hispanic-chicken",
   "metadata": {},
   "outputs": [],
   "source": [
    "def anneal(bqm, anneal_type, ns=1000, nr=1000, at=20, cs=1):\n",
    "    \"\"\"Runs an annealing experiment and returns the sampleset\n",
    "    \n",
    "    :param bqm: binary quadratic model to be sampled\n",
    "    :type bqm: BinaryQuadraticModel\n",
    "    :param type: type of the annealing (simulated, hybrid, quantum)\n",
    "    :type: string\n",
    "    :param ns: Number of sweeps\n",
    "    :type ns: int\n",
    "    :param nr: Number of samples\n",
    "    :type nr: int\n",
    "    :param at: Annealing time\n",
    "    :type at: int\n",
    "    :param cs: Chain strength \n",
    "    :type cs: float\n",
    "    :return: sampleset\n",
    "    :rtype: dimod.SampleSet\n",
    "    \"\"\"\n",
    "    if anneal_type == 's':\n",
    "        s = neal.SimulatedAnnealingSampler()\n",
    "        sampleset = s.sample(bqm, beta_range=(5, 100), num_sweeps=ns, num_reads=ns,\n",
    "                             beta_schedule_type='geometric')\n",
    "    elif anneal_type == 'h':\n",
    "        s = LeapHybridSampler()\n",
    "        sampleset = s.sample(bqm)\n",
    "    elif anneal_type == 'q':\n",
    "        s = EmbeddingComposite(DWaveSampler())\n",
    "        sampleset = s.sample(bqm, chain_strength = cs, annealing_time = at, num_reads=1000)\n",
    "\n",
    "    results, energies = [], []\n",
    "\n",
    "    for datum in sampleset.data(fields=[\"sample\", \"energy\"]):\n",
    "        energies.append(datum.energy)\n",
    "        results.append(datum[0])\n",
    "    return sampleset"
   ]
  },
  {
   "cell_type": "markdown",
   "id": "renewable-longer",
   "metadata": {},
   "source": [
    "<b> Converting sample into a pitch sequence </b>\n",
    "\n",
    "The output we get from D-Wave is not a pitch sequence but a list of binary variables and their values. After getting this output, we need to convert it into a pitch sequence."
   ]
  },
  {
   "cell_type": "code",
   "execution_count": 40,
   "id": "elegant-kitchen",
   "metadata": {},
   "outputs": [],
   "source": [
    "def translate_sample(sample, P, n):\n",
    "    \"\"\"Converts a given sample into a pitch sequence\n",
    "     \n",
    "    :param sample: A dictionary representing a sample where keys are the variable names and values are either 0 or 1\n",
    "    :param type sample: dict\n",
    "    :param P: List of the pitches\n",
    "    :param type P: list\n",
    "    :param n: Number of notes in the sequence\n",
    "    :param type n: int\n",
    "    :return: sequence of pitches\n",
    "    :rtype: list\n",
    "    \"\"\"\n",
    "    seq = []\n",
    "    for i,p in product(range(1,n+1),P):\n",
    "        if sample[f\"x_{i}_{p}\"]==1:\n",
    "            seq.append(p)\n",
    "    return seq"
   ]
  },
  {
   "cell_type": "markdown",
   "id": "encouraging-absorption",
   "metadata": {},
   "source": [
    "<b> Converting sample into a chord sequence"
   ]
  },
  {
   "cell_type": "markdown",
   "id": "secure-primary",
   "metadata": {},
   "source": [
    "In case we would like to create a chord sequence, there will be three notes at each time point. The following function creates a chord sequence from the sample."
   ]
  },
  {
   "cell_type": "code",
   "execution_count": 41,
   "id": "noticed-narrative",
   "metadata": {},
   "outputs": [],
   "source": [
    "from itertools import product\n",
    "\n",
    "def translate_chord(sample,P,n):\n",
    "    \"\"\"Converts a given sample into a chord sequence\n",
    "     \n",
    "    :param sample: A dictionary representing a sample where keys are the variable names and values are either 0 or 1\n",
    "    :param type sample: dict\n",
    "    :param P: List of the pitches\n",
    "    :param type P: list\n",
    "    :param n: Number of notes in the sequence\n",
    "    :param type n: int\n",
    "    :return: sequence of chords\n",
    "    :rtype: list\n",
    "    \"\"\"\n",
    "    seq = {i:[] for i in range(1,n+1)}\n",
    "    for i,p in product(range(1,n+1),P):\n",
    "        if sample[f\"x_{i}_{p}\"]==1:\n",
    "            seq[i].append(p)\n",
    "    return seq"
   ]
  },
  {
   "cell_type": "markdown",
   "id": "experienced-conspiracy",
   "metadata": {},
   "source": [
    "<b> Checking if constraints are broken using pyqubo"
   ]
  },
  {
   "cell_type": "markdown",
   "id": "attached-cycling",
   "metadata": {},
   "source": [
    "pyqubo has a built-in method to check whether the constraints defined using the `Constraint` keyword are broken or not. (It does not detect if there are penalty values resulting from the terms directly added to the objective.)"
   ]
  },
  {
   "cell_type": "code",
   "execution_count": 42,
   "id": "modular-registrar",
   "metadata": {},
   "outputs": [],
   "source": [
    "def check_constraints(sample, model):    \n",
    "    \"\"\"Prints the violated constraints in a given sample\n",
    "     \n",
    "    :param sample: A dictionary representing a sample where keys are the variable names and values are either 0 or 1\n",
    "    :param type sample: dict\n",
    "    :param model: Model that is representing the qubo problem\n",
    "    :param type P: Pyqubo model\n",
    "    \"\"\"\n",
    "    dec = model.decode_sample(sample, vartype='BINARY')\n",
    "    print(dec.constraints(only_broken=True))"
   ]
  },
  {
   "cell_type": "markdown",
   "id": "legal-thermal",
   "metadata": {},
   "source": [
    "----"
   ]
  },
  {
   "cell_type": "markdown",
   "id": "indian-italic",
   "metadata": {},
   "source": [
    "### Example 1 (Page 13) - Basic model for melody generation"
   ]
  },
  {
   "cell_type": "markdown",
   "id": "laden-forum",
   "metadata": {},
   "source": [
    "<b> Creating the model"
   ]
  },
  {
   "cell_type": "markdown",
   "id": "9b67ffbb",
   "metadata": {},
   "source": [
    "Suppose that we want to generate a melody consisting of $n$ notes, where the pitches belong to the set $P=\\{p_1,p_2,\\dots,p_k \\}$. We will define the binary variables $x_{i,j}$ for $i \\in [n]$ and $j \\in P$.\n",
    "\\begin{equation}\\label{eq:model}\n",
    "x_{i,j} =  \\begin{cases}%\n",
    "1      & \\text{note at position $i$ is $j$,}\\\\\n",
    "0 & \\text{otherwise.}\n",
    "\\end{cases}\n",
    "\\end{equation}\n",
    "The total number of variables required in this formulation is $n|P|$. Note that we aim to generate $n$ notes simultaneously. At the end of the optimization process, we will obtain an assignment to the binary variables $x_{i,j}$, which will indicate the pitch of the note selected for each position. "
   ]
  },
  {
   "cell_type": "markdown",
   "id": "de149a82",
   "metadata": {},
   "source": [
    "#### Constraints"
   ]
  },
  {
   "cell_type": "markdown",
   "id": "86c56e65",
   "metadata": {},
   "source": [
    "Next, we will define some constraints which can be included in the objective function using the penalty method. \n",
    "\n",
    "The first rule we need to incorporate is that only one of the variables $x_{i,j}$ is equal to 1 for each position $i$. The rule is necessary as exactly one pitch should be selected for each time point. \n",
    "\n",
    "This is equivalent to having the following constraint for each $i \\in [n]$.\n",
    "\\begin{equation}\\label{eq:single_note}\n",
    "    \\sum_{j \\in P} x_{i,j} = 1\n",
    "\\end{equation}"
   ]
  },
  {
   "cell_type": "markdown",
   "id": "7adde807",
   "metadata": {},
   "source": [
    "#### Code"
   ]
  },
  {
   "cell_type": "markdown",
   "id": "allied-formation",
   "metadata": {},
   "source": [
    "We first create a list of pitches `P` and set `n`, which is the number of notes in the music piece to be generated. "
   ]
  },
  {
   "cell_type": "code",
   "execution_count": 43,
   "id": "intensive-paint",
   "metadata": {},
   "outputs": [],
   "source": [
    "P = ['C4', 'D4', 'E4','G4' ]\n",
    "n = 5"
   ]
  },
  {
   "cell_type": "markdown",
   "id": "central-adobe",
   "metadata": {},
   "source": [
    "Next we add the single note constraint, which is defined as \n",
    "$\n",
    "\\left ( 1- \\sum_{j \\in P} x_{i,j} \\right )^2\n",
    "$\n",
    "for each $i=1,\\dots,5$.\n",
    "\n",
    "We use pyqubo to formulate the model. \n",
    "\n",
    "- $H$ will represent our QUBO formulation.\n",
    "- Note that we have a for loop going through each $i$ and we add the constraint corresponding to $i$ to $H$.\n",
    "- `Binary(x)` keyword defines a binary variable with name `x`\n",
    "-  `sum(Binary(f\"x_{i}_{j}\") for j in P)` represents the sum $\\sum_{j \\in P} x_{i,j}$\n",
    "- `Constraint((1-sum(Binary(f\"x_{i}_{p}\") for p in P))**2, f\"Single_note_{i}\")` adds the constraint $\n",
    "\\left ( 1- \\sum_{j \\in P} x_{i,j} \\right )^2\n",
    "$ to the model with the name `Single_note_{i}`\n"
   ]
  },
  {
   "cell_type": "code",
   "execution_count": 44,
   "id": "aquatic-platform",
   "metadata": {},
   "outputs": [],
   "source": [
    "H = 0\n",
    "for i in range(1,n+1):\n",
    "    H += Constraint((1-sum(Binary(f\"x_{i}_{j}\") for j in P))**2, f\"Single_note_{i}\")"
   ]
  },
  {
   "cell_type": "markdown",
   "id": "previous-repair",
   "metadata": {},
   "source": [
    "We can print `H` to see what it looks like."
   ]
  },
  {
   "cell_type": "code",
   "execution_count": 45,
   "id": "eleven-detector",
   "metadata": {},
   "outputs": [
    {
     "data": {
      "text/plain": [
       "(Constraint(label=Single_note_5,((Binary(x_5_G4)+Binary(x_5_E4)+Binary(x_5_C4)+Binary(x_5_D4))*Num(-1.000000)+Num(1.000000))*((Binary(x_5_G4)+Binary(x_5_E4)+Binary(x_5_C4)+Binary(x_5_D4))*Num(-1.000000)+Num(1.000000)))+Constraint(label=Single_note_4,((Binary(x_4_G4)+Binary(x_4_E4)+Binary(x_4_C4)+Binary(x_4_D4))*Num(-1.000000)+Num(1.000000))*((Binary(x_4_G4)+Binary(x_4_E4)+Binary(x_4_C4)+Binary(x_4_D4))*Num(-1.000000)+Num(1.000000)))+Constraint(label=Single_note_3,((Binary(x_3_G4)+Binary(x_3_E4)+Binary(x_3_C4)+Binary(x_3_D4))*Num(-1.000000)+Num(1.000000))*((Binary(x_3_G4)+Binary(x_3_E4)+Binary(x_3_C4)+Binary(x_3_D4))*Num(-1.000000)+Num(1.000000)))+Constraint(label=Single_note_1,((Binary(x_1_G4)+Binary(x_1_E4)+Binary(x_1_C4)+Binary(x_1_D4))*Num(-1.000000)+Num(1.000000))*((Binary(x_1_G4)+Binary(x_1_E4)+Binary(x_1_C4)+Binary(x_1_D4))*Num(-1.000000)+Num(1.000000)))+Constraint(label=Single_note_2,((Binary(x_2_G4)+Binary(x_2_E4)+Binary(x_2_C4)+Binary(x_2_D4))*Num(-1.000000)+Num(1.000000))*((Binary(x_2_G4)+Binary(x_2_E4)+Binary(x_2_C4)+Binary(x_2_D4))*Num(-1.000000)+Num(1.000000))))"
      ]
     },
     "execution_count": 45,
     "metadata": {},
     "output_type": "execute_result"
    }
   ],
   "source": [
    "H"
   ]
  },
  {
   "cell_type": "markdown",
   "id": "generic-tractor",
   "metadata": {},
   "source": [
    "<b> Running the experiment"
   ]
  },
  {
   "cell_type": "markdown",
   "id": "exciting-syndrome",
   "metadata": {},
   "source": [
    "To run an annealing experiment using Ocean SDK, we need a BinaryQuadraticModel.\n",
    "\n",
    "First we use pyqubo's `compile` function to generate the `model` object, which is then converted into a QUBO using `to_qubo()` function of pyqubo. \n",
    "\n",
    "From `qubo` and `of` representing the QUBO model and the offset respectively, we create a BinaryQuadraticModel object of D-Wave."
   ]
  },
  {
   "cell_type": "code",
   "execution_count": 46,
   "id": "aquatic-closer",
   "metadata": {},
   "outputs": [],
   "source": [
    "model = H.compile()\n",
    "qubo, of = model.to_qubo()\n",
    "bqm = dimod.BinaryQuadraticModel.from_qubo(qubo,of)"
   ]
  },
  {
   "cell_type": "markdown",
   "id": "mediterranean-skiing",
   "metadata": {},
   "source": [
    "Let's print `bqm` as well."
   ]
  },
  {
   "cell_type": "code",
   "execution_count": 47,
   "id": "homeless-testing",
   "metadata": {},
   "outputs": [
    {
     "data": {
      "text/plain": [
       "BinaryQuadraticModel({'x_2_G4': -1.0, 'x_2_C4': -1.0, 'x_5_G4': -1.0, 'x_5_E4': -1.0, 'x_5_C4': -1.0, 'x_3_C4': -1.0, 'x_3_D4': -1.0, 'x_2_E4': -1.0, 'x_1_E4': -1.0, 'x_1_D4': -1.0, 'x_4_E4': -1.0, 'x_4_C4': -1.0, 'x_5_D4': -1.0, 'x_1_C4': -1.0, 'x_1_G4': -1.0, 'x_4_D4': -1.0, 'x_2_D4': -1.0, 'x_3_G4': -1.0, 'x_4_G4': -1.0, 'x_3_E4': -1.0}, {('x_2_C4', 'x_2_G4'): 2.0, ('x_5_E4', 'x_5_G4'): 2.0, ('x_5_C4', 'x_5_G4'): 2.0, ('x_5_C4', 'x_5_E4'): 2.0, ('x_3_D4', 'x_3_C4'): 2.0, ('x_2_E4', 'x_2_G4'): 2.0, ('x_2_E4', 'x_2_C4'): 2.0, ('x_1_D4', 'x_1_E4'): 2.0, ('x_4_C4', 'x_4_E4'): 2.0, ('x_5_D4', 'x_5_G4'): 2.0, ('x_5_D4', 'x_5_E4'): 2.0, ('x_5_D4', 'x_5_C4'): 2.0, ('x_1_C4', 'x_1_E4'): 2.0, ('x_1_C4', 'x_1_D4'): 2.0, ('x_1_G4', 'x_1_E4'): 2.0, ('x_1_G4', 'x_1_D4'): 2.0, ('x_1_G4', 'x_1_C4'): 2.0, ('x_4_D4', 'x_4_E4'): 2.0, ('x_4_D4', 'x_4_C4'): 2.0, ('x_2_D4', 'x_2_G4'): 2.0, ('x_2_D4', 'x_2_C4'): 2.0, ('x_2_D4', 'x_2_E4'): 2.0, ('x_3_G4', 'x_3_C4'): 2.0, ('x_3_G4', 'x_3_D4'): 2.0, ('x_4_G4', 'x_4_E4'): 2.0, ('x_4_G4', 'x_4_C4'): 2.0, ('x_4_G4', 'x_4_D4'): 2.0, ('x_3_E4', 'x_3_C4'): 2.0, ('x_3_E4', 'x_3_D4'): 2.0, ('x_3_E4', 'x_3_G4'): 2.0}, 5.0, 'BINARY')"
      ]
     },
     "execution_count": 47,
     "metadata": {},
     "output_type": "execute_result"
    }
   ],
   "source": [
    "bqm"
   ]
  },
  {
   "cell_type": "markdown",
   "id": "illegal-surgeon",
   "metadata": {},
   "source": [
    "The next step is to run the experiment. We use the `anneal` function we have previously written. In this example, we select quantum annealing by providing the parameter `q`. As we don't provide any additional parameters, default parameters will be used for annealing time and chain strength."
   ]
  },
  {
   "cell_type": "markdown",
   "id": "occupied-mount",
   "metadata": {},
   "source": [
    "<i>Note: If you did not configure D-Wave access or you can not configure it due to your country of residence, then you can use 's' keyword to use simulated annealer instead. "
   ]
  },
  {
   "cell_type": "code",
   "execution_count": 48,
   "id": "proprietary-stake",
   "metadata": {},
   "outputs": [],
   "source": [
    "sampleset = anneal(bqm, 'q')"
   ]
  },
  {
   "cell_type": "markdown",
   "id": "prescribed-victorian",
   "metadata": {},
   "source": [
    "<b> Interpreting the results"
   ]
  },
  {
   "cell_type": "markdown",
   "id": "congressional-university",
   "metadata": {},
   "source": [
    "Let's see what samples look like. "
   ]
  },
  {
   "cell_type": "code",
   "execution_count": 49,
   "id": "small-preview",
   "metadata": {},
   "outputs": [
    {
     "data": {
      "text/plain": [
       "SampleSet(rec.array([([0, 1, 0, 0, 0, 1, 0, 0, 0, 1, 0, 0, 0, 1, 0, 0, 0, 1, 0, 0], 0., 3, 0.),\n",
       "           ([1, 0, 0, 0, 0, 0, 1, 0, 0, 1, 0, 0, 0, 0, 1, 0, 0, 0, 0, 1], 0., 1, 0.),\n",
       "           ([0, 1, 0, 0, 0, 1, 0, 0, 0, 1, 0, 0, 1, 0, 0, 0, 0, 1, 0, 0], 0., 2, 0.),\n",
       "           ([0, 0, 0, 1, 0, 0, 1, 0, 1, 0, 0, 0, 0, 0, 0, 1, 0, 0, 1, 0], 0., 2, 0.),\n",
       "           ([0, 0, 0, 1, 0, 1, 0, 0, 1, 0, 0, 0, 0, 1, 0, 0, 1, 0, 0, 0], 0., 1, 0.),\n",
       "           ([0, 0, 0, 1, 0, 0, 0, 1, 1, 0, 0, 0, 0, 0, 0, 1, 0, 0, 0, 1], 0., 1, 0.),\n",
       "           ([0, 0, 1, 0, 1, 0, 0, 0, 1, 0, 0, 0, 0, 1, 0, 0, 1, 0, 0, 0], 0., 1, 0.),\n",
       "           ([1, 0, 0, 0, 0, 0, 0, 1, 0, 0, 1, 0, 0, 0, 0, 1, 1, 0, 0, 0], 0., 1, 0.),\n",
       "           ([0, 0, 1, 0, 0, 0, 0, 1, 1, 0, 0, 0, 1, 0, 0, 0, 1, 0, 0, 0], 0., 2, 0.),\n",
       "           ([1, 0, 0, 0, 0, 0, 0, 1, 0, 0, 0, 1, 0, 1, 0, 0, 0, 1, 0, 0], 0., 2, 0.),\n",
       "           ([1, 0, 0, 0, 0, 0, 0, 1, 0, 0, 0, 1, 0, 0, 0, 1, 0, 1, 0, 0], 0., 1, 0.),\n",
       "           ([1, 0, 0, 0, 0, 0, 0, 1, 1, 0, 0, 0, 1, 0, 0, 0, 1, 0, 0, 0], 0., 1, 0.),\n",
       "           ([0, 0, 0, 1, 0, 0, 0, 1, 0, 0, 1, 0, 0, 1, 0, 0, 0, 0, 1, 0], 0., 1, 0.),\n",
       "           ([0, 0, 0, 1, 1, 0, 0, 0, 0, 0, 0, 1, 0, 1, 0, 0, 0, 0, 1, 0], 0., 1, 0.),\n",
       "           ([1, 0, 0, 0, 0, 1, 0, 0, 0, 0, 0, 1, 0, 0, 0, 1, 1, 0, 0, 0], 0., 1, 0.),\n",
       "           ([0, 0, 0, 1, 0, 0, 1, 0, 0, 1, 0, 0, 1, 0, 0, 0, 0, 0, 0, 1], 0., 2, 0.),\n",
       "           ([0, 1, 0, 0, 0, 1, 0, 0, 0, 0, 1, 0, 0, 0, 1, 0, 0, 1, 0, 0], 0., 2, 0.),\n",
       "           ([0, 1, 0, 0, 0, 1, 0, 0, 0, 0, 1, 0, 0, 0, 0, 1, 0, 1, 0, 0], 0., 1, 0.),\n",
       "           ([0, 0, 0, 1, 1, 0, 0, 0, 1, 0, 0, 0, 0, 1, 0, 0, 0, 1, 0, 0], 0., 1, 0.),\n",
       "           ([0, 0, 0, 1, 0, 1, 0, 0, 0, 0, 0, 1, 0, 1, 0, 0, 1, 0, 0, 0], 0., 2, 0.),\n",
       "           ([0, 0, 0, 1, 1, 0, 0, 0, 1, 0, 0, 0, 0, 1, 0, 0, 1, 0, 0, 0], 0., 2, 0.),\n",
       "           ([0, 0, 1, 0, 0, 0, 0, 1, 0, 1, 0, 0, 0, 1, 0, 0, 0, 1, 0, 0], 0., 1, 0.),\n",
       "           ([1, 0, 0, 0, 0, 1, 0, 0, 0, 0, 0, 1, 0, 0, 1, 0, 0, 0, 0, 1], 0., 2, 0.),\n",
       "           ([0, 0, 1, 0, 1, 0, 0, 0, 0, 0, 0, 1, 1, 0, 0, 0, 0, 0, 0, 1], 0., 1, 0.),\n",
       "           ([0, 0, 1, 0, 1, 0, 0, 0, 1, 0, 0, 0, 0, 0, 0, 1, 0, 1, 0, 0], 0., 1, 0.),\n",
       "           ([0, 1, 0, 0, 0, 1, 0, 0, 0, 0, 0, 1, 0, 0, 1, 0, 0, 0, 0, 1], 0., 1, 0.),\n",
       "           ([0, 0, 0, 1, 0, 1, 0, 0, 0, 0, 1, 0, 0, 0, 0, 1, 0, 0, 0, 1], 0., 1, 0.),\n",
       "           ([1, 0, 0, 0, 1, 0, 0, 0, 1, 0, 0, 0, 1, 0, 0, 0, 0, 0, 1, 0], 0., 1, 0.),\n",
       "           ([0, 0, 1, 0, 1, 0, 0, 0, 0, 0, 0, 1, 0, 0, 0, 1, 0, 0, 1, 0], 0., 1, 0.),\n",
       "           ([1, 0, 0, 0, 0, 1, 0, 0, 0, 1, 0, 0, 0, 0, 1, 0, 0, 0, 0, 1], 0., 1, 0.),\n",
       "           ([0, 0, 0, 1, 0, 0, 0, 1, 0, 1, 0, 0, 1, 0, 0, 0, 0, 0, 1, 0], 0., 1, 0.),\n",
       "           ([0, 0, 1, 0, 0, 0, 1, 0, 1, 0, 0, 0, 0, 0, 1, 0, 0, 0, 1, 0], 0., 1, 0.),\n",
       "           ([0, 0, 1, 0, 0, 1, 0, 0, 0, 0, 1, 0, 0, 0, 1, 0, 0, 0, 1, 0], 0., 1, 0.),\n",
       "           ([0, 1, 0, 0, 0, 0, 0, 1, 0, 0, 1, 0, 0, 0, 0, 1, 1, 0, 0, 0], 0., 1, 0.),\n",
       "           ([1, 0, 0, 0, 0, 0, 0, 1, 0, 1, 0, 0, 0, 0, 0, 1, 0, 0, 0, 1], 0., 1, 0.),\n",
       "           ([0, 1, 0, 0, 0, 1, 0, 0, 0, 0, 1, 0, 0, 1, 0, 0, 1, 0, 0, 0], 0., 2, 0.),\n",
       "           ([0, 0, 1, 0, 1, 0, 0, 0, 0, 1, 0, 0, 0, 1, 0, 0, 0, 0, 0, 1], 0., 1, 0.),\n",
       "           ([0, 1, 0, 0, 0, 0, 1, 0, 0, 0, 0, 1, 1, 0, 0, 0, 0, 0, 1, 0], 0., 1, 0.),\n",
       "           ([0, 1, 0, 0, 0, 1, 0, 0, 0, 0, 1, 0, 0, 0, 1, 0, 0, 0, 1, 0], 0., 1, 0.),\n",
       "           ([1, 0, 0, 0, 0, 0, 0, 1, 0, 0, 0, 1, 1, 0, 0, 0, 0, 0, 0, 1], 0., 1, 0.),\n",
       "           ([0, 0, 0, 1, 0, 1, 0, 0, 1, 0, 0, 0, 0, 0, 0, 1, 0, 0, 0, 1], 0., 2, 0.),\n",
       "           ([0, 1, 0, 0, 0, 1, 0, 0, 0, 0, 1, 0, 0, 1, 0, 0, 0, 1, 0, 0], 0., 4, 0.),\n",
       "           ([0, 1, 0, 0, 0, 0, 1, 0, 1, 0, 0, 0, 1, 0, 0, 0, 0, 1, 0, 0], 0., 1, 0.),\n",
       "           ([0, 1, 0, 0, 1, 0, 0, 0, 0, 0, 0, 1, 1, 0, 0, 0, 0, 1, 0, 0], 0., 3, 0.),\n",
       "           ([0, 0, 0, 1, 0, 0, 0, 1, 0, 0, 0, 1, 1, 0, 0, 0, 1, 0, 0, 0], 0., 1, 0.),\n",
       "           ([0, 0, 0, 1, 1, 0, 0, 0, 0, 1, 0, 0, 0, 0, 1, 0, 0, 0, 0, 1], 0., 2, 0.),\n",
       "           ([1, 0, 0, 0, 1, 0, 0, 0, 0, 0, 0, 1, 0, 0, 0, 1, 1, 0, 0, 0], 0., 2, 0.),\n",
       "           ([1, 0, 0, 0, 1, 0, 0, 0, 1, 0, 0, 0, 0, 0, 1, 0, 1, 0, 0, 0], 0., 2, 0.),\n",
       "           ([0, 0, 1, 0, 1, 0, 0, 0, 0, 0, 0, 1, 1, 0, 0, 0, 0, 1, 0, 0], 0., 1, 0.),\n",
       "           ([1, 0, 0, 0, 0, 0, 1, 0, 0, 1, 0, 0, 1, 0, 0, 0, 0, 1, 0, 0], 0., 1, 0.),\n",
       "           ([0, 0, 0, 1, 0, 0, 1, 0, 0, 0, 1, 0, 1, 0, 0, 0, 0, 0, 1, 0], 0., 3, 0.),\n",
       "           ([1, 0, 0, 0, 0, 0, 1, 0, 0, 1, 0, 0, 0, 1, 0, 0, 0, 0, 0, 1], 0., 3, 0.),\n",
       "           ([0, 0, 1, 0, 0, 1, 0, 0, 0, 1, 0, 0, 0, 0, 0, 1, 1, 0, 0, 0], 0., 1, 0.),\n",
       "           ([0, 0, 1, 0, 0, 1, 0, 0, 1, 0, 0, 0, 0, 0, 0, 1, 1, 0, 0, 0], 0., 1, 0.),\n",
       "           ([0, 0, 0, 1, 1, 0, 0, 0, 0, 1, 0, 0, 0, 0, 1, 0, 1, 0, 0, 0], 0., 1, 0.),\n",
       "           ([1, 0, 0, 0, 0, 0, 1, 0, 0, 1, 0, 0, 0, 0, 0, 1, 0, 0, 0, 1], 0., 5, 0.),\n",
       "           ([1, 0, 0, 0, 0, 0, 0, 1, 0, 0, 0, 1, 1, 0, 0, 0, 0, 1, 0, 0], 0., 3, 0.),\n",
       "           ([0, 0, 0, 1, 0, 0, 0, 1, 0, 0, 0, 1, 0, 1, 0, 0, 0, 1, 0, 0], 0., 1, 0.),\n",
       "           ([0, 0, 0, 1, 0, 1, 0, 0, 0, 0, 1, 0, 0, 1, 0, 0, 1, 0, 0, 0], 0., 1, 0.),\n",
       "           ([0, 0, 0, 1, 1, 0, 0, 0, 1, 0, 0, 0, 1, 0, 0, 0, 0, 1, 0, 0], 0., 2, 0.),\n",
       "           ([0, 0, 1, 0, 1, 0, 0, 0, 0, 1, 0, 0, 0, 0, 0, 1, 1, 0, 0, 0], 0., 1, 0.),\n",
       "           ([0, 0, 0, 1, 0, 0, 1, 0, 0, 0, 0, 1, 1, 0, 0, 0, 0, 1, 0, 0], 0., 2, 0.),\n",
       "           ([0, 0, 0, 1, 0, 0, 1, 0, 0, 1, 0, 0, 0, 1, 0, 0, 1, 0, 0, 0], 0., 2, 0.),\n",
       "           ([0, 1, 0, 0, 0, 0, 0, 1, 0, 0, 0, 1, 0, 1, 0, 0, 0, 0, 1, 0], 0., 1, 0.),\n",
       "           ([0, 1, 0, 0, 0, 0, 0, 1, 0, 0, 1, 0, 0, 0, 0, 1, 0, 0, 1, 0], 0., 2, 0.),\n",
       "           ([0, 1, 0, 0, 0, 0, 0, 1, 0, 1, 0, 0, 0, 1, 0, 0, 1, 0, 0, 0], 0., 2, 0.),\n",
       "           ([0, 0, 1, 0, 0, 0, 0, 1, 1, 0, 0, 0, 0, 0, 0, 1, 1, 0, 0, 0], 0., 1, 0.),\n",
       "           ([1, 0, 0, 0, 0, 1, 0, 0, 0, 0, 1, 0, 0, 1, 0, 0, 0, 0, 1, 0], 0., 1, 0.),\n",
       "           ([0, 0, 0, 1, 0, 1, 0, 0, 1, 0, 0, 0, 0, 0, 1, 0, 0, 0, 1, 0], 0., 1, 0.),\n",
       "           ([0, 1, 0, 0, 1, 0, 0, 0, 1, 0, 0, 0, 0, 0, 1, 0, 1, 0, 0, 0], 0., 2, 0.),\n",
       "           ([1, 0, 0, 0, 1, 0, 0, 0, 0, 0, 1, 0, 0, 1, 0, 0, 1, 0, 0, 0], 0., 1, 0.),\n",
       "           ([0, 1, 0, 0, 1, 0, 0, 0, 0, 0, 1, 0, 0, 0, 1, 0, 0, 0, 0, 1], 0., 1, 0.),\n",
       "           ([0, 0, 1, 0, 0, 0, 0, 1, 0, 0, 0, 1, 0, 1, 0, 0, 0, 1, 0, 0], 0., 1, 0.),\n",
       "           ([0, 0, 0, 1, 0, 0, 0, 1, 0, 0, 1, 0, 1, 0, 0, 0, 0, 0, 0, 1], 0., 2, 0.),\n",
       "           ([1, 0, 0, 0, 0, 0, 0, 1, 1, 0, 0, 0, 1, 0, 0, 0, 0, 0, 1, 0], 0., 3, 0.),\n",
       "           ([0, 0, 1, 0, 1, 0, 0, 0, 0, 1, 0, 0, 0, 0, 0, 1, 0, 0, 1, 0], 0., 1, 0.),\n",
       "           ([0, 1, 0, 0, 0, 0, 1, 0, 0, 0, 0, 1, 0, 0, 0, 1, 1, 0, 0, 0], 0., 2, 0.),\n",
       "           ([0, 1, 0, 0, 0, 0, 0, 1, 0, 0, 0, 1, 0, 1, 0, 0, 0, 1, 0, 0], 0., 1, 0.),\n",
       "           ([0, 0, 1, 0, 0, 0, 0, 1, 1, 0, 0, 0, 0, 0, 1, 0, 0, 1, 0, 0], 0., 1, 0.),\n",
       "           ([0, 0, 1, 0, 1, 0, 0, 0, 1, 0, 0, 0, 0, 0, 0, 1, 1, 0, 0, 0], 0., 1, 0.),\n",
       "           ([1, 0, 0, 0, 0, 0, 0, 1, 0, 1, 0, 0, 0, 1, 0, 0, 0, 0, 1, 0], 0., 1, 0.),\n",
       "           ([0, 0, 0, 1, 0, 0, 1, 0, 0, 0, 1, 0, 0, 0, 1, 0, 1, 0, 0, 0], 0., 1, 0.),\n",
       "           ([1, 0, 0, 0, 0, 1, 0, 0, 0, 0, 1, 0, 0, 1, 0, 0, 0, 1, 0, 0], 0., 2, 0.),\n",
       "           ([0, 0, 1, 0, 1, 0, 0, 0, 0, 1, 0, 0, 1, 0, 0, 0, 0, 0, 1, 0], 0., 1, 0.),\n",
       "           ([0, 0, 1, 0, 1, 0, 0, 0, 0, 0, 1, 0, 0, 0, 0, 1, 0, 0, 0, 1], 0., 1, 0.),\n",
       "           ([0, 0, 0, 1, 0, 0, 1, 0, 0, 1, 0, 0, 0, 0, 1, 0, 0, 0, 1, 0], 0., 2, 0.),\n",
       "           ([0, 1, 0, 0, 0, 1, 0, 0, 0, 1, 0, 0, 0, 0, 1, 0, 0, 1, 0, 0], 0., 2, 0.),\n",
       "           ([0, 1, 0, 0, 0, 1, 0, 0, 1, 0, 0, 0, 0, 0, 1, 0, 1, 0, 0, 0], 0., 3, 0.),\n",
       "           ([0, 0, 1, 0, 0, 0, 0, 1, 0, 1, 0, 0, 0, 0, 1, 0, 1, 0, 0, 0], 0., 1, 0.),\n",
       "           ([0, 1, 0, 0, 1, 0, 0, 0, 0, 0, 1, 0, 1, 0, 0, 0, 0, 1, 0, 0], 0., 2, 0.),\n",
       "           ([0, 0, 0, 1, 0, 0, 0, 1, 0, 0, 0, 1, 0, 1, 0, 0, 0, 0, 0, 1], 0., 1, 0.),\n",
       "           ([0, 1, 0, 0, 1, 0, 0, 0, 0, 0, 0, 1, 0, 0, 0, 1, 1, 0, 0, 0], 0., 2, 0.),\n",
       "           ([1, 0, 0, 0, 0, 0, 1, 0, 0, 0, 1, 0, 0, 0, 0, 1, 0, 1, 0, 0], 0., 2, 0.),\n",
       "           ([0, 1, 0, 0, 0, 0, 1, 0, 0, 1, 0, 0, 0, 0, 0, 1, 0, 1, 0, 0], 0., 3, 0.),\n",
       "           ([0, 1, 0, 0, 1, 0, 0, 0, 0, 0, 1, 0, 0, 1, 0, 0, 0, 0, 0, 1], 0., 1, 0.),\n",
       "           ([0, 0, 0, 1, 0, 1, 0, 0, 0, 0, 0, 1, 0, 0, 1, 0, 0, 1, 0, 0], 0., 2, 0.),\n",
       "           ([0, 1, 0, 0, 0, 1, 0, 0, 0, 0, 0, 1, 0, 1, 0, 0, 0, 1, 0, 0], 0., 1, 0.),\n",
       "           ([0, 0, 0, 1, 0, 0, 1, 0, 1, 0, 0, 0, 1, 0, 0, 0, 0, 0, 0, 1], 0., 1, 0.),\n",
       "           ([0, 0, 1, 0, 0, 0, 1, 0, 0, 1, 0, 0, 0, 0, 0, 1, 0, 0, 1, 0], 0., 2, 0.),\n",
       "           ([0, 1, 0, 0, 1, 0, 0, 0, 1, 0, 0, 0, 1, 0, 0, 0, 0, 0, 0, 1], 0., 1, 0.),\n",
       "           ([0, 1, 0, 0, 1, 0, 0, 0, 0, 1, 0, 0, 0, 0, 1, 0, 0, 1, 0, 0], 0., 3, 0.),\n",
       "           ([0, 0, 1, 0, 0, 1, 0, 0, 0, 0, 1, 0, 0, 0, 1, 0, 0, 0, 0, 1], 0., 1, 0.),\n",
       "           ([0, 0, 0, 1, 0, 0, 0, 1, 0, 0, 1, 0, 0, 0, 0, 1, 1, 0, 0, 0], 0., 1, 0.),\n",
       "           ([0, 0, 0, 1, 0, 0, 1, 0, 0, 0, 1, 0, 0, 0, 0, 1, 0, 0, 1, 0], 0., 2, 0.),\n",
       "           ([1, 0, 0, 0, 0, 0, 1, 0, 0, 0, 1, 0, 0, 1, 0, 0, 0, 1, 0, 0], 0., 6, 0.),\n",
       "           ([0, 0, 0, 1, 0, 1, 0, 0, 0, 0, 1, 0, 0, 1, 0, 0, 0, 1, 0, 0], 0., 1, 0.),\n",
       "           ([0, 0, 1, 0, 0, 1, 0, 0, 0, 0, 1, 0, 1, 0, 0, 0, 0, 0, 0, 1], 0., 2, 0.),\n",
       "           ([0, 0, 0, 1, 0, 0, 0, 1, 0, 0, 1, 0, 0, 0, 1, 0, 0, 1, 0, 0], 0., 1, 0.),\n",
       "           ([0, 0, 1, 0, 0, 0, 1, 0, 0, 1, 0, 0, 0, 1, 0, 0, 1, 0, 0, 0], 0., 4, 0.),\n",
       "           ([0, 0, 0, 1, 1, 0, 0, 0, 1, 0, 0, 0, 0, 0, 1, 0, 0, 0, 0, 1], 0., 1, 0.),\n",
       "           ([0, 1, 0, 0, 0, 0, 0, 1, 0, 0, 1, 0, 0, 0, 1, 0, 0, 1, 0, 0], 0., 1, 0.),\n",
       "           ([0, 1, 0, 0, 0, 0, 1, 0, 0, 0, 0, 1, 1, 0, 0, 0, 1, 0, 0, 0], 0., 1, 0.),\n",
       "           ([1, 0, 0, 0, 1, 0, 0, 0, 1, 0, 0, 0, 1, 0, 0, 0, 0, 1, 0, 0], 0., 2, 0.),\n",
       "           ([0, 0, 1, 0, 1, 0, 0, 0, 0, 1, 0, 0, 0, 0, 1, 0, 0, 1, 0, 0], 0., 1, 0.),\n",
       "           ([0, 0, 1, 0, 0, 0, 1, 0, 0, 1, 0, 0, 1, 0, 0, 0, 0, 0, 1, 0], 0., 1, 0.),\n",
       "           ([0, 1, 0, 0, 0, 0, 0, 1, 0, 0, 0, 1, 0, 0, 0, 1, 0, 1, 0, 0], 0., 2, 0.),\n",
       "           ([0, 0, 0, 1, 1, 0, 0, 0, 1, 0, 0, 0, 1, 0, 0, 0, 0, 0, 1, 0], 0., 2, 0.),\n",
       "           ([0, 1, 0, 0, 1, 0, 0, 0, 0, 0, 1, 0, 0, 0, 0, 1, 0, 0, 1, 0], 0., 1, 0.),\n",
       "           ([0, 0, 1, 0, 0, 0, 1, 0, 0, 0, 1, 0, 0, 0, 1, 0, 1, 0, 0, 0], 0., 2, 0.),\n",
       "           ([0, 0, 0, 1, 0, 1, 0, 0, 0, 1, 0, 0, 1, 0, 0, 0, 0, 0, 1, 0], 0., 2, 0.),\n",
       "           ([0, 0, 1, 0, 0, 0, 1, 0, 0, 0, 0, 1, 0, 0, 0, 1, 0, 0, 0, 1], 0., 1, 0.),\n",
       "           ([0, 1, 0, 0, 0, 0, 0, 1, 0, 1, 0, 0, 0, 0, 1, 0, 1, 0, 0, 0], 0., 1, 0.),\n",
       "           ([0, 1, 0, 0, 0, 0, 0, 1, 1, 0, 0, 0, 0, 0, 0, 1, 0, 0, 0, 1], 0., 2, 0.),\n",
       "           ([0, 1, 0, 0, 1, 0, 0, 0, 0, 1, 0, 0, 1, 0, 0, 0, 0, 0, 1, 0], 0., 1, 0.),\n",
       "           ([1, 0, 0, 0, 1, 0, 0, 0, 0, 0, 0, 1, 0, 1, 0, 0, 0, 1, 0, 0], 0., 2, 0.),\n",
       "           ([0, 0, 1, 0, 0, 0, 1, 0, 0, 0, 1, 0, 0, 1, 0, 0, 0, 1, 0, 0], 0., 4, 0.),\n",
       "           ([1, 0, 0, 0, 0, 0, 0, 1, 0, 0, 0, 1, 0, 0, 1, 0, 0, 1, 0, 0], 0., 1, 0.),\n",
       "           ([0, 1, 0, 0, 1, 0, 0, 0, 0, 0, 0, 1, 0, 0, 0, 1, 0, 0, 1, 0], 0., 1, 0.),\n",
       "           ([1, 0, 0, 0, 0, 0, 0, 1, 0, 1, 0, 0, 0, 1, 0, 0, 0, 0, 0, 1], 0., 2, 0.),\n",
       "           ([0, 0, 1, 0, 0, 1, 0, 0, 0, 0, 1, 0, 0, 0, 0, 1, 0, 1, 0, 0], 0., 2, 0.),\n",
       "           ([1, 0, 0, 0, 0, 0, 1, 0, 0, 0, 1, 0, 1, 0, 0, 0, 0, 1, 0, 0], 0., 2, 0.),\n",
       "           ([0, 1, 0, 0, 0, 1, 0, 0, 1, 0, 0, 0, 0, 0, 1, 0, 0, 1, 0, 0], 0., 1, 0.),\n",
       "           ([0, 0, 0, 1, 0, 0, 0, 1, 0, 0, 1, 0, 1, 0, 0, 0, 0, 1, 0, 0], 0., 1, 0.),\n",
       "           ([0, 0, 0, 1, 0, 0, 0, 1, 0, 1, 0, 0, 0, 0, 1, 0, 0, 0, 0, 1], 0., 1, 0.),\n",
       "           ([0, 0, 1, 0, 1, 0, 0, 0, 1, 0, 0, 0, 0, 0, 0, 1, 0, 0, 1, 0], 0., 1, 0.),\n",
       "           ([1, 0, 0, 0, 0, 0, 0, 1, 1, 0, 0, 0, 0, 0, 1, 0, 0, 1, 0, 0], 0., 2, 0.),\n",
       "           ([0, 0, 0, 1, 0, 1, 0, 0, 0, 1, 0, 0, 0, 0, 0, 1, 0, 0, 1, 0], 0., 3, 0.),\n",
       "           ([1, 0, 0, 0, 1, 0, 0, 0, 0, 1, 0, 0, 0, 0, 0, 1, 0, 0, 0, 1], 0., 2, 0.),\n",
       "           ([0, 0, 0, 1, 1, 0, 0, 0, 1, 0, 0, 0, 0, 0, 1, 0, 0, 1, 0, 0], 0., 1, 0.),\n",
       "           ([0, 1, 0, 0, 0, 0, 1, 0, 0, 1, 0, 0, 0, 0, 1, 0, 0, 0, 1, 0], 0., 1, 0.),\n",
       "           ([0, 0, 1, 0, 0, 0, 0, 1, 0, 0, 1, 0, 0, 0, 1, 0, 0, 0, 0, 1], 0., 1, 0.),\n",
       "           ([0, 0, 0, 1, 0, 1, 0, 0, 0, 0, 1, 0, 0, 1, 0, 0, 0, 0, 0, 1], 0., 1, 0.),\n",
       "           ([0, 0, 0, 1, 0, 0, 1, 0, 0, 0, 1, 0, 0, 1, 0, 0, 0, 0, 0, 1], 0., 1, 0.),\n",
       "           ([0, 1, 0, 0, 0, 0, 0, 1, 0, 0, 0, 1, 0, 0, 1, 0, 0, 0, 1, 0], 0., 2, 0.),\n",
       "           ([0, 1, 0, 0, 1, 0, 0, 0, 0, 0, 1, 0, 0, 0, 0, 1, 0, 0, 0, 1], 0., 1, 0.),\n",
       "           ([0, 0, 1, 0, 1, 0, 0, 0, 0, 1, 0, 0, 1, 0, 0, 0, 1, 0, 0, 0], 0., 1, 0.),\n",
       "           ([0, 0, 1, 0, 1, 0, 0, 0, 0, 1, 0, 0, 0, 1, 0, 0, 1, 0, 0, 0], 0., 1, 0.),\n",
       "           ([0, 1, 0, 0, 0, 0, 0, 1, 0, 1, 0, 0, 0, 1, 0, 0, 0, 0, 1, 0], 0., 2, 0.),\n",
       "           ([0, 1, 0, 0, 0, 0, 0, 1, 0, 0, 1, 0, 0, 0, 1, 0, 0, 0, 1, 0], 0., 1, 0.),\n",
       "           ([1, 0, 0, 0, 0, 1, 0, 0, 0, 0, 0, 1, 0, 0, 1, 0, 1, 0, 0, 0], 0., 2, 0.),\n",
       "           ([1, 0, 0, 0, 0, 0, 1, 0, 1, 0, 0, 0, 1, 0, 0, 0, 1, 0, 0, 0], 0., 1, 0.),\n",
       "           ([0, 1, 0, 0, 0, 0, 1, 0, 0, 0, 0, 1, 1, 0, 0, 0, 0, 0, 0, 1], 0., 1, 0.),\n",
       "           ([0, 1, 0, 0, 1, 0, 0, 0, 1, 0, 0, 0, 0, 0, 1, 0, 0, 0, 1, 0], 0., 1, 0.),\n",
       "           ([0, 0, 0, 1, 1, 0, 0, 0, 0, 0, 0, 1, 1, 0, 0, 0, 0, 0, 1, 0], 0., 1, 0.),\n",
       "           ([0, 1, 0, 0, 0, 0, 1, 0, 0, 1, 0, 0, 1, 0, 0, 0, 1, 0, 0, 0], 0., 2, 0.),\n",
       "           ([0, 0, 0, 1, 0, 0, 0, 1, 0, 0, 0, 1, 0, 0, 1, 0, 0, 0, 0, 1], 0., 1, 0.),\n",
       "           ([1, 0, 0, 0, 1, 0, 0, 0, 1, 0, 0, 0, 0, 0, 0, 1, 0, 0, 1, 0], 0., 2, 0.),\n",
       "           ([0, 0, 1, 0, 0, 1, 0, 0, 1, 0, 0, 0, 0, 0, 0, 1, 0, 0, 1, 0], 0., 3, 0.),\n",
       "           ([1, 0, 0, 0, 0, 0, 0, 1, 0, 1, 0, 0, 0, 0, 0, 1, 0, 0, 1, 0], 0., 2, 0.),\n",
       "           ([0, 1, 0, 0, 0, 0, 1, 0, 0, 0, 1, 0, 0, 0, 0, 1, 0, 0, 0, 1], 0., 1, 0.),\n",
       "           ([0, 0, 0, 1, 0, 0, 1, 0, 0, 0, 1, 0, 0, 0, 0, 1, 0, 1, 0, 0], 0., 1, 0.),\n",
       "           ([1, 0, 0, 0, 1, 0, 0, 0, 0, 1, 0, 0, 0, 1, 0, 0, 0, 0, 0, 1], 0., 2, 0.),\n",
       "           ([0, 0, 1, 0, 0, 0, 0, 1, 0, 0, 0, 1, 0, 0, 0, 1, 0, 0, 0, 1], 0., 1, 0.),\n",
       "           ([0, 0, 1, 0, 0, 0, 1, 0, 0, 0, 0, 1, 0, 1, 0, 0, 0, 0, 0, 1], 0., 2, 0.),\n",
       "           ([0, 1, 0, 0, 0, 0, 0, 1, 0, 1, 0, 0, 0, 0, 1, 0, 0, 0, 0, 1], 0., 1, 0.),\n",
       "           ([0, 0, 1, 0, 0, 1, 0, 0, 0, 0, 0, 1, 0, 0, 0, 1, 0, 0, 1, 0], 0., 1, 0.),\n",
       "           ([0, 0, 0, 1, 0, 0, 0, 1, 0, 1, 0, 0, 0, 0, 0, 1, 0, 0, 1, 0], 0., 1, 0.),\n",
       "           ([0, 0, 1, 0, 0, 0, 1, 0, 0, 0, 0, 1, 0, 0, 0, 1, 1, 0, 0, 0], 0., 1, 0.),\n",
       "           ([1, 0, 0, 0, 0, 0, 1, 0, 0, 1, 0, 0, 0, 1, 0, 0, 0, 0, 1, 0], 0., 2, 0.),\n",
       "           ([0, 0, 1, 0, 0, 0, 0, 1, 0, 0, 0, 1, 0, 0, 0, 1, 0, 1, 0, 0], 0., 2, 0.),\n",
       "           ([0, 0, 0, 1, 0, 0, 0, 1, 1, 0, 0, 0, 0, 1, 0, 0, 1, 0, 0, 0], 0., 1, 0.),\n",
       "           ([1, 0, 0, 0, 0, 1, 0, 0, 0, 0, 1, 0, 0, 1, 0, 0, 0, 0, 0, 1], 0., 1, 0.),\n",
       "           ([0, 0, 1, 0, 0, 0, 0, 1, 0, 0, 1, 0, 1, 0, 0, 0, 0, 1, 0, 0], 0., 1, 0.),\n",
       "           ([0, 0, 1, 0, 0, 0, 0, 1, 0, 1, 0, 0, 0, 1, 0, 0, 0, 0, 1, 0], 0., 2, 0.),\n",
       "           ([0, 0, 1, 0, 0, 1, 0, 0, 0, 0, 0, 1, 0, 1, 0, 0, 0, 0, 0, 1], 0., 1, 0.),\n",
       "           ([0, 1, 0, 0, 1, 0, 0, 0, 0, 0, 1, 0, 1, 0, 0, 0, 0, 0, 1, 0], 0., 1, 0.),\n",
       "           ([1, 0, 0, 0, 0, 0, 1, 0, 0, 1, 0, 0, 1, 0, 0, 0, 0, 0, 1, 0], 0., 1, 0.),\n",
       "           ([0, 0, 1, 0, 0, 1, 0, 0, 0, 0, 0, 1, 0, 0, 1, 0, 0, 0, 1, 0], 0., 1, 0.),\n",
       "           ([0, 0, 0, 1, 0, 1, 0, 0, 0, 1, 0, 0, 0, 0, 0, 1, 0, 1, 0, 0], 0., 1, 0.),\n",
       "           ([1, 0, 0, 0, 0, 1, 0, 0, 0, 0, 0, 1, 0, 1, 0, 0, 1, 0, 0, 0], 0., 1, 0.),\n",
       "           ([0, 0, 0, 1, 0, 0, 0, 1, 0, 1, 0, 0, 0, 1, 0, 0, 0, 1, 0, 0], 0., 1, 0.),\n",
       "           ([0, 0, 1, 0, 1, 0, 0, 0, 0, 0, 1, 0, 0, 0, 0, 1, 1, 0, 0, 0], 0., 2, 0.),\n",
       "           ([0, 0, 0, 1, 0, 0, 1, 0, 0, 0, 0, 1, 0, 0, 0, 1, 1, 0, 0, 0], 0., 1, 0.),\n",
       "           ([0, 0, 1, 0, 1, 0, 0, 0, 1, 0, 0, 0, 0, 1, 0, 0, 0, 1, 0, 0], 0., 1, 0.),\n",
       "           ([0, 0, 0, 1, 1, 0, 0, 0, 0, 0, 0, 1, 1, 0, 0, 0, 0, 1, 0, 0], 0., 1, 0.),\n",
       "           ([1, 0, 0, 0, 1, 0, 0, 0, 0, 0, 1, 0, 0, 0, 0, 1, 1, 0, 0, 0], 0., 1, 0.),\n",
       "           ([0, 0, 0, 1, 0, 1, 0, 0, 0, 0, 1, 0, 0, 0, 1, 0, 1, 0, 0, 0], 0., 1, 0.),\n",
       "           ([1, 0, 0, 0, 0, 0, 1, 0, 0, 0, 0, 1, 0, 0, 0, 1, 0, 0, 1, 0], 0., 3, 0.),\n",
       "           ([0, 0, 1, 0, 0, 0, 1, 0, 0, 0, 0, 1, 0, 0, 0, 1, 0, 0, 1, 0], 0., 1, 0.),\n",
       "           ([0, 0, 0, 1, 0, 0, 0, 1, 0, 1, 0, 0, 1, 0, 0, 0, 0, 1, 0, 0], 0., 3, 0.),\n",
       "           ([0, 0, 0, 1, 0, 1, 0, 0, 1, 0, 0, 0, 0, 1, 0, 0, 0, 0, 0, 1], 0., 2, 0.),\n",
       "           ([0, 0, 0, 1, 0, 1, 0, 0, 0, 0, 0, 1, 0, 0, 1, 0, 0, 0, 0, 1], 0., 1, 0.),\n",
       "           ([0, 0, 0, 1, 1, 0, 0, 0, 0, 1, 0, 0, 0, 1, 0, 0, 0, 0, 0, 1], 0., 2, 0.),\n",
       "           ([0, 0, 1, 0, 0, 0, 0, 1, 0, 1, 0, 0, 0, 0, 0, 1, 1, 0, 0, 0], 0., 1, 0.),\n",
       "           ([0, 0, 0, 1, 0, 0, 0, 1, 0, 0, 1, 0, 1, 0, 0, 0, 0, 0, 1, 0], 0., 1, 0.),\n",
       "           ([0, 0, 1, 0, 0, 1, 0, 0, 1, 0, 0, 0, 0, 0, 1, 0, 0, 1, 0, 0], 0., 3, 0.),\n",
       "           ([0, 0, 0, 1, 0, 1, 0, 0, 0, 0, 1, 0, 0, 0, 1, 0, 0, 0, 1, 0], 0., 1, 0.),\n",
       "           ([0, 0, 0, 1, 0, 0, 0, 1, 1, 0, 0, 0, 0, 0, 1, 0, 1, 0, 0, 0], 0., 1, 0.),\n",
       "           ([1, 0, 0, 0, 0, 0, 0, 1, 0, 0, 1, 0, 0, 1, 0, 0, 0, 1, 0, 0], 0., 2, 0.),\n",
       "           ([0, 0, 0, 1, 0, 0, 1, 0, 0, 0, 1, 0, 0, 0, 1, 0, 0, 1, 0, 0], 0., 3, 0.),\n",
       "           ([0, 0, 1, 0, 1, 0, 0, 0, 0, 0, 0, 1, 0, 0, 0, 1, 1, 0, 0, 0], 0., 3, 0.),\n",
       "           ([0, 1, 0, 0, 0, 0, 1, 0, 1, 0, 0, 0, 0, 1, 0, 0, 0, 1, 0, 0], 0., 2, 0.),\n",
       "           ([1, 0, 0, 0, 0, 0, 0, 1, 1, 0, 0, 0, 0, 1, 0, 0, 0, 0, 1, 0], 0., 1, 0.),\n",
       "           ([1, 0, 0, 0, 0, 0, 0, 1, 0, 0, 1, 0, 0, 0, 1, 0, 0, 0, 1, 0], 0., 1, 0.),\n",
       "           ([0, 0, 1, 0, 0, 0, 1, 0, 0, 0, 1, 0, 0, 0, 0, 1, 0, 0, 0, 1], 0., 1, 0.),\n",
       "           ([1, 0, 0, 0, 1, 0, 0, 0, 1, 0, 0, 0, 0, 0, 0, 1, 0, 0, 0, 1], 0., 1, 0.),\n",
       "           ([0, 1, 0, 0, 1, 0, 0, 0, 0, 1, 0, 0, 0, 1, 0, 0, 1, 0, 0, 0], 0., 1, 0.),\n",
       "           ([0, 0, 0, 1, 0, 0, 0, 1, 0, 0, 0, 1, 0, 0, 0, 1, 0, 1, 0, 0], 0., 4, 0.),\n",
       "           ([0, 0, 0, 1, 0, 0, 0, 1, 0, 1, 0, 0, 1, 0, 0, 0, 1, 0, 0, 0], 0., 1, 0.),\n",
       "           ([0, 0, 0, 1, 1, 0, 0, 0, 0, 0, 1, 0, 0, 1, 0, 0, 0, 1, 0, 0], 0., 1, 0.),\n",
       "           ([0, 1, 0, 0, 1, 0, 0, 0, 1, 0, 0, 0, 0, 0, 1, 0, 0, 0, 0, 1], 0., 1, 0.),\n",
       "           ([0, 0, 0, 1, 1, 0, 0, 0, 1, 0, 0, 0, 1, 0, 0, 0, 1, 0, 0, 0], 0., 2, 0.),\n",
       "           ([1, 0, 0, 0, 0, 1, 0, 0, 1, 0, 0, 0, 1, 0, 0, 0, 0, 1, 0, 0], 0., 1, 0.),\n",
       "           ([0, 0, 1, 0, 0, 0, 0, 1, 1, 0, 0, 0, 0, 1, 0, 0, 0, 0, 0, 1], 0., 1, 0.),\n",
       "           ([0, 0, 0, 1, 0, 0, 1, 0, 0, 0, 0, 1, 0, 0, 1, 0, 0, 1, 0, 0], 0., 1, 0.),\n",
       "           ([1, 0, 0, 0, 1, 0, 0, 0, 0, 1, 0, 0, 1, 0, 0, 0, 0, 0, 1, 0], 0., 1, 0.),\n",
       "           ([0, 0, 1, 0, 0, 1, 0, 0, 1, 0, 0, 0, 1, 0, 0, 0, 0, 0, 1, 0], 0., 3, 0.),\n",
       "           ([0, 1, 0, 0, 1, 0, 0, 0, 1, 0, 0, 0, 0, 0, 0, 1, 0, 0, 0, 1], 0., 1, 0.),\n",
       "           ([1, 0, 0, 0, 1, 0, 0, 0, 0, 0, 0, 1, 0, 0, 0, 1, 0, 0, 0, 1], 0., 1, 0.),\n",
       "           ([0, 0, 0, 1, 0, 0, 1, 0, 1, 0, 0, 0, 1, 0, 0, 0, 1, 0, 0, 0], 0., 2, 0.),\n",
       "           ([0, 1, 0, 0, 1, 0, 0, 0, 0, 1, 0, 0, 0, 0, 1, 0, 1, 0, 0, 0], 0., 1, 0.),\n",
       "           ([0, 0, 0, 1, 0, 0, 0, 1, 0, 0, 0, 1, 0, 0, 0, 1, 1, 0, 0, 0], 0., 3, 0.),\n",
       "           ([0, 1, 0, 0, 0, 0, 1, 0, 0, 0, 1, 0, 0, 1, 0, 0, 0, 0, 0, 1], 0., 2, 0.),\n",
       "           ([0, 1, 0, 0, 0, 1, 0, 0, 0, 1, 0, 0, 0, 0, 0, 1, 0, 0, 0, 1], 0., 2, 0.),\n",
       "           ([0, 0, 0, 1, 0, 0, 0, 1, 0, 0, 0, 1, 0, 0, 1, 0, 1, 0, 0, 0], 0., 3, 0.),\n",
       "           ([0, 0, 1, 0, 1, 0, 0, 0, 1, 0, 0, 0, 0, 1, 0, 0, 0, 0, 1, 0], 0., 1, 0.),\n",
       "           ([0, 0, 1, 0, 1, 0, 0, 0, 0, 0, 1, 0, 1, 0, 0, 0, 1, 0, 0, 0], 0., 4, 0.),\n",
       "           ([1, 0, 0, 0, 1, 0, 0, 0, 0, 0, 1, 0, 0, 0, 0, 1, 0, 1, 0, 0], 0., 4, 0.),\n",
       "           ([0, 0, 1, 0, 0, 1, 0, 0, 0, 1, 0, 0, 0, 1, 0, 0, 0, 0, 0, 1], 0., 1, 0.),\n",
       "           ([0, 0, 1, 0, 0, 0, 1, 0, 0, 0, 1, 0, 0, 0, 0, 1, 0, 1, 0, 0], 0., 1, 0.),\n",
       "           ([0, 0, 1, 0, 1, 0, 0, 0, 1, 0, 0, 0, 0, 0, 1, 0, 0, 0, 0, 1], 0., 1, 0.),\n",
       "           ([0, 0, 1, 0, 0, 0, 1, 0, 0, 1, 0, 0, 0, 0, 0, 1, 0, 1, 0, 0], 0., 3, 0.),\n",
       "           ([0, 0, 0, 1, 1, 0, 0, 0, 0, 0, 0, 1, 0, 0, 0, 1, 0, 0, 0, 1], 0., 1, 0.),\n",
       "           ([0, 0, 0, 1, 0, 0, 0, 1, 0, 0, 1, 0, 0, 0, 0, 1, 0, 0, 1, 0], 0., 1, 0.),\n",
       "           ([1, 0, 0, 0, 0, 0, 0, 1, 0, 0, 0, 1, 0, 1, 0, 0, 0, 0, 1, 0], 0., 1, 0.),\n",
       "           ([0, 1, 0, 0, 1, 0, 0, 0, 1, 0, 0, 0, 0, 0, 0, 1, 1, 0, 0, 0], 0., 2, 0.),\n",
       "           ([0, 1, 0, 0, 1, 0, 0, 0, 0, 1, 0, 0, 1, 0, 0, 0, 0, 0, 0, 1], 0., 1, 0.),\n",
       "           ([0, 1, 0, 0, 0, 0, 0, 1, 0, 1, 0, 0, 1, 0, 0, 0, 0, 0, 1, 0], 0., 1, 0.),\n",
       "           ([0, 1, 0, 0, 0, 0, 0, 1, 0, 1, 0, 0, 1, 0, 0, 0, 1, 0, 0, 0], 0., 1, 0.),\n",
       "           ([1, 0, 0, 0, 0, 1, 0, 0, 0, 0, 1, 0, 1, 0, 0, 0, 1, 0, 0, 0], 0., 1, 0.),\n",
       "           ([0, 0, 1, 0, 0, 0, 0, 1, 0, 0, 0, 1, 0, 0, 0, 1, 0, 0, 1, 0], 0., 1, 0.),\n",
       "           ([0, 0, 1, 0, 0, 0, 1, 0, 0, 0, 1, 0, 0, 1, 0, 0, 0, 0, 1, 0], 0., 2, 0.),\n",
       "           ([1, 0, 0, 0, 0, 0, 0, 1, 1, 0, 0, 0, 0, 0, 0, 1, 1, 0, 0, 0], 0., 1, 0.),\n",
       "           ([0, 1, 0, 0, 1, 0, 0, 0, 0, 1, 0, 0, 0, 0, 0, 1, 0, 0, 1, 0], 0., 1, 0.),\n",
       "           ([0, 1, 0, 0, 0, 0, 1, 0, 0, 1, 0, 0, 1, 0, 0, 0, 0, 0, 1, 0], 0., 2, 0.),\n",
       "           ([0, 1, 0, 0, 0, 1, 0, 0, 0, 1, 0, 0, 0, 0, 0, 1, 0, 0, 1, 0], 0., 2, 0.),\n",
       "           ([0, 1, 0, 0, 0, 0, 0, 1, 0, 0, 1, 0, 0, 1, 0, 0, 0, 0, 1, 0], 0., 1, 0.),\n",
       "           ([1, 0, 0, 0, 0, 1, 0, 0, 1, 0, 0, 0, 0, 1, 0, 0, 0, 0, 0, 1], 0., 1, 0.),\n",
       "           ([1, 0, 0, 0, 1, 0, 0, 0, 0, 0, 0, 1, 1, 0, 0, 0, 0, 0, 1, 0], 0., 1, 0.),\n",
       "           ([0, 0, 0, 1, 1, 0, 0, 0, 0, 1, 0, 0, 1, 0, 0, 0, 0, 0, 1, 0], 0., 2, 0.),\n",
       "           ([0, 0, 1, 0, 0, 0, 1, 0, 0, 0, 0, 1, 0, 0, 1, 0, 1, 0, 0, 0], 0., 1, 0.),\n",
       "           ([0, 0, 1, 0, 1, 0, 0, 0, 1, 0, 0, 0, 1, 0, 0, 0, 0, 0, 0, 1], 0., 1, 0.),\n",
       "           ([0, 0, 0, 1, 1, 0, 0, 0, 0, 0, 0, 1, 0, 0, 0, 1, 0, 0, 1, 0], 0., 1, 0.),\n",
       "           ([0, 0, 1, 0, 0, 0, 0, 1, 1, 0, 0, 0, 1, 0, 0, 0, 0, 1, 0, 0], 0., 1, 0.),\n",
       "           ([0, 0, 0, 1, 0, 0, 1, 0, 1, 0, 0, 0, 0, 0, 0, 1, 0, 1, 0, 0], 0., 2, 0.),\n",
       "           ([0, 0, 1, 0, 0, 0, 0, 1, 0, 0, 1, 0, 0, 1, 0, 0, 0, 1, 0, 0], 0., 1, 0.),\n",
       "           ([0, 1, 0, 0, 0, 1, 0, 0, 0, 1, 0, 0, 0, 0, 0, 1, 1, 0, 0, 0], 0., 1, 0.),\n",
       "           ([0, 1, 0, 0, 1, 0, 0, 0, 0, 0, 0, 1, 0, 0, 1, 0, 0, 0, 1, 0], 0., 1, 0.),\n",
       "           ([0, 0, 0, 1, 0, 0, 1, 0, 0, 0, 1, 0, 0, 1, 0, 0, 1, 0, 0, 0], 0., 1, 0.),\n",
       "           ([0, 0, 1, 0, 0, 0, 1, 0, 0, 1, 0, 0, 0, 0, 0, 1, 0, 0, 0, 1], 0., 2, 0.),\n",
       "           ([0, 0, 1, 0, 0, 0, 1, 0, 0, 0, 0, 1, 0, 1, 0, 0, 0, 1, 0, 0], 0., 3, 0.),\n",
       "           ([1, 0, 0, 0, 0, 0, 0, 1, 1, 0, 0, 0, 0, 0, 0, 1, 0, 1, 0, 0], 0., 2, 0.),\n",
       "           ([0, 0, 1, 0, 0, 0, 0, 1, 0, 1, 0, 0, 1, 0, 0, 0, 0, 0, 0, 1], 0., 1, 0.),\n",
       "           ([0, 0, 0, 1, 0, 0, 0, 1, 0, 1, 0, 0, 0, 1, 0, 0, 0, 0, 0, 1], 0., 1, 0.),\n",
       "           ([0, 0, 0, 1, 0, 1, 0, 0, 1, 0, 0, 0, 0, 0, 1, 0, 0, 0, 0, 1], 0., 1, 0.),\n",
       "           ([0, 0, 1, 0, 0, 0, 0, 1, 1, 0, 0, 0, 0, 0, 1, 0, 1, 0, 0, 0], 0., 1, 0.),\n",
       "           ([1, 0, 0, 0, 0, 0, 1, 0, 0, 0, 0, 1, 0, 0, 1, 0, 0, 0, 0, 1], 0., 1, 0.),\n",
       "           ([0, 1, 0, 0, 0, 1, 0, 0, 0, 0, 0, 1, 0, 0, 0, 1, 0, 1, 0, 0], 0., 2, 0.),\n",
       "           ([0, 0, 0, 1, 1, 0, 0, 0, 0, 0, 1, 0, 0, 0, 1, 0, 1, 0, 0, 0], 0., 1, 0.),\n",
       "           ([0, 1, 0, 0, 0, 0, 1, 0, 0, 0, 0, 1, 0, 1, 0, 0, 0, 1, 0, 0], 0., 1, 0.),\n",
       "           ([0, 0, 0, 1, 0, 0, 0, 1, 0, 0, 1, 0, 0, 0, 1, 0, 0, 0, 0, 1], 0., 1, 0.),\n",
       "           ([1, 0, 0, 0, 0, 0, 0, 1, 0, 0, 1, 0, 1, 0, 0, 0, 0, 0, 0, 1], 0., 1, 0.),\n",
       "           ([0, 0, 1, 0, 0, 0, 0, 1, 1, 0, 0, 0, 0, 0, 1, 0, 0, 0, 0, 1], 0., 1, 0.),\n",
       "           ([1, 0, 0, 0, 0, 0, 1, 0, 0, 0, 1, 0, 0, 0, 1, 0, 0, 1, 0, 0], 0., 2, 0.),\n",
       "           ([1, 0, 0, 0, 0, 0, 1, 0, 1, 0, 0, 0, 0, 1, 0, 0, 0, 0, 1, 0], 0., 1, 0.),\n",
       "           ([1, 0, 0, 0, 0, 0, 1, 0, 0, 1, 0, 0, 0, 0, 0, 1, 1, 0, 0, 0], 0., 2, 0.),\n",
       "           ([0, 0, 0, 1, 0, 0, 0, 1, 1, 0, 0, 0, 0, 1, 0, 0, 0, 0, 1, 0], 0., 1, 0.),\n",
       "           ([0, 0, 0, 1, 0, 1, 0, 0, 0, 1, 0, 0, 0, 0, 0, 1, 1, 0, 0, 0], 0., 1, 0.),\n",
       "           ([1, 0, 0, 0, 0, 1, 0, 0, 0, 0, 0, 1, 0, 0, 0, 1, 0, 0, 1, 0], 0., 2, 0.),\n",
       "           ([0, 0, 1, 0, 0, 0, 1, 0, 1, 0, 0, 0, 0, 0, 1, 0, 0, 0, 0, 1], 0., 1, 0.),\n",
       "           ([0, 0, 0, 1, 1, 0, 0, 0, 0, 1, 0, 0, 0, 0, 0, 1, 1, 0, 0, 0], 0., 3, 0.),\n",
       "           ([1, 0, 0, 0, 0, 0, 0, 1, 0, 0, 1, 0, 0, 1, 0, 0, 0, 0, 0, 1], 0., 3, 0.),\n",
       "           ([0, 0, 0, 1, 0, 0, 1, 0, 0, 0, 0, 1, 0, 1, 0, 0, 0, 1, 0, 0], 0., 2, 0.),\n",
       "           ([0, 0, 1, 0, 0, 0, 0, 1, 0, 0, 0, 1, 0, 0, 1, 0, 0, 0, 1, 0], 0., 1, 0.),\n",
       "           ([1, 0, 0, 0, 1, 0, 0, 0, 0, 0, 1, 0, 0, 0, 1, 0, 1, 0, 0, 0], 0., 2, 0.),\n",
       "           ([0, 0, 1, 0, 0, 0, 1, 0, 0, 1, 0, 0, 0, 0, 1, 0, 1, 0, 0, 0], 0., 1, 0.),\n",
       "           ([0, 1, 0, 0, 1, 0, 0, 0, 0, 1, 0, 0, 0, 0, 0, 1, 1, 0, 0, 0], 0., 1, 0.),\n",
       "           ([0, 1, 0, 0, 0, 1, 0, 0, 0, 0, 0, 1, 0, 0, 0, 1, 0, 0, 1, 0], 0., 3, 0.),\n",
       "           ([0, 0, 0, 1, 0, 0, 0, 1, 1, 0, 0, 0, 0, 1, 0, 0, 0, 0, 0, 1], 0., 2, 0.),\n",
       "           ([0, 0, 0, 1, 1, 0, 0, 0, 0, 0, 1, 0, 0, 0, 1, 0, 0, 0, 1, 0], 0., 2, 0.),\n",
       "           ([0, 0, 0, 1, 0, 1, 0, 0, 0, 1, 0, 0, 1, 0, 0, 0, 0, 0, 0, 1], 0., 1, 0.),\n",
       "           ([0, 0, 1, 0, 0, 0, 0, 1, 0, 0, 0, 1, 1, 0, 0, 0, 0, 0, 1, 0], 0., 1, 0.),\n",
       "           ([1, 0, 0, 0, 0, 0, 1, 0, 0, 0, 1, 0, 1, 0, 0, 0, 1, 0, 0, 0], 0., 5, 0.),\n",
       "           ([0, 0, 0, 1, 1, 0, 0, 0, 0, 1, 0, 0, 0, 0, 1, 0, 0, 1, 0, 0], 0., 1, 0.),\n",
       "           ([0, 1, 0, 0, 0, 0, 0, 1, 0, 0, 1, 0, 0, 0, 0, 1, 0, 0, 0, 1], 0., 2, 0.),\n",
       "           ([0, 0, 0, 1, 0, 1, 0, 0, 0, 0, 0, 1, 0, 0, 0, 1, 0, 1, 0, 0], 0., 2, 0.),\n",
       "           ([0, 1, 0, 0, 0, 0, 0, 1, 1, 0, 0, 0, 0, 0, 1, 0, 0, 1, 0, 0], 0., 1, 0.),\n",
       "           ([0, 1, 0, 0, 0, 0, 1, 0, 0, 0, 0, 1, 0, 0, 0, 1, 0, 0, 0, 1], 0., 1, 0.),\n",
       "           ([0, 1, 0, 0, 0, 0, 1, 0, 0, 0, 0, 1, 1, 0, 0, 0, 0, 1, 0, 0], 0., 4, 0.),\n",
       "           ([0, 0, 1, 0, 0, 0, 0, 1, 0, 1, 0, 0, 1, 0, 0, 0, 0, 1, 0, 0], 0., 2, 0.),\n",
       "           ([0, 0, 1, 0, 0, 0, 1, 0, 0, 1, 0, 0, 0, 1, 0, 0, 0, 1, 0, 0], 0., 1, 0.),\n",
       "           ([0, 1, 0, 0, 0, 0, 0, 1, 0, 0, 0, 1, 0, 0, 1, 0, 0, 0, 0, 1], 0., 1, 0.),\n",
       "           ([0, 0, 0, 1, 0, 1, 0, 0, 0, 0, 1, 0, 1, 0, 0, 0, 0, 0, 0, 1], 0., 3, 0.),\n",
       "           ([1, 0, 0, 0, 0, 1, 0, 0, 0, 1, 0, 0, 0, 0, 1, 0, 0, 0, 1, 0], 0., 2, 0.),\n",
       "           ([1, 0, 0, 0, 0, 0, 0, 1, 0, 0, 1, 0, 0, 0, 1, 0, 0, 0, 0, 1], 0., 1, 0.),\n",
       "           ([0, 1, 0, 0, 0, 1, 0, 0, 1, 0, 0, 0, 1, 0, 0, 0, 1, 0, 0, 0], 0., 1, 0.),\n",
       "           ([0, 0, 0, 1, 0, 0, 0, 1, 0, 1, 0, 0, 1, 0, 0, 0, 0, 0, 0, 1], 0., 2, 0.),\n",
       "           ([1, 0, 0, 0, 1, 0, 0, 0, 0, 0, 0, 1, 0, 0, 0, 1, 0, 0, 1, 0], 0., 2, 0.),\n",
       "           ([0, 0, 0, 1, 0, 0, 1, 0, 0, 0, 1, 0, 1, 0, 0, 0, 0, 1, 0, 0], 0., 2, 0.),\n",
       "           ([0, 1, 0, 0, 0, 0, 1, 0, 1, 0, 0, 0, 1, 0, 0, 0, 1, 0, 0, 0], 0., 1, 0.),\n",
       "           ([0, 0, 1, 0, 0, 0, 1, 0, 0, 0, 1, 0, 0, 0, 1, 0, 0, 1, 0, 0], 0., 1, 0.),\n",
       "           ([0, 0, 1, 0, 0, 0, 1, 0, 0, 1, 0, 0, 0, 1, 0, 0, 0, 0, 0, 1], 0., 3, 0.),\n",
       "           ([0, 0, 1, 0, 0, 0, 1, 0, 0, 1, 0, 0, 0, 1, 0, 0, 0, 0, 1, 0], 0., 1, 0.),\n",
       "           ([0, 0, 0, 1, 0, 0, 0, 1, 0, 0, 0, 1, 1, 0, 0, 0, 0, 1, 0, 0], 0., 2, 0.),\n",
       "           ([0, 1, 0, 0, 0, 1, 0, 0, 0, 1, 0, 0, 1, 0, 0, 0, 1, 0, 0, 0], 0., 1, 0.),\n",
       "           ([0, 0, 1, 0, 0, 0, 0, 1, 1, 0, 0, 0, 0, 1, 0, 0, 0, 1, 0, 0], 0., 1, 0.),\n",
       "           ([1, 0, 0, 0, 1, 0, 0, 0, 0, 0, 1, 0, 1, 0, 0, 0, 1, 0, 0, 0], 0., 2, 0.),\n",
       "           ([1, 0, 0, 0, 1, 0, 0, 0, 0, 1, 0, 0, 0, 1, 0, 0, 0, 1, 0, 0], 0., 3, 0.),\n",
       "           ([0, 1, 0, 0, 0, 0, 0, 1, 0, 0, 0, 1, 0, 0, 0, 1, 0, 0, 1, 0], 0., 1, 0.),\n",
       "           ([0, 1, 0, 0, 0, 0, 1, 0, 0, 1, 0, 0, 1, 0, 0, 0, 0, 1, 0, 0], 0., 1, 0.),\n",
       "           ([1, 0, 0, 0, 1, 0, 0, 0, 1, 0, 0, 0, 1, 0, 0, 0, 0, 0, 0, 1], 0., 1, 0.),\n",
       "           ([1, 0, 0, 0, 0, 1, 0, 0, 0, 0, 1, 0, 1, 0, 0, 0, 0, 0, 1, 0], 0., 2, 0.),\n",
       "           ([0, 0, 0, 1, 1, 0, 0, 0, 0, 0, 1, 0, 1, 0, 0, 0, 0, 0, 1, 0], 0., 3, 0.),\n",
       "           ([1, 0, 0, 0, 1, 0, 0, 0, 0, 1, 0, 0, 0, 0, 0, 1, 0, 0, 1, 0], 0., 3, 0.),\n",
       "           ([1, 0, 0, 0, 0, 0, 0, 1, 1, 0, 0, 0, 0, 1, 0, 0, 0, 1, 0, 0], 0., 1, 0.),\n",
       "           ([0, 1, 0, 0, 0, 0, 1, 0, 0, 0, 1, 0, 1, 0, 0, 0, 0, 0, 0, 1], 0., 4, 0.),\n",
       "           ([0, 0, 1, 0, 0, 0, 1, 0, 1, 0, 0, 0, 0, 0, 1, 0, 0, 1, 0, 0], 0., 2, 0.),\n",
       "           ([1, 0, 0, 0, 0, 0, 1, 0, 0, 0, 0, 1, 0, 0, 0, 1, 1, 0, 0, 0], 0., 4, 0.),\n",
       "           ([0, 0, 1, 0, 1, 0, 0, 0, 0, 0, 1, 0, 0, 0, 0, 1, 0, 0, 1, 0], 0., 1, 0.),\n",
       "           ([1, 0, 0, 0, 0, 0, 0, 1, 0, 0, 1, 0, 0, 0, 0, 1, 0, 0, 0, 1], 0., 2, 0.),\n",
       "           ([0, 0, 1, 0, 0, 0, 1, 0, 1, 0, 0, 0, 0, 0, 0, 1, 0, 1, 0, 0], 0., 2, 0.),\n",
       "           ([0, 0, 1, 0, 0, 1, 0, 0, 0, 1, 0, 0, 0, 1, 0, 0, 0, 0, 1, 0], 0., 2, 0.),\n",
       "           ([0, 0, 1, 0, 0, 1, 0, 0, 0, 0, 0, 1, 1, 0, 0, 0, 0, 0, 0, 1], 0., 1, 0.),\n",
       "           ([0, 1, 0, 0, 0, 0, 1, 0, 0, 1, 0, 0, 0, 0, 1, 0, 0, 0, 0, 1], 0., 2, 0.),\n",
       "           ([0, 1, 0, 0, 0, 0, 1, 0, 0, 1, 0, 0, 0, 0, 1, 0, 0, 1, 0, 0], 0., 2, 0.),\n",
       "           ([0, 0, 1, 0, 0, 0, 0, 1, 0, 0, 0, 1, 1, 0, 0, 0, 0, 0, 0, 1], 0., 1, 0.),\n",
       "           ([0, 0, 0, 1, 0, 0, 1, 0, 1, 0, 0, 0, 0, 0, 0, 1, 1, 0, 0, 0], 0., 2, 0.),\n",
       "           ([0, 0, 0, 1, 0, 1, 0, 0, 0, 0, 0, 1, 0, 1, 0, 0, 0, 0, 1, 0], 0., 3, 0.),\n",
       "           ([0, 0, 0, 1, 0, 1, 0, 0, 0, 1, 0, 0, 0, 0, 1, 0, 0, 0, 0, 1], 0., 1, 0.),\n",
       "           ([0, 1, 0, 0, 0, 0, 1, 0, 1, 0, 0, 0, 1, 0, 0, 0, 0, 0, 0, 1], 0., 1, 0.),\n",
       "           ([1, 0, 0, 0, 0, 0, 1, 0, 0, 0, 0, 1, 1, 0, 0, 0, 1, 0, 0, 0], 0., 1, 0.),\n",
       "           ([0, 1, 0, 0, 0, 0, 1, 0, 0, 1, 0, 0, 0, 1, 0, 0, 0, 1, 0, 0], 0., 1, 0.),\n",
       "           ([0, 0, 0, 1, 0, 1, 0, 0, 1, 0, 0, 0, 0, 0, 1, 0, 1, 0, 0, 0], 0., 1, 0.),\n",
       "           ([0, 0, 0, 1, 0, 0, 1, 0, 0, 0, 1, 0, 1, 0, 0, 0, 1, 0, 0, 0], 0., 2, 0.),\n",
       "           ([0, 0, 0, 1, 0, 0, 1, 0, 0, 0, 1, 0, 0, 0, 1, 0, 0, 0, 0, 1], 0., 3, 0.),\n",
       "           ([1, 0, 0, 0, 0, 0, 1, 0, 1, 0, 0, 0, 0, 0, 1, 0, 0, 0, 1, 0], 0., 2, 0.),\n",
       "           ([0, 0, 0, 1, 1, 0, 0, 0, 0, 1, 0, 0, 0, 0, 0, 1, 0, 1, 0, 0], 0., 4, 0.),\n",
       "           ([1, 0, 0, 0, 1, 0, 0, 0, 0, 1, 0, 0, 0, 0, 1, 0, 0, 0, 0, 1], 0., 4, 0.),\n",
       "           ([0, 0, 0, 1, 0, 0, 1, 0, 0, 1, 0, 0, 0, 0, 0, 1, 0, 1, 0, 0], 0., 2, 0.),\n",
       "           ([0, 1, 0, 0, 0, 0, 1, 0, 0, 0, 1, 0, 0, 0, 1, 0, 1, 0, 0, 0], 0., 3, 0.),\n",
       "           ([0, 1, 0, 0, 0, 0, 0, 1, 0, 0, 1, 0, 1, 0, 0, 0, 0, 1, 0, 0], 0., 1, 0.),\n",
       "           ([1, 0, 0, 0, 0, 0, 1, 0, 0, 0, 0, 1, 0, 1, 0, 0, 1, 0, 0, 0], 0., 3, 0.),\n",
       "           ([0, 1, 0, 0, 1, 0, 0, 0, 1, 0, 0, 0, 0, 0, 0, 1, 0, 1, 0, 0], 0., 2, 0.),\n",
       "           ([0, 0, 1, 0, 1, 0, 0, 0, 1, 0, 0, 0, 0, 0, 1, 0, 1, 0, 0, 0], 0., 2, 0.),\n",
       "           ([0, 1, 0, 0, 1, 0, 0, 0, 0, 1, 0, 0, 0, 0, 1, 0, 0, 0, 0, 1], 0., 1, 0.),\n",
       "           ([0, 0, 1, 0, 0, 0, 0, 1, 0, 1, 0, 0, 1, 0, 0, 0, 0, 0, 1, 0], 0., 2, 0.),\n",
       "           ([0, 0, 0, 1, 0, 0, 1, 0, 0, 0, 1, 0, 0, 0, 1, 0, 0, 0, 1, 0], 0., 1, 0.),\n",
       "           ([1, 0, 0, 0, 0, 1, 0, 0, 0, 1, 0, 0, 0, 1, 0, 0, 0, 0, 1, 0], 0., 1, 0.),\n",
       "           ([0, 0, 0, 1, 1, 0, 0, 0, 0, 0, 1, 0, 1, 0, 0, 0, 1, 0, 0, 0], 0., 2, 0.),\n",
       "           ([0, 1, 0, 0, 0, 1, 0, 0, 0, 0, 0, 1, 1, 0, 0, 0, 0, 0, 1, 0], 0., 4, 0.),\n",
       "           ([0, 0, 0, 1, 0, 0, 1, 0, 0, 0, 0, 1, 0, 0, 0, 1, 0, 1, 0, 0], 0., 1, 0.),\n",
       "           ([1, 0, 0, 0, 0, 0, 0, 1, 0, 0, 1, 0, 0, 0, 0, 1, 0, 0, 1, 0], 0., 1, 0.),\n",
       "           ([0, 0, 0, 1, 0, 0, 1, 0, 0, 0, 0, 1, 0, 0, 1, 0, 0, 0, 1, 0], 0., 1, 0.),\n",
       "           ([0, 1, 0, 0, 0, 0, 1, 0, 1, 0, 0, 0, 0, 0, 0, 1, 1, 0, 0, 0], 0., 3, 0.),\n",
       "           ([0, 1, 0, 0, 0, 0, 1, 0, 0, 0, 1, 0, 1, 0, 0, 0, 1, 0, 0, 0], 0., 1, 0.),\n",
       "           ([0, 0, 1, 0, 0, 0, 0, 1, 0, 1, 0, 0, 0, 0, 0, 1, 0, 0, 1, 0], 0., 1, 0.),\n",
       "           ([1, 0, 0, 0, 0, 0, 1, 0, 0, 0, 1, 0, 1, 0, 0, 0, 0, 0, 0, 1], 0., 2, 0.),\n",
       "           ([0, 1, 0, 0, 1, 0, 0, 0, 0, 0, 0, 1, 1, 0, 0, 0, 1, 0, 0, 0], 0., 2, 0.),\n",
       "           ([1, 0, 0, 0, 1, 0, 0, 0, 1, 0, 0, 0, 0, 0, 0, 1, 1, 0, 0, 0], 0., 4, 0.),\n",
       "           ([1, 0, 0, 0, 0, 1, 0, 0, 0, 0, 1, 0, 0, 0, 0, 1, 1, 0, 0, 0], 0., 2, 0.),\n",
       "           ([0, 1, 0, 0, 1, 0, 0, 0, 0, 1, 0, 0, 0, 1, 0, 0, 0, 0, 1, 0], 0., 1, 0.),\n",
       "           ([0, 0, 0, 1, 1, 0, 0, 0, 0, 1, 0, 0, 0, 0, 0, 1, 0, 0, 1, 0], 0., 2, 0.),\n",
       "           ([0, 1, 0, 0, 0, 0, 1, 0, 0, 1, 0, 0, 0, 0, 0, 1, 0, 0, 0, 1], 0., 3, 0.),\n",
       "           ([0, 0, 1, 0, 0, 0, 1, 0, 0, 0, 1, 0, 1, 0, 0, 0, 0, 1, 0, 0], 0., 1, 0.),\n",
       "           ([0, 0, 1, 0, 0, 1, 0, 0, 0, 1, 0, 0, 0, 1, 0, 0, 1, 0, 0, 0], 0., 1, 0.),\n",
       "           ([0, 1, 0, 0, 0, 1, 0, 0, 0, 1, 0, 0, 0, 1, 0, 0, 1, 0, 0, 0], 0., 1, 0.),\n",
       "           ([1, 0, 0, 0, 0, 0, 1, 0, 1, 0, 0, 0, 1, 0, 0, 0, 0, 0, 0, 1], 0., 1, 0.),\n",
       "           ([1, 0, 0, 0, 0, 0, 1, 0, 0, 1, 0, 0, 0, 0, 0, 1, 0, 1, 0, 0], 0., 2, 0.),\n",
       "           ([0, 0, 0, 1, 1, 0, 0, 0, 0, 0, 0, 1, 0, 0, 1, 0, 0, 0, 1, 0], 0., 1, 0.),\n",
       "           ([0, 1, 0, 0, 0, 0, 1, 0, 1, 0, 0, 0, 0, 1, 0, 0, 1, 0, 0, 0], 0., 1, 0.),\n",
       "           ([0, 1, 0, 0, 0, 0, 0, 1, 0, 1, 0, 0, 0, 0, 0, 1, 0, 1, 0, 0], 0., 1, 0.),\n",
       "           ([0, 0, 0, 1, 0, 0, 1, 0, 0, 1, 0, 0, 1, 0, 0, 0, 1, 0, 0, 0], 0., 5, 0.),\n",
       "           ([0, 0, 0, 1, 0, 1, 0, 0, 1, 0, 0, 0, 0, 0, 0, 1, 0, 1, 0, 0], 0., 4, 0.),\n",
       "           ([0, 0, 0, 1, 1, 0, 0, 0, 0, 0, 0, 1, 0, 0, 0, 1, 0, 1, 0, 0], 0., 2, 0.),\n",
       "           ([0, 1, 0, 0, 1, 0, 0, 0, 0, 0, 1, 0, 1, 0, 0, 0, 0, 0, 0, 1], 0., 2, 0.),\n",
       "           ([1, 0, 0, 0, 1, 0, 0, 0, 0, 0, 1, 0, 0, 0, 1, 0, 0, 0, 1, 0], 0., 1, 0.),\n",
       "           ([0, 0, 1, 0, 0, 0, 1, 0, 0, 0, 0, 1, 1, 0, 0, 0, 0, 1, 0, 0], 0., 1, 0.),\n",
       "           ([0, 0, 1, 0, 0, 0, 1, 0, 1, 0, 0, 0, 0, 0, 1, 0, 1, 0, 0, 0], 0., 1, 0.),\n",
       "           ([1, 0, 0, 0, 0, 0, 1, 0, 1, 0, 0, 0, 0, 0, 0, 1, 0, 0, 0, 1], 0., 2, 0.),\n",
       "           ([0, 0, 1, 0, 0, 0, 1, 0, 0, 0, 1, 0, 0, 1, 0, 0, 0, 0, 0, 1], 0., 1, 0.),\n",
       "           ([1, 0, 0, 0, 0, 1, 0, 0, 0, 1, 0, 0, 0, 0, 0, 1, 0, 0, 0, 1], 0., 1, 0.),\n",
       "           ([0, 0, 1, 0, 0, 0, 1, 0, 1, 0, 0, 0, 0, 1, 0, 0, 0, 0, 1, 0], 0., 1, 0.),\n",
       "           ([0, 1, 0, 0, 0, 0, 0, 1, 1, 0, 0, 0, 0, 1, 0, 0, 0, 0, 1, 0], 0., 3, 0.),\n",
       "           ([1, 0, 0, 0, 0, 1, 0, 0, 0, 0, 0, 1, 1, 0, 0, 0, 1, 0, 0, 0], 0., 1, 0.),\n",
       "           ([0, 0, 0, 1, 0, 0, 0, 1, 1, 0, 0, 0, 0, 0, 0, 1, 0, 0, 1, 0], 0., 1, 0.),\n",
       "           ([1, 0, 0, 0, 1, 0, 0, 0, 1, 0, 0, 0, 0, 0, 1, 0, 0, 1, 0, 0], 0., 2, 0.),\n",
       "           ([0, 0, 0, 1, 0, 0, 0, 1, 0, 0, 1, 0, 0, 0, 0, 1, 0, 0, 0, 1], 0., 5, 0.),\n",
       "           ([0, 0, 1, 0, 0, 0, 0, 1, 1, 0, 0, 0, 0, 0, 0, 1, 0, 1, 0, 0], 0., 1, 0.),\n",
       "           ([0, 1, 0, 0, 0, 0, 1, 0, 0, 1, 0, 0, 0, 0, 0, 1, 0, 0, 1, 0], 0., 1, 0.),\n",
       "           ([0, 0, 0, 1, 0, 0, 0, 1, 0, 0, 1, 0, 0, 1, 0, 0, 0, 0, 0, 1], 0., 3, 0.),\n",
       "           ([0, 0, 0, 1, 0, 0, 1, 0, 0, 1, 0, 0, 0, 0, 0, 1, 0, 0, 0, 1], 0., 2, 0.),\n",
       "           ([0, 0, 1, 0, 0, 0, 0, 1, 0, 1, 0, 0, 0, 0, 0, 1, 0, 0, 0, 1], 0., 1, 0.),\n",
       "           ([0, 0, 1, 0, 1, 0, 0, 0, 1, 0, 0, 0, 1, 0, 0, 0, 0, 1, 0, 0], 0., 1, 0.),\n",
       "           ([1, 0, 0, 0, 0, 1, 0, 0, 0, 0, 1, 0, 0, 0, 1, 0, 0, 0, 1, 0], 0., 1, 0.),\n",
       "           ([0, 1, 0, 0, 0, 0, 0, 1, 0, 1, 0, 0, 0, 1, 0, 0, 0, 0, 0, 1], 0., 2, 0.),\n",
       "           ([0, 1, 0, 0, 0, 0, 1, 0, 0, 0, 1, 0, 0, 1, 0, 0, 0, 1, 0, 0], 0., 3, 0.),\n",
       "           ([0, 1, 0, 0, 0, 0, 0, 1, 1, 0, 0, 0, 1, 0, 0, 0, 0, 0, 0, 1], 0., 1, 0.),\n",
       "           ([0, 0, 1, 0, 0, 0, 1, 0, 0, 1, 0, 0, 0, 0, 0, 1, 1, 0, 0, 0], 0., 2, 0.),\n",
       "           ([0, 0, 0, 1, 0, 1, 0, 0, 1, 0, 0, 0, 0, 0, 0, 1, 1, 0, 0, 0], 0., 1, 0.),\n",
       "           ([0, 1, 0, 0, 1, 0, 0, 0, 0, 1, 0, 0, 0, 0, 0, 1, 0, 0, 0, 1], 0., 2, 0.),\n",
       "           ([0, 0, 1, 0, 0, 1, 0, 0, 0, 0, 1, 0, 0, 0, 0, 1, 0, 0, 0, 1], 0., 1, 0.),\n",
       "           ([1, 0, 0, 0, 0, 0, 0, 1, 0, 0, 0, 1, 0, 0, 0, 1, 1, 0, 0, 0], 0., 1, 0.),\n",
       "           ([0, 1, 0, 0, 0, 0, 0, 1, 0, 0, 1, 0, 0, 1, 0, 0, 1, 0, 0, 0], 0., 2, 0.),\n",
       "           ([0, 1, 0, 0, 0, 0, 1, 0, 0, 0, 0, 1, 0, 0, 0, 1, 0, 1, 0, 0], 0., 2, 0.),\n",
       "           ([0, 1, 0, 0, 1, 0, 0, 0, 0, 0, 0, 1, 0, 1, 0, 0, 0, 1, 0, 0], 0., 1, 0.),\n",
       "           ([0, 1, 0, 0, 0, 0, 1, 0, 1, 0, 0, 0, 0, 0, 1, 0, 0, 1, 0, 0], 0., 2, 0.),\n",
       "           ([0, 1, 0, 0, 1, 0, 0, 0, 0, 0, 1, 0, 0, 1, 0, 0, 1, 0, 0, 0], 0., 1, 0.),\n",
       "           ([0, 0, 1, 0, 0, 0, 1, 0, 0, 1, 0, 0, 1, 0, 0, 0, 1, 0, 0, 0], 0., 1, 0.),\n",
       "           ([0, 0, 0, 1, 1, 0, 0, 0, 1, 0, 0, 0, 0, 0, 0, 1, 1, 0, 0, 0], 0., 1, 0.),\n",
       "           ([0, 0, 1, 0, 0, 0, 1, 0, 0, 1, 0, 0, 1, 0, 0, 0, 0, 0, 0, 1], 0., 1, 0.),\n",
       "           ([0, 0, 1, 0, 0, 0, 1, 0, 0, 1, 0, 0, 1, 0, 0, 0, 0, 1, 0, 0], 0., 3, 0.),\n",
       "           ([0, 0, 1, 0, 0, 0, 1, 0, 0, 0, 0, 1, 0, 1, 0, 0, 1, 0, 0, 0], 0., 1, 0.),\n",
       "           ([1, 0, 0, 0, 0, 1, 0, 0, 1, 0, 0, 0, 0, 0, 0, 1, 1, 0, 0, 0], 0., 1, 0.),\n",
       "           ([0, 0, 1, 0, 0, 1, 0, 0, 1, 0, 0, 0, 0, 1, 0, 0, 0, 0, 1, 0], 0., 1, 0.),\n",
       "           ([1, 0, 0, 0, 0, 0, 0, 1, 0, 1, 0, 0, 0, 0, 0, 1, 1, 0, 0, 0], 0., 1, 0.),\n",
       "           ([0, 1, 0, 0, 0, 0, 0, 1, 0, 0, 1, 0, 1, 0, 0, 0, 1, 0, 0, 0], 0., 1, 0.),\n",
       "           ([1, 0, 0, 0, 0, 0, 0, 1, 1, 0, 0, 0, 0, 0, 1, 0, 1, 0, 0, 0], 0., 2, 0.),\n",
       "           ([0, 0, 0, 1, 0, 1, 0, 0, 1, 0, 0, 0, 1, 0, 0, 0, 0, 1, 0, 0], 0., 2, 0.),\n",
       "           ([0, 1, 0, 0, 1, 0, 0, 0, 0, 0, 0, 1, 0, 0, 0, 1, 0, 1, 0, 0], 0., 2, 0.),\n",
       "           ([1, 0, 0, 0, 0, 0, 1, 0, 0, 1, 0, 0, 0, 1, 0, 0, 0, 1, 0, 0], 0., 1, 0.),\n",
       "           ([1, 0, 0, 0, 0, 0, 1, 0, 1, 0, 0, 0, 0, 1, 0, 0, 0, 0, 0, 1], 0., 1, 0.),\n",
       "           ([0, 0, 0, 1, 0, 1, 0, 0, 0, 0, 0, 1, 0, 1, 0, 0, 0, 1, 0, 0], 0., 2, 0.),\n",
       "           ([0, 0, 0, 1, 0, 0, 1, 0, 0, 1, 0, 0, 1, 0, 0, 0, 0, 0, 1, 0], 0., 2, 0.),\n",
       "           ([1, 0, 0, 0, 0, 1, 0, 0, 0, 1, 0, 0, 1, 0, 0, 0, 0, 1, 0, 0], 0., 1, 0.),\n",
       "           ([1, 0, 0, 0, 0, 0, 0, 1, 0, 0, 1, 0, 0, 0, 1, 0, 0, 1, 0, 0], 0., 1, 0.),\n",
       "           ([0, 0, 0, 1, 0, 0, 0, 1, 0, 0, 0, 1, 0, 0, 1, 0, 0, 1, 0, 0], 0., 1, 0.),\n",
       "           ([0, 1, 0, 0, 0, 1, 0, 0, 0, 0, 1, 0, 0, 0, 0, 1, 0, 0, 0, 1], 0., 1, 0.),\n",
       "           ([0, 0, 0, 1, 0, 0, 0, 1, 0, 0, 1, 0, 0, 0, 1, 0, 1, 0, 0, 0], 0., 1, 0.),\n",
       "           ([0, 1, 0, 0, 1, 0, 0, 0, 1, 0, 0, 0, 0, 1, 0, 0, 0, 0, 1, 0], 0., 1, 0.),\n",
       "           ([0, 0, 1, 0, 0, 1, 0, 0, 0, 0, 1, 0, 0, 0, 0, 1, 1, 0, 0, 0], 0., 2, 0.),\n",
       "           ([0, 1, 0, 0, 0, 0, 0, 1, 1, 0, 0, 0, 1, 0, 0, 0, 1, 0, 0, 0], 0., 2, 0.),\n",
       "           ([1, 0, 0, 0, 0, 0, 0, 1, 0, 1, 0, 0, 1, 0, 0, 0, 0, 0, 1, 0], 0., 1, 0.),\n",
       "           ([0, 1, 0, 0, 0, 0, 1, 0, 0, 0, 1, 0, 0, 0, 0, 1, 0, 0, 1, 0], 0., 1, 0.),\n",
       "           ([0, 0, 1, 0, 0, 0, 1, 0, 0, 1, 0, 0, 0, 0, 1, 0, 0, 0, 0, 1], 0., 5, 0.),\n",
       "           ([0, 0, 0, 1, 0, 0, 1, 0, 0, 0, 0, 1, 0, 0, 1, 0, 0, 0, 0, 1], 0., 1, 0.),\n",
       "           ([0, 1, 0, 0, 1, 0, 0, 0, 0, 1, 0, 0, 0, 1, 0, 0, 0, 0, 0, 1], 0., 1, 0.),\n",
       "           ([0, 0, 0, 1, 0, 0, 1, 0, 0, 1, 0, 0, 0, 0, 0, 1, 0, 0, 1, 0], 0., 3, 0.),\n",
       "           ([0, 0, 0, 1, 1, 0, 0, 0, 0, 0, 1, 0, 0, 1, 0, 0, 1, 0, 0, 0], 0., 1, 0.),\n",
       "           ([0, 0, 0, 1, 0, 0, 1, 0, 0, 0, 0, 1, 1, 0, 0, 0, 0, 0, 1, 0], 0., 5, 0.),\n",
       "           ([1, 0, 0, 0, 1, 0, 0, 0, 0, 1, 0, 0, 0, 0, 0, 1, 0, 1, 0, 0], 0., 1, 0.),\n",
       "           ([0, 0, 1, 0, 0, 1, 0, 0, 0, 0, 0, 1, 0, 0, 1, 0, 0, 1, 0, 0], 0., 1, 0.),\n",
       "           ([0, 1, 0, 0, 0, 0, 0, 1, 0, 0, 0, 1, 1, 0, 0, 0, 0, 1, 0, 0], 0., 1, 0.),\n",
       "           ([1, 0, 0, 0, 1, 0, 0, 0, 0, 0, 1, 0, 0, 0, 0, 1, 0, 0, 0, 1], 0., 2, 0.),\n",
       "           ([1, 0, 0, 0, 0, 0, 0, 1, 0, 1, 0, 0, 1, 0, 0, 0, 0, 0, 0, 1], 0., 1, 0.),\n",
       "           ([1, 0, 0, 0, 1, 0, 0, 0, 1, 0, 0, 0, 0, 1, 0, 0, 0, 1, 0, 0], 0., 2, 0.),\n",
       "           ([1, 0, 0, 0, 0, 0, 1, 0, 1, 0, 0, 0, 0, 0, 1, 0, 0, 1, 0, 0], 0., 1, 0.),\n",
       "           ([1, 0, 0, 0, 1, 0, 0, 0, 0, 0, 0, 1, 0, 1, 0, 0, 0, 0, 1, 0], 0., 1, 0.),\n",
       "           ([0, 0, 1, 0, 0, 1, 0, 0, 0, 1, 0, 0, 0, 0, 1, 0, 1, 0, 0, 0], 0., 2, 0.),\n",
       "           ([0, 1, 0, 0, 0, 0, 1, 0, 0, 0, 1, 0, 0, 0, 0, 1, 0, 1, 0, 0], 0., 1, 0.),\n",
       "           ([0, 0, 0, 1, 1, 0, 0, 0, 0, 1, 0, 0, 1, 0, 0, 0, 1, 0, 0, 0], 0., 3, 0.),\n",
       "           ([1, 0, 0, 0, 0, 0, 1, 0, 0, 1, 0, 0, 0, 0, 1, 0, 0, 0, 1, 0], 0., 1, 0.),\n",
       "           ([1, 0, 0, 0, 0, 1, 0, 0, 0, 1, 0, 0, 0, 1, 0, 0, 1, 0, 0, 0], 0., 1, 0.),\n",
       "           ([0, 0, 1, 0, 1, 0, 0, 0, 0, 0, 0, 1, 0, 0, 1, 0, 0, 1, 0, 0], 0., 1, 0.),\n",
       "           ([1, 0, 0, 0, 0, 1, 0, 0, 0, 1, 0, 0, 0, 0, 0, 1, 0, 0, 1, 0], 0., 1, 0.),\n",
       "           ([0, 0, 0, 1, 0, 0, 0, 1, 1, 0, 0, 0, 0, 0, 1, 0, 0, 1, 0, 0], 0., 1, 0.),\n",
       "           ([0, 0, 0, 1, 0, 1, 0, 0, 0, 1, 0, 0, 0, 0, 1, 0, 0, 1, 0, 0], 0., 1, 0.),\n",
       "           ([1, 0, 0, 0, 0, 0, 1, 0, 0, 0, 1, 0, 0, 0, 0, 1, 0, 0, 0, 1], 0., 1, 0.),\n",
       "           ([1, 0, 0, 0, 0, 1, 0, 0, 0, 0, 0, 1, 0, 0, 0, 1, 0, 0, 0, 1], 0., 2, 0.),\n",
       "           ([0, 0, 1, 0, 0, 0, 0, 1, 0, 0, 1, 0, 0, 1, 0, 0, 0, 0, 0, 1], 0., 1, 0.),\n",
       "           ([1, 0, 0, 0, 0, 0, 0, 1, 0, 0, 1, 0, 0, 1, 0, 0, 0, 0, 1, 0], 0., 2, 0.),\n",
       "           ([0, 0, 1, 0, 0, 1, 0, 0, 0, 1, 0, 0, 0, 0, 0, 1, 0, 0, 1, 0], 0., 1, 0.),\n",
       "           ([0, 0, 0, 1, 0, 0, 1, 0, 0, 0, 1, 0, 0, 1, 0, 0, 0, 1, 0, 0], 0., 1, 0.),\n",
       "           ([0, 0, 0, 1, 1, 0, 0, 0, 0, 0, 0, 1, 0, 1, 0, 0, 0, 0, 0, 1], 0., 3, 0.),\n",
       "           ([0, 1, 0, 0, 0, 0, 1, 0, 0, 0, 0, 1, 0, 0, 0, 1, 0, 0, 1, 0], 0., 2, 0.),\n",
       "           ([0, 1, 0, 0, 1, 0, 0, 0, 1, 0, 0, 0, 1, 0, 0, 0, 0, 1, 0, 0], 0., 3, 0.),\n",
       "           ([0, 0, 0, 1, 1, 0, 0, 0, 0, 1, 0, 0, 0, 0, 0, 1, 0, 0, 0, 1], 0., 1, 0.),\n",
       "           ([0, 0, 1, 0, 0, 0, 0, 1, 0, 1, 0, 0, 0, 0, 1, 0, 0, 0, 1, 0], 0., 2, 0.),\n",
       "           ([0, 0, 0, 1, 0, 0, 0, 1, 0, 0, 0, 1, 0, 1, 0, 0, 1, 0, 0, 0], 0., 1, 0.),\n",
       "           ([0, 1, 0, 0, 0, 0, 1, 0, 1, 0, 0, 0, 0, 0, 0, 1, 0, 1, 0, 0], 0., 1, 0.),\n",
       "           ([0, 0, 1, 0, 0, 0, 1, 0, 1, 0, 0, 0, 0, 1, 0, 0, 0, 0, 0, 1], 0., 1, 0.),\n",
       "           ([0, 1, 0, 0, 0, 0, 1, 0, 0, 0, 0, 1, 0, 0, 1, 0, 1, 0, 0, 0], 0., 1, 0.),\n",
       "           ([0, 0, 1, 0, 0, 0, 1, 0, 0, 0, 1, 0, 0, 0, 0, 1, 1, 0, 0, 0], 0., 3, 0.),\n",
       "           ([0, 0, 0, 1, 1, 0, 0, 0, 1, 0, 0, 0, 1, 0, 0, 0, 0, 0, 0, 1], 0., 1, 0.),\n",
       "           ([0, 0, 0, 1, 1, 0, 0, 0, 0, 0, 0, 1, 0, 1, 0, 0, 1, 0, 0, 0], 0., 1, 0.),\n",
       "           ([0, 0, 0, 1, 0, 1, 0, 0, 1, 0, 0, 0, 1, 0, 0, 0, 0, 0, 1, 0], 0., 1, 0.),\n",
       "           ([1, 0, 0, 0, 0, 0, 1, 0, 0, 0, 0, 1, 1, 0, 0, 0, 0, 1, 0, 0], 0., 2, 0.),\n",
       "           ([0, 0, 1, 0, 1, 0, 0, 0, 1, 0, 0, 0, 0, 0, 1, 0, 0, 1, 0, 0], 0., 1, 0.),\n",
       "           ([0, 0, 0, 1, 0, 0, 1, 0, 0, 0, 0, 1, 0, 0, 0, 1, 0, 0, 1, 0], 0., 1, 0.),\n",
       "           ([0, 0, 0, 1, 1, 0, 0, 0, 0, 0, 0, 1, 0, 0, 1, 0, 0, 1, 0, 0], 0., 2, 0.),\n",
       "           ([1, 0, 0, 0, 0, 0, 0, 1, 0, 1, 0, 0, 1, 0, 0, 0, 1, 0, 0, 0], 0., 1, 0.),\n",
       "           ([1, 0, 0, 0, 0, 0, 0, 1, 0, 0, 1, 0, 0, 0, 0, 1, 0, 1, 0, 0], 0., 1, 0.),\n",
       "           ([1, 0, 0, 0, 1, 0, 0, 0, 0, 0, 1, 0, 0, 0, 1, 0, 0, 0, 0, 1], 0., 1, 0.),\n",
       "           ([0, 1, 0, 0, 0, 1, 0, 0, 0, 1, 0, 0, 0, 1, 0, 0, 0, 0, 1, 0], 0., 1, 0.),\n",
       "           ([0, 1, 0, 0, 0, 1, 0, 0, 0, 0, 0, 1, 0, 1, 0, 0, 0, 0, 0, 1], 0., 2, 0.),\n",
       "           ([0, 0, 0, 1, 1, 0, 0, 0, 0, 0, 1, 0, 0, 0, 0, 1, 1, 0, 0, 0], 0., 1, 0.),\n",
       "           ([0, 0, 0, 1, 1, 0, 0, 0, 0, 0, 0, 1, 0, 0, 1, 0, 0, 0, 0, 1], 0., 2, 0.),\n",
       "           ([0, 0, 1, 0, 1, 0, 0, 0, 0, 0, 1, 0, 1, 0, 0, 0, 0, 0, 1, 0], 0., 1, 0.),\n",
       "           ([0, 0, 0, 1, 0, 0, 0, 1, 0, 0, 1, 0, 0, 0, 0, 1, 0, 1, 0, 0], 0., 1, 0.),\n",
       "           ([0, 0, 1, 0, 0, 1, 0, 0, 0, 0, 1, 0, 1, 0, 0, 0, 0, 1, 0, 0], 0., 1, 0.),\n",
       "           ([0, 1, 0, 0, 1, 0, 0, 0, 0, 0, 1, 0, 0, 0, 1, 0, 0, 1, 0, 0], 0., 2, 0.),\n",
       "           ([0, 1, 0, 0, 0, 1, 0, 0, 0, 1, 0, 0, 1, 0, 0, 0, 0, 0, 0, 1], 0., 2, 0.),\n",
       "           ([1, 0, 0, 0, 0, 0, 1, 0, 0, 0, 1, 0, 0, 0, 0, 1, 1, 0, 0, 0], 0., 2, 0.),\n",
       "           ([0, 0, 0, 1, 0, 0, 1, 0, 0, 0, 0, 1, 0, 0, 0, 1, 0, 0, 0, 1], 0., 2, 0.),\n",
       "           ([0, 0, 0, 1, 0, 1, 0, 0, 0, 0, 1, 0, 0, 0, 0, 1, 0, 0, 1, 0], 0., 2, 0.),\n",
       "           ([0, 0, 1, 0, 0, 1, 0, 0, 0, 0, 0, 1, 0, 0, 1, 0, 1, 0, 0, 0], 0., 3, 0.),\n",
       "           ([1, 0, 0, 0, 0, 1, 0, 0, 0, 1, 0, 0, 0, 0, 1, 0, 1, 0, 0, 0], 0., 2, 0.),\n",
       "           ([0, 1, 0, 0, 0, 0, 0, 1, 1, 0, 0, 0, 0, 0, 1, 0, 0, 0, 1, 0], 0., 2, 0.),\n",
       "           ([1, 0, 0, 0, 0, 0, 0, 1, 0, 0, 0, 1, 0, 0, 1, 0, 0, 0, 0, 1], 0., 1, 0.),\n",
       "           ([0, 0, 1, 0, 0, 0, 1, 0, 1, 0, 0, 0, 1, 0, 0, 0, 0, 0, 1, 0], 0., 1, 0.),\n",
       "           ([0, 1, 0, 0, 0, 0, 0, 1, 1, 0, 0, 0, 0, 0, 0, 1, 1, 0, 0, 0], 0., 2, 0.),\n",
       "           ([1, 0, 0, 0, 0, 1, 0, 0, 1, 0, 0, 0, 1, 0, 0, 0, 1, 0, 0, 0], 0., 1, 0.),\n",
       "           ([1, 0, 0, 0, 0, 0, 0, 1, 0, 1, 0, 0, 0, 1, 0, 0, 0, 1, 0, 0], 0., 2, 0.),\n",
       "           ([0, 0, 1, 0, 0, 0, 0, 1, 0, 0, 0, 1, 1, 0, 0, 0, 0, 1, 0, 0], 0., 1, 0.),\n",
       "           ([1, 0, 0, 0, 0, 0, 1, 0, 1, 0, 0, 0, 0, 1, 0, 0, 1, 0, 0, 0], 0., 1, 0.),\n",
       "           ([0, 0, 1, 0, 0, 1, 0, 0, 0, 1, 0, 0, 0, 1, 0, 0, 0, 1, 0, 0], 0., 1, 0.),\n",
       "           ([0, 0, 0, 1, 0, 0, 1, 0, 1, 0, 0, 0, 0, 0, 1, 0, 0, 0, 0, 1], 0., 1, 0.),\n",
       "           ([0, 0, 0, 1, 1, 0, 0, 0, 0, 0, 1, 0, 0, 0, 0, 1, 0, 0, 0, 1], 0., 3, 0.),\n",
       "           ([0, 1, 0, 0, 1, 0, 0, 0, 0, 0, 0, 1, 0, 0, 0, 1, 0, 0, 0, 1], 0., 1, 0.),\n",
       "           ([1, 0, 0, 0, 1, 0, 0, 0, 0, 1, 0, 0, 0, 1, 0, 0, 1, 0, 0, 0], 0., 2, 0.),\n",
       "           ([0, 0, 1, 0, 1, 0, 0, 0, 1, 0, 0, 0, 0, 0, 0, 1, 0, 0, 0, 1], 0., 1, 0.),\n",
       "           ([0, 1, 0, 0, 0, 0, 1, 0, 1, 0, 0, 0, 0, 1, 0, 0, 0, 0, 0, 1], 0., 1, 0.),\n",
       "           ([0, 1, 0, 0, 1, 0, 0, 0, 0, 0, 0, 1, 0, 1, 0, 0, 1, 0, 0, 0], 0., 1, 0.),\n",
       "           ([1, 0, 0, 0, 0, 0, 1, 0, 0, 0, 1, 0, 0, 0, 1, 0, 0, 0, 0, 1], 0., 1, 0.),\n",
       "           ([0, 0, 1, 0, 0, 0, 1, 0, 0, 0, 1, 0, 1, 0, 0, 0, 1, 0, 0, 0], 0., 4, 0.),\n",
       "           ([0, 0, 0, 1, 0, 0, 0, 1, 0, 1, 0, 0, 0, 1, 0, 0, 1, 0, 0, 0], 0., 1, 0.),\n",
       "           ([0, 1, 0, 0, 0, 0, 1, 0, 0, 0, 1, 0, 0, 1, 0, 0, 0, 0, 1, 0], 0., 4, 0.),\n",
       "           ([0, 0, 1, 0, 1, 0, 0, 0, 0, 0, 1, 0, 0, 1, 0, 0, 0, 0, 1, 0], 0., 1, 0.),\n",
       "           ([0, 0, 0, 1, 0, 1, 0, 0, 0, 0, 0, 1, 0, 0, 0, 1, 1, 0, 0, 0], 0., 2, 0.),\n",
       "           ([0, 0, 1, 0, 0, 0, 0, 1, 0, 1, 0, 0, 0, 0, 1, 0, 0, 0, 0, 1], 0., 2, 0.),\n",
       "           ([1, 0, 0, 0, 0, 0, 0, 1, 0, 1, 0, 0, 0, 0, 1, 0, 0, 1, 0, 0], 0., 1, 0.),\n",
       "           ([0, 0, 0, 1, 0, 0, 0, 1, 0, 1, 0, 0, 0, 0, 1, 0, 0, 0, 1, 0], 0., 1, 0.),\n",
       "           ([0, 0, 0, 1, 0, 1, 0, 0, 0, 0, 1, 0, 0, 0, 1, 0, 0, 1, 0, 0], 0., 1, 0.),\n",
       "           ([0, 0, 0, 1, 0, 1, 0, 0, 0, 0, 1, 0, 0, 0, 1, 0, 0, 0, 0, 1], 0., 1, 0.),\n",
       "           ([0, 0, 1, 0, 0, 0, 1, 0, 0, 0, 1, 0, 1, 0, 0, 0, 0, 0, 1, 0], 0., 1, 0.),\n",
       "           ([0, 0, 1, 0, 0, 0, 1, 0, 1, 0, 0, 0, 0, 0, 0, 1, 0, 0, 0, 1], 0., 2, 0.),\n",
       "           ([0, 1, 0, 0, 0, 0, 1, 0, 1, 0, 0, 0, 1, 0, 0, 0, 0, 0, 1, 0], 0., 2, 0.),\n",
       "           ([0, 0, 0, 1, 0, 0, 0, 1, 0, 1, 0, 0, 0, 1, 0, 0, 0, 0, 1, 0], 0., 1, 0.),\n",
       "           ([0, 0, 0, 1, 0, 0, 0, 1, 1, 0, 0, 0, 0, 1, 0, 0, 0, 1, 0, 0], 0., 1, 0.),\n",
       "           ([1, 0, 0, 0, 0, 1, 0, 0, 0, 0, 1, 0, 0, 0, 1, 0, 1, 0, 0, 0], 0., 2, 0.),\n",
       "           ([0, 0, 0, 1, 0, 1, 0, 0, 0, 0, 1, 0, 0, 0, 0, 1, 0, 1, 0, 0], 0., 1, 0.),\n",
       "           ([0, 0, 1, 0, 0, 1, 0, 0, 0, 1, 0, 0, 0, 0, 0, 1, 0, 0, 0, 1], 0., 1, 0.),\n",
       "           ([0, 1, 0, 0, 1, 0, 0, 0, 1, 0, 0, 0, 1, 0, 0, 0, 1, 0, 0, 0], 0., 2, 0.),\n",
       "           ([0, 1, 0, 0, 0, 1, 0, 0, 0, 0, 0, 1, 0, 1, 0, 0, 0, 0, 1, 0], 0., 1, 0.),\n",
       "           ([0, 0, 1, 0, 0, 0, 1, 0, 0, 1, 0, 0, 0, 0, 1, 0, 0, 1, 0, 0], 0., 2, 0.),\n",
       "           ([1, 0, 0, 0, 1, 0, 0, 0, 0, 1, 0, 0, 1, 0, 0, 0, 0, 0, 0, 1], 0., 2, 0.),\n",
       "           ([1, 0, 0, 0, 0, 0, 1, 0, 0, 0, 1, 0, 0, 0, 1, 0, 0, 0, 1, 0], 0., 1, 0.),\n",
       "           ([0, 1, 0, 0, 0, 1, 0, 0, 0, 0, 0, 1, 1, 0, 0, 0, 0, 0, 0, 1], 0., 2, 0.),\n",
       "           ([0, 1, 0, 0, 0, 0, 0, 1, 0, 0, 1, 0, 0, 0, 0, 1, 0, 1, 0, 0], 0., 2, 0.),\n",
       "           ([0, 0, 1, 0, 0, 0, 0, 1, 0, 1, 0, 0, 0, 1, 0, 0, 0, 0, 0, 1], 0., 1, 0.),\n",
       "           ([1, 0, 0, 0, 0, 0, 1, 0, 0, 1, 0, 0, 0, 0, 1, 0, 0, 1, 0, 0], 0., 1, 0.),\n",
       "           ([0, 0, 0, 1, 1, 0, 0, 0, 0, 1, 0, 0, 0, 1, 0, 0, 0, 1, 0, 0], 0., 2, 0.),\n",
       "           ([0, 0, 1, 0, 0, 1, 0, 0, 1, 0, 0, 0, 0, 1, 0, 0, 0, 1, 0, 0], 0., 2, 0.),\n",
       "           ([1, 0, 0, 0, 0, 0, 1, 0, 0, 0, 0, 1, 0, 0, 1, 0, 0, 0, 1, 0], 0., 1, 0.),\n",
       "           ([1, 0, 0, 0, 1, 0, 0, 0, 0, 0, 0, 1, 1, 0, 0, 0, 0, 1, 0, 0], 0., 1, 0.),\n",
       "           ([0, 0, 0, 1, 0, 0, 1, 0, 1, 0, 0, 0, 0, 0, 1, 0, 1, 0, 0, 0], 0., 2, 0.),\n",
       "           ([0, 1, 0, 0, 0, 0, 1, 0, 0, 0, 1, 0, 0, 0, 1, 0, 0, 1, 0, 0], 0., 2, 0.),\n",
       "           ([0, 0, 1, 0, 1, 0, 0, 0, 0, 1, 0, 0, 0, 1, 0, 0, 0, 1, 0, 0], 0., 1, 0.),\n",
       "           ([0, 1, 0, 0, 1, 0, 0, 0, 0, 1, 0, 0, 0, 0, 0, 1, 0, 1, 0, 0], 0., 3, 0.),\n",
       "           ([0, 1, 0, 0, 1, 0, 0, 0, 0, 0, 1, 0, 1, 0, 0, 0, 1, 0, 0, 0], 0., 2, 0.),\n",
       "           ([0, 0, 0, 1, 0, 0, 1, 0, 1, 0, 0, 0, 0, 0, 0, 1, 0, 0, 0, 1], 0., 1, 0.),\n",
       "           ([0, 0, 0, 1, 0, 0, 0, 1, 0, 1, 0, 0, 0, 0, 1, 0, 0, 1, 0, 0], 0., 1, 0.),\n",
       "           ([0, 1, 0, 0, 0, 1, 0, 0, 1, 0, 0, 0, 0, 0, 0, 1, 0, 0, 1, 0], 0., 2, 0.),\n",
       "           ([0, 0, 1, 0, 0, 1, 0, 0, 0, 0, 0, 1, 0, 0, 0, 1, 0, 0, 0, 1], 0., 1, 0.),\n",
       "           ([1, 0, 0, 0, 0, 0, 1, 0, 0, 0, 1, 0, 0, 0, 0, 1, 0, 0, 1, 0], 0., 1, 0.),\n",
       "           ([0, 0, 0, 1, 0, 0, 1, 0, 1, 0, 0, 0, 0, 0, 1, 0, 0, 0, 1, 0], 0., 2, 0.),\n",
       "           ([0, 1, 0, 0, 1, 0, 0, 0, 0, 0, 1, 0, 0, 1, 0, 0, 0, 1, 0, 0], 0., 2, 0.),\n",
       "           ([0, 0, 1, 0, 1, 0, 0, 0, 0, 1, 0, 0, 1, 0, 0, 0, 0, 0, 0, 1], 0., 2, 0.),\n",
       "           ([0, 0, 0, 1, 1, 0, 0, 0, 1, 0, 0, 0, 0, 0, 0, 1, 0, 0, 0, 1], 0., 1, 0.),\n",
       "           ([0, 0, 0, 1, 0, 0, 1, 0, 0, 0, 1, 0, 0, 1, 0, 0, 0, 0, 1, 0], 0., 3, 0.),\n",
       "           ([0, 0, 0, 1, 0, 0, 0, 1, 0, 0, 1, 0, 1, 0, 0, 0, 1, 0, 0, 0], 0., 1, 0.),\n",
       "           ([0, 0, 0, 1, 0, 0, 1, 0, 1, 0, 0, 0, 1, 0, 0, 0, 0, 1, 0, 0], 0., 3, 0.),\n",
       "           ([0, 1, 0, 0, 0, 0, 0, 1, 0, 1, 0, 0, 0, 0, 0, 1, 0, 0, 0, 1], 0., 1, 0.),\n",
       "           ([0, 0, 0, 1, 0, 0, 1, 0, 1, 0, 0, 0, 0, 1, 0, 0, 0, 1, 0, 0], 0., 2, 0.),\n",
       "           ([0, 0, 0, 1, 1, 0, 0, 0, 0, 0, 0, 1, 0, 1, 0, 0, 0, 1, 0, 0], 0., 2, 0.),\n",
       "           ([0, 0, 1, 0, 0, 1, 0, 0, 1, 0, 0, 0, 0, 0, 1, 0, 1, 0, 0, 0], 0., 1, 0.),\n",
       "           ([0, 0, 0, 1, 0, 0, 1, 0, 1, 0, 0, 0, 0, 1, 0, 0, 0, 0, 0, 1], 0., 3, 0.),\n",
       "           ([0, 0, 1, 0, 0, 1, 0, 0, 0, 0, 0, 1, 0, 0, 0, 1, 1, 0, 0, 0], 0., 2, 0.),\n",
       "           ([1, 0, 0, 0, 1, 0, 0, 0, 1, 0, 0, 0, 0, 1, 0, 0, 0, 0, 1, 0], 0., 2, 0.),\n",
       "           ([0, 0, 0, 1, 0, 1, 0, 0, 0, 1, 0, 0, 1, 0, 0, 0, 1, 0, 0, 0], 0., 1, 0.),\n",
       "           ([1, 0, 0, 0, 0, 1, 0, 0, 1, 0, 0, 0, 0, 1, 0, 0, 0, 1, 0, 0], 0., 1, 0.),\n",
       "           ([0, 0, 1, 0, 1, 0, 0, 0, 1, 0, 0, 0, 0, 1, 0, 0, 0, 0, 0, 1], 0., 2, 0.),\n",
       "           ([0, 1, 0, 0, 1, 0, 0, 0, 0, 1, 0, 0, 1, 0, 0, 0, 1, 0, 0, 0], 0., 1, 0.),\n",
       "           ([1, 0, 0, 0, 0, 0, 1, 0, 0, 1, 0, 0, 0, 0, 0, 1, 0, 0, 1, 0], 0., 2, 0.),\n",
       "           ([0, 0, 0, 1, 0, 0, 1, 0, 0, 0, 0, 1, 0, 1, 0, 0, 0, 0, 1, 0], 0., 1, 0.),\n",
       "           ([0, 0, 0, 1, 0, 0, 1, 0, 0, 1, 0, 0, 0, 0, 1, 0, 0, 1, 0, 0], 0., 4, 0.),\n",
       "           ([0, 1, 0, 0, 0, 0, 0, 1, 0, 1, 0, 0, 1, 0, 0, 0, 0, 1, 0, 0], 0., 3, 0.),\n",
       "           ([1, 0, 0, 0, 1, 0, 0, 0, 0, 0, 0, 1, 0, 0, 0, 1, 0, 1, 0, 0], 0., 3, 0.),\n",
       "           ([0, 1, 0, 0, 0, 0, 1, 0, 1, 0, 0, 0, 0, 0, 1, 0, 1, 0, 0, 0], 0., 1, 0.),\n",
       "           ([0, 0, 1, 0, 0, 0, 0, 1, 0, 1, 0, 0, 1, 0, 0, 0, 1, 0, 0, 0], 0., 1, 0.),\n",
       "           ([0, 0, 0, 1, 1, 0, 0, 0, 0, 0, 1, 0, 0, 0, 1, 0, 0, 1, 0, 0], 0., 1, 0.),\n",
       "           ([1, 0, 0, 0, 0, 0, 1, 0, 0, 0, 0, 1, 0, 1, 0, 0, 0, 0, 1, 0], 0., 2, 0.),\n",
       "           ([0, 0, 0, 1, 0, 0, 0, 1, 0, 0, 0, 1, 0, 1, 0, 0, 0, 0, 1, 0], 0., 1, 0.),\n",
       "           ([0, 0, 1, 0, 1, 0, 0, 0, 0, 0, 1, 0, 0, 1, 0, 0, 0, 1, 0, 0], 0., 1, 0.),\n",
       "           ([1, 0, 0, 0, 1, 0, 0, 0, 0, 0, 0, 1, 0, 1, 0, 0, 0, 0, 0, 1], 0., 1, 0.),\n",
       "           ([0, 0, 1, 0, 1, 0, 0, 0, 0, 0, 0, 1, 1, 0, 0, 0, 0, 0, 1, 0], 0., 4, 0.),\n",
       "           ([1, 0, 0, 0, 1, 0, 0, 0, 0, 1, 0, 0, 0, 0, 0, 1, 1, 0, 0, 0], 0., 1, 0.),\n",
       "           ([0, 1, 0, 0, 1, 0, 0, 0, 0, 0, 1, 0, 0, 0, 0, 1, 1, 0, 0, 0], 0., 1, 0.),\n",
       "           ([0, 0, 0, 1, 0, 1, 0, 0, 0, 0, 0, 1, 0, 0, 0, 1, 0, 0, 1, 0], 0., 3, 0.),\n",
       "           ([1, 0, 0, 0, 0, 0, 0, 1, 0, 0, 0, 1, 0, 1, 0, 0, 1, 0, 0, 0], 0., 1, 0.),\n",
       "           ([0, 0, 0, 1, 1, 0, 0, 0, 0, 1, 0, 0, 0, 1, 0, 0, 0, 0, 1, 0], 0., 1, 0.),\n",
       "           ([1, 0, 0, 0, 1, 0, 0, 0, 0, 1, 0, 0, 1, 0, 0, 0, 0, 1, 0, 0], 0., 1, 0.),\n",
       "           ([0, 0, 0, 1, 1, 0, 0, 0, 0, 1, 0, 0, 1, 0, 0, 0, 0, 1, 0, 0], 0., 2, 0.),\n",
       "           ([0, 0, 0, 1, 0, 0, 0, 1, 1, 0, 0, 0, 0, 0, 0, 1, 1, 0, 0, 0], 0., 2, 0.),\n",
       "           ([0, 0, 0, 1, 0, 1, 0, 0, 0, 0, 0, 1, 1, 0, 0, 0, 0, 1, 0, 0], 0., 1, 0.),\n",
       "           ([1, 0, 0, 0, 1, 0, 0, 0, 0, 0, 1, 0, 1, 0, 0, 0, 0, 0, 0, 1], 0., 2, 0.),\n",
       "           ([0, 0, 1, 0, 1, 0, 0, 0, 0, 0, 0, 1, 0, 0, 1, 0, 1, 0, 0, 0], 0., 2, 0.),\n",
       "           ([0, 0, 0, 1, 1, 0, 0, 0, 0, 0, 0, 1, 0, 0, 1, 0, 1, 0, 0, 0], 0., 1, 0.),\n",
       "           ([1, 0, 0, 0, 1, 0, 0, 0, 0, 1, 0, 0, 0, 0, 1, 0, 0, 1, 0, 0], 0., 1, 0.),\n",
       "           ([0, 0, 0, 1, 0, 1, 0, 0, 0, 0, 0, 1, 0, 0, 1, 0, 1, 0, 0, 0], 0., 1, 0.),\n",
       "           ([0, 1, 0, 0, 0, 1, 0, 0, 0, 0, 1, 0, 0, 0, 1, 0, 1, 0, 0, 0], 0., 1, 0.),\n",
       "           ([0, 0, 1, 0, 0, 0, 1, 0, 1, 0, 0, 0, 0, 0, 0, 1, 0, 0, 1, 0], 0., 1, 0.),\n",
       "           ([0, 0, 0, 1, 0, 1, 0, 0, 1, 0, 0, 0, 0, 0, 0, 1, 0, 0, 1, 0], 0., 1, 0.),\n",
       "           ([1, 0, 0, 0, 0, 1, 0, 0, 1, 0, 0, 0, 0, 0, 0, 1, 0, 1, 0, 0], 0., 2, 0.),\n",
       "           ([1, 0, 0, 0, 1, 0, 0, 0, 1, 0, 0, 0, 0, 0, 1, 0, 0, 0, 0, 1], 0., 1, 0.),\n",
       "           ([0, 0, 1, 0, 0, 0, 1, 0, 1, 0, 0, 0, 1, 0, 0, 0, 0, 1, 0, 0], 0., 1, 0.),\n",
       "           ([0, 0, 1, 0, 1, 0, 0, 0, 0, 0, 1, 0, 0, 0, 1, 0, 0, 1, 0, 0], 0., 2, 0.),\n",
       "           ([0, 0, 1, 0, 0, 0, 1, 0, 0, 1, 0, 0, 0, 0, 1, 0, 0, 0, 1, 0], 0., 1, 0.),\n",
       "           ([0, 0, 1, 0, 0, 1, 0, 0, 0, 0, 0, 1, 1, 0, 0, 0, 0, 0, 1, 0], 0., 1, 0.),\n",
       "           ([1, 0, 0, 0, 1, 0, 0, 0, 0, 0, 1, 0, 0, 1, 0, 0, 0, 1, 0, 0], 0., 1, 0.),\n",
       "           ([1, 0, 0, 0, 0, 0, 1, 0, 0, 0, 1, 0, 0, 1, 0, 0, 0, 0, 0, 1], 0., 3, 0.),\n",
       "           ([0, 0, 1, 0, 0, 1, 0, 0, 0, 0, 1, 0, 0, 1, 0, 0, 0, 1, 0, 0], 0., 1, 0.),\n",
       "           ([0, 0, 0, 1, 0, 0, 0, 1, 1, 0, 0, 0, 0, 0, 0, 1, 0, 1, 0, 0], 0., 1, 0.),\n",
       "           ([1, 0, 0, 0, 1, 0, 0, 0, 0, 0, 1, 0, 1, 0, 0, 0, 0, 0, 1, 0], 0., 1, 0.),\n",
       "           ([0, 0, 0, 1, 1, 0, 0, 0, 1, 0, 0, 0, 0, 0, 0, 1, 0, 1, 0, 0], 0., 1, 0.),\n",
       "           ([0, 1, 0, 0, 0, 0, 0, 1, 0, 0, 0, 1, 1, 0, 0, 0, 0, 0, 0, 1], 0., 1, 0.),\n",
       "           ([1, 0, 0, 0, 0, 0, 1, 0, 0, 0, 0, 1, 0, 0, 0, 1, 0, 1, 0, 0], 0., 1, 0.),\n",
       "           ([0, 1, 0, 0, 1, 0, 0, 0, 0, 0, 0, 1, 0, 0, 1, 0, 0, 0, 0, 1], 0., 1, 0.),\n",
       "           ([0, 0, 0, 1, 0, 0, 1, 0, 0, 0, 1, 0, 0, 0, 0, 1, 0, 0, 0, 1], 0., 1, 0.),\n",
       "           ([0, 1, 0, 0, 0, 1, 0, 0, 0, 0, 1, 0, 0, 1, 0, 0, 0, 1, 0, 1], 1., 1, 0.)],\n",
       "          dtype=[('sample', 'i1', (20,)), ('energy', '<f8'), ('num_occurrences', '<i4'), ('chain_break_fraction', '<f8')]), Variables(['x_1_C4', 'x_1_D4', 'x_1_E4', 'x_1_G4', 'x_2_C4', 'x_2_D4', 'x_2_E4', 'x_2_G4', 'x_3_C4', 'x_3_D4', 'x_3_E4', 'x_3_G4', 'x_4_C4', 'x_4_D4', 'x_4_E4', 'x_4_G4', 'x_5_C4', 'x_5_D4', 'x_5_E4', 'x_5_G4']), {'timing': {'qpu_sampling_time': 124740.0, 'qpu_anneal_time_per_sample': 20.0, 'qpu_readout_time_per_sample': 84.2, 'qpu_access_time': 133187.0, 'qpu_access_overhead_time': 18278.0, 'qpu_programming_time': 8447.0, 'qpu_delay_time_per_sample': 20.54, 'post_processing_overhead_time': 1059.0, 'total_post_processing_time': 1059.0}, 'problem_id': '7012710f-26ba-4f0b-96ca-59c2e674198f'}, 'BINARY')"
      ]
     },
     "execution_count": 49,
     "metadata": {},
     "output_type": "execute_result"
    }
   ],
   "source": [
    "sampleset"
   ]
  },
  {
   "cell_type": "markdown",
   "id": "photographic-sight",
   "metadata": {},
   "source": [
    "When you consider a line from the samples list, the list is the value of the binary variables, 0 indicates that the energy is 0, and 1 indicates that this specific sample is observed only once.\n",
    "`[0, 1, 0, 0, 0, 0, 0, 1, 0, 0, 0, 1, 1, 0, 0, 0, 0, 1, 0, 0], 0., 1)`"
   ]
  },
  {
   "cell_type": "markdown",
   "id": "sized-jackson",
   "metadata": {},
   "source": [
    "The order of the variables can be seen from the list of variables.\n",
    "\n",
    "`Variables(['x_1_C4', 'x_1_D4', 'x_1_E4', 'x_1_G4', 'x_2_C4', 'x_2_D4', 'x_2_E4', 'x_2_G4', 'x_3_C4', 'x_3_D4', 'x_3_E4', 'x_3_G4', 'x_4_C4', 'x_4_D4', 'x_4_E4', 'x_4_G4', 'x_5_C4', 'x_5_D4', 'x_5_E4', 'x_5_G4']`"
   ]
  },
  {
   "cell_type": "markdown",
   "id": "neither-mississippi",
   "metadata": {},
   "source": [
    "Finally, let's print the corresponding note sequences to the sampleset we have obtained. We take the first 5 samples."
   ]
  },
  {
   "cell_type": "code",
   "execution_count": 50,
   "id": "retired-blogger",
   "metadata": {
    "scrolled": true
   },
   "outputs": [
    {
     "name": "stdout",
     "output_type": "stream",
     "text": [
      "['D4', 'D4', 'D4', 'D4', 'D4']\n",
      "['D4', 'E4', 'C4', 'E4', 'D4']\n",
      "['D4', 'C4', 'E4', 'D4', 'C4']\n",
      "['E4', 'E4', 'D4', 'C4', 'C4']\n",
      "['G4', 'C4', 'C4', 'G4', 'C4']\n"
     ]
    }
   ],
   "source": [
    "for sample in sampleset.samples()[:5]:\n",
    "    seq = translate_sample(sample,P,n)\n",
    "    print(seq)"
   ]
  },
  {
   "cell_type": "markdown",
   "id": "photographic-professional",
   "metadata": {},
   "source": [
    "We can also print all samples and their energies."
   ]
  },
  {
   "cell_type": "code",
   "execution_count": 51,
   "id": "nutritional-flour",
   "metadata": {},
   "outputs": [
    {
     "name": "stdout",
     "output_type": "stream",
     "text": [
      "['D4', 'D4', 'D4', 'D4', 'D4'] 0.0\n",
      "['D4', 'E4', 'C4', 'E4', 'D4'] 0.0\n",
      "['D4', 'C4', 'E4', 'D4', 'C4'] 0.0\n",
      "['E4', 'E4', 'D4', 'C4', 'C4'] 0.0\n",
      "['G4', 'C4', 'C4', 'G4', 'C4'] 0.0\n",
      "['E4', 'E4', 'D4', 'C4', 'G4'] 0.0\n",
      "['E4', 'E4', 'D4', 'C4', 'D4'] 0.0\n",
      "['E4', 'E4', 'G4', 'D4', 'C4'] 0.0\n",
      "['C4', 'D4', 'C4', 'G4', 'C4'] 0.0\n",
      "['E4', 'D4', 'C4', 'D4', 'E4'] 0.0\n",
      "['C4', 'G4', 'D4', 'G4', 'C4'] 0.0\n",
      "['D4', 'G4', 'E4', 'C4', 'C4'] 0.0\n",
      "['C4', 'G4', 'C4', 'E4', 'C4'] 0.0\n",
      "['G4', 'D4', 'C4', 'C4', 'D4'] 0.0\n",
      "['D4', 'C4', 'G4', 'G4', 'D4'] 0.0\n",
      "['C4', 'E4', 'D4', 'D4', 'D4'] 0.0\n",
      "['D4', 'C4', 'G4', 'D4', 'D4'] 0.0\n",
      "['D4', 'E4', 'G4', 'G4', 'D4'] 0.0\n",
      "['D4', 'G4', 'E4', 'D4', 'C4'] 0.0\n",
      "['C4', 'G4', 'G4', 'G4', 'C4'] 0.0\n",
      "['C4', 'C4', 'C4', 'E4', 'D4'] 0.0\n",
      "['G4', 'G4', 'E4', 'G4', 'G4'] 0.0\n",
      "['E4', 'G4', 'C4', 'G4', 'D4'] 0.0\n",
      "['D4', 'E4', 'D4', 'G4', 'E4'] 0.0\n",
      "['G4', 'G4', 'E4', 'D4', 'G4'] 0.0\n",
      "['G4', 'E4', 'D4', 'G4', 'G4'] 0.0\n",
      "['E4', 'G4', 'D4', 'G4', 'G4'] 0.0\n",
      "['C4', 'E4', 'C4', 'D4', 'G4'] 0.0\n",
      "['E4', 'C4', 'C4', 'C4', 'D4'] 0.0\n",
      "['D4', 'G4', 'D4', 'D4', 'G4'] 0.0\n",
      "['D4', 'E4', 'E4', 'D4', 'D4'] 0.0\n",
      "['D4', 'G4', 'C4', 'C4', 'G4'] 0.0\n",
      "['E4', 'E4', 'D4', 'G4', 'C4'] 0.0\n",
      "['G4', 'D4', 'C4', 'G4', 'C4'] 0.0\n",
      "['D4', 'C4', 'D4', 'G4', 'G4'] 0.0\n",
      "['E4', 'D4', 'E4', 'G4', 'G4'] 0.0\n",
      "['C4', 'D4', 'E4', 'E4', 'E4'] 0.0\n",
      "['G4', 'G4', 'C4', 'G4', 'E4'] 0.0\n",
      "['G4', 'D4', 'G4', 'D4', 'D4'] 0.0\n",
      "['C4', 'D4', 'D4', 'C4', 'D4'] 0.0\n",
      "['C4', 'C4', 'C4', 'D4', 'D4'] 0.0\n",
      "['C4', 'E4', 'C4', 'E4', 'D4'] 0.0\n",
      "['C4', 'C4', 'G4', 'D4', 'E4'] 0.0\n",
      "['E4', 'D4', 'D4', 'E4', 'C4'] 0.0\n",
      "['D4', 'E4', 'E4', 'G4', 'D4'] 0.0\n",
      "['G4', 'C4', 'D4', 'C4', 'C4'] 0.0\n",
      "['C4', 'E4', 'D4', 'E4', 'E4'] 0.0\n",
      "['C4', 'D4', 'D4', 'D4', 'C4'] 0.0\n",
      "['E4', 'C4', 'G4', 'E4', 'D4'] 0.0\n",
      "['C4', 'D4', 'D4', 'G4', 'E4'] 0.0\n",
      "['G4', 'G4', 'C4', 'E4', 'D4'] 0.0\n",
      "['G4', 'D4', 'D4', 'E4', 'D4'] 0.0\n",
      "['C4', 'E4', 'E4', 'G4', 'G4'] 0.0\n",
      "['C4', 'D4', 'G4', 'G4', 'G4'] 0.0\n",
      "['E4', 'G4', 'E4', 'D4', 'G4'] 0.0\n",
      "['C4', 'G4', 'D4', 'C4', 'G4'] 0.0\n",
      "['C4', 'C4', 'E4', 'G4', 'G4'] 0.0\n",
      "['D4', 'G4', 'G4', 'C4', 'D4'] 0.0\n",
      "['E4', 'D4', 'G4', 'E4', 'D4'] 0.0\n",
      "['C4', 'G4', 'E4', 'E4', 'D4'] 0.0\n",
      "['G4', 'G4', 'G4', 'E4', 'D4'] 0.0\n",
      "['D4', 'D4', 'E4', 'G4', 'G4'] 0.0\n",
      "['G4', 'G4', 'E4', 'E4', 'C4'] 0.0\n",
      "['D4', 'C4', 'C4', 'D4', 'E4'] 0.0\n",
      "['E4', 'D4', 'E4', 'G4', 'C4'] 0.0\n",
      "['D4', 'G4', 'C4', 'C4', 'C4'] 0.0\n",
      "['G4', 'E4', 'D4', 'C4', 'E4'] 0.0\n",
      "['C4', 'G4', 'D4', 'C4', 'E4'] 0.0\n",
      "['E4', 'E4', 'D4', 'E4', 'G4'] 0.0\n",
      "['G4', 'E4', 'G4', 'E4', 'G4'] 0.0\n",
      "['D4', 'C4', 'D4', 'D4', 'G4'] 0.0\n",
      "['G4', 'E4', 'D4', 'G4', 'E4'] 0.0\n",
      "['G4', 'C4', 'E4', 'D4', 'C4'] 0.0\n",
      "['G4', 'E4', 'G4', 'C4', 'E4'] 0.0\n",
      "['C4', 'C4', 'D4', 'G4', 'D4'] 0.0\n",
      "['D4', 'E4', 'E4', 'G4', 'E4'] 0.0\n",
      "['C4', 'D4', 'G4', 'C4', 'C4'] 0.0\n",
      "['D4', 'G4', 'C4', 'D4', 'E4'] 0.0\n",
      "['E4', 'E4', 'C4', 'D4', 'E4'] 0.0\n",
      "['G4', 'E4', 'C4', 'G4', 'C4'] 0.0\n",
      "['G4', 'D4', 'G4', 'D4', 'E4'] 0.0\n",
      "['G4', 'D4', 'D4', 'E4', 'G4'] 0.0\n",
      "['D4', 'E4', 'C4', 'C4', 'G4'] 0.0\n",
      "['C4', 'E4', 'G4', 'C4', 'C4'] 0.0\n",
      "['D4', 'E4', 'D4', 'D4', 'D4'] 0.0\n",
      "['G4', 'D4', 'C4', 'E4', 'C4'] 0.0\n",
      "['G4', 'E4', 'E4', 'C4', 'C4'] 0.0\n",
      "['G4', 'E4', 'E4', 'E4', 'G4'] 0.0\n",
      "['C4', 'E4', 'C4', 'E4', 'E4'] 0.0\n",
      "['G4', 'C4', 'D4', 'G4', 'D4'] 0.0\n",
      "['C4', 'C4', 'D4', 'E4', 'G4'] 0.0\n",
      "['G4', 'E4', 'D4', 'G4', 'D4'] 0.0\n",
      "['D4', 'E4', 'E4', 'E4', 'C4'] 0.0\n",
      "['D4', 'G4', 'E4', 'C4', 'D4'] 0.0\n",
      "['E4', 'G4', 'G4', 'C4', 'G4'] 0.0\n",
      "['D4', 'E4', 'D4', 'E4', 'D4'] 0.0\n",
      "['D4', 'E4', 'D4', 'E4', 'G4'] 0.0\n",
      "['E4', 'D4', 'G4', 'C4', 'G4'] 0.0\n",
      "['C4', 'C4', 'E4', 'C4', 'C4'] 0.0\n",
      "['C4', 'C4', 'D4', 'D4', 'D4'] 0.0\n",
      "['D4', 'G4', 'G4', 'G4', 'E4'] 0.0\n",
      "['D4', 'E4', 'D4', 'C4', 'D4'] 0.0\n",
      "['C4', 'C4', 'C4', 'C4', 'G4'] 0.0\n",
      "['C4', 'D4', 'E4', 'C4', 'E4'] 0.0\n",
      "['G4', 'C4', 'E4', 'C4', 'E4'] 0.0\n",
      "['C4', 'E4', 'G4', 'D4', 'C4'] 0.0\n",
      "['C4', 'C4', 'D4', 'G4', 'E4'] 0.0\n",
      "['D4', 'E4', 'E4', 'C4', 'G4'] 0.0\n",
      "['E4', 'E4', 'C4', 'E4', 'D4'] 0.0\n",
      "['C4', 'E4', 'G4', 'G4', 'C4'] 0.0\n",
      "['E4', 'C4', 'E4', 'G4', 'E4'] 0.0\n",
      "['C4', 'G4', 'E4', 'G4', 'G4'] 0.0\n",
      "['E4', 'E4', 'C4', 'G4', 'D4'] 0.0\n",
      "['E4', 'D4', 'D4', 'D4', 'E4'] 0.0\n",
      "['C4', 'G4', 'C4', 'D4', 'D4'] 0.0\n",
      "['D4', 'C4', 'C4', 'G4', 'D4'] 0.0\n",
      "['E4', 'C4', 'C4', 'E4', 'C4'] 0.0\n",
      "['D4', 'C4', 'D4', 'E4', 'G4'] 0.0\n",
      "['D4', 'D4', 'D4', 'D4', 'C4'] 0.0\n",
      "['C4', 'E4', 'C4', 'C4', 'G4'] 0.0\n",
      "['C4', 'E4', 'D4', 'G4', 'D4'] 0.0\n",
      "['G4', 'C4', 'G4', 'E4', 'E4'] 0.0\n",
      "['D4', 'E4', 'C4', 'D4', 'C4'] 0.0\n",
      "['D4', 'G4', 'D4', 'G4', 'D4'] 0.0\n",
      "['G4', 'E4', 'D4', 'C4', 'C4'] 0.0\n",
      "['E4', 'D4', 'D4', 'D4', 'C4'] 0.0\n",
      "['G4', 'D4', 'C4', 'G4', 'D4'] 0.0\n",
      "['D4', 'C4', 'E4', 'C4', 'G4'] 0.0\n",
      "['C4', 'C4', 'E4', 'E4', 'E4'] 0.0\n",
      "['E4', 'E4', 'G4', 'C4', 'D4'] 0.0\n",
      "['E4', 'E4', 'C4', 'E4', 'C4'] 0.0\n",
      "['C4', 'E4', 'C4', 'G4', 'G4'] 0.0\n",
      "['E4', 'E4', 'E4', 'D4', 'G4'] 0.0\n",
      "['C4', 'D4', 'D4', 'G4', 'G4'] 0.0\n",
      "['G4', 'C4', 'G4', 'G4', 'D4'] 0.0\n",
      "['C4', 'G4', 'E4', 'D4', 'E4'] 0.0\n",
      "['E4', 'E4', 'E4', 'C4', 'D4'] 0.0\n",
      "['G4', 'C4', 'D4', 'G4', 'E4'] 0.0\n",
      "['E4', 'G4', 'D4', 'C4', 'E4'] 0.0\n",
      "['G4', 'E4', 'E4', 'E4', 'E4'] 0.0\n",
      "['C4', 'D4', 'D4', 'D4', 'E4'] 0.0\n",
      "['G4', 'C4', 'E4', 'C4', 'C4'] 0.0\n",
      "['D4', 'D4', 'G4', 'C4', 'E4'] 0.0\n",
      "['G4', 'E4', 'G4', 'G4', 'D4'] 0.0\n",
      "['C4', 'G4', 'E4', 'G4', 'E4'] 0.0\n",
      "['D4', 'E4', 'D4', 'G4', 'G4'] 0.0\n",
      "['G4', 'E4', 'G4', 'E4', 'E4'] 0.0\n",
      "['D4', 'E4', 'E4', 'C4', 'C4'] 0.0\n",
      "['E4', 'G4', 'D4', 'G4', 'E4'] 0.0\n",
      "['C4', 'E4', 'E4', 'C4', 'G4'] 0.0\n",
      "['D4', 'C4', 'G4', 'C4', 'C4'] 0.0\n",
      "['C4', 'C4', 'C4', 'G4', 'C4'] 0.0\n",
      "['C4', 'D4', 'E4', 'G4', 'C4'] 0.0\n",
      "['D4', 'C4', 'D4', 'D4', 'E4'] 0.0\n",
      "['D4', 'E4', 'C4', 'G4', 'C4'] 0.0\n",
      "['E4', 'D4', 'D4', 'G4', 'E4'] 0.0\n",
      "['G4', 'E4', 'E4', 'D4', 'D4'] 0.0\n",
      "['G4', 'C4', 'G4', 'D4', 'G4'] 0.0\n",
      "['G4', 'E4', 'C4', 'D4', 'D4'] 0.0\n",
      "['G4', 'C4', 'G4', 'D4', 'D4'] 0.0\n",
      "['E4', 'D4', 'C4', 'E4', 'C4'] 0.0\n",
      "['G4', 'E4', 'C4', 'D4', 'G4'] 0.0\n",
      "['E4', 'D4', 'G4', 'G4', 'C4'] 0.0\n",
      "['C4', 'C4', 'C4', 'D4', 'E4'] 0.0\n",
      "['G4', 'D4', 'D4', 'C4', 'C4'] 0.0\n",
      "['C4', 'D4', 'C4', 'D4', 'D4'] 0.0\n",
      "['E4', 'C4', 'C4', 'D4', 'G4'] 0.0\n",
      "['D4', 'C4', 'D4', 'C4', 'C4'] 0.0\n",
      "['C4', 'E4', 'D4', 'G4', 'E4'] 0.0\n",
      "['G4', 'E4', 'G4', 'D4', 'E4'] 0.0\n",
      "['G4', 'E4', 'D4', 'E4', 'D4'] 0.0\n",
      "['D4', 'G4', 'D4', 'C4', 'D4'] 0.0\n",
      "['C4', 'C4', 'G4', 'G4', 'D4'] 0.0\n",
      "['D4', 'G4', 'D4', 'G4', 'G4'] 0.0\n",
      "['G4', 'E4', 'C4', 'C4', 'D4'] 0.0\n",
      "['G4', 'G4', 'E4', 'C4', 'C4'] 0.0\n",
      "['G4', 'E4', 'E4', 'D4', 'E4'] 0.0\n",
      "['C4', 'E4', 'G4', 'E4', 'E4'] 0.0\n",
      "['C4', 'C4', 'G4', 'C4', 'D4'] 0.0\n",
      "['G4', 'E4', 'C4', 'E4', 'C4'] 0.0\n",
      "['D4', 'E4', 'E4', 'E4', 'D4'] 0.0\n",
      "['E4', 'C4', 'D4', 'D4', 'D4'] 0.0\n",
      "['D4', 'C4', 'D4', 'G4', 'D4'] 0.0\n",
      "['D4', 'C4', 'E4', 'C4', 'C4'] 0.0\n",
      "['D4', 'E4', 'C4', 'E4', 'C4'] 0.0\n",
      "['G4', 'E4', 'C4', 'G4', 'G4'] 0.0\n",
      "['D4', 'D4', 'C4', 'G4', 'E4'] 0.0\n",
      "['E4', 'D4', 'G4', 'G4', 'G4'] 0.0\n",
      "['C4', 'E4', 'E4', 'G4', 'E4'] 0.0\n",
      "['G4', 'E4', 'C4', 'E4', 'E4'] 0.0\n",
      "['D4', 'C4', 'E4', 'D4', 'D4'] 0.0\n",
      "['E4', 'C4', 'D4', 'C4', 'G4'] 0.0\n",
      "['G4', 'C4', 'C4', 'G4', 'G4'] 0.0\n",
      "['G4', 'G4', 'D4', 'E4', 'D4'] 0.0\n",
      "['E4', 'G4', 'D4', 'C4', 'C4'] 0.0\n",
      "['G4', 'C4', 'E4', 'E4', 'D4'] 0.0\n",
      "['C4', 'E4', 'G4', 'D4', 'E4'] 0.0\n",
      "['G4', 'D4', 'C4', 'G4', 'E4'] 0.0\n",
      "['C4', 'D4', 'C4', 'G4', 'D4'] 0.0\n",
      "['C4', 'C4', 'C4', 'E4', 'G4'] 0.0\n",
      "['E4', 'E4', 'C4', 'C4', 'D4'] 0.0\n",
      "['E4', 'C4', 'E4', 'E4', 'D4'] 0.0\n",
      "['E4', 'E4', 'D4', 'E4', 'E4'] 0.0\n",
      "['E4', 'D4', 'G4', 'C4', 'E4'] 0.0\n",
      "['E4', 'E4', 'C4', 'G4', 'E4'] 0.0\n",
      "['C4', 'C4', 'E4', 'D4', 'D4'] 0.0\n",
      "['E4', 'D4', 'E4', 'D4', 'D4'] 0.0\n",
      "['G4', 'G4', 'C4', 'G4', 'D4'] 0.0\n",
      "['C4', 'C4', 'E4', 'C4', 'E4'] 0.0\n",
      "['G4', 'C4', 'C4', 'G4', 'D4'] 0.0\n",
      "['D4', 'G4', 'G4', 'C4', 'G4'] 0.0\n",
      "['C4', 'E4', 'G4', 'G4', 'D4'] 0.0\n",
      "['D4', 'C4', 'G4', 'E4', 'G4'] 0.0\n",
      "['C4', 'E4', 'E4', 'D4', 'G4'] 0.0\n",
      "['E4', 'D4', 'C4', 'D4', 'D4'] 0.0\n",
      "['D4', 'D4', 'E4', 'E4', 'C4'] 0.0\n",
      "['C4', 'C4', 'D4', 'E4', 'D4'] 0.0\n",
      "['G4', 'G4', 'G4', 'D4', 'E4'] 0.0\n",
      "['E4', 'C4', 'E4', 'D4', 'D4'] 0.0\n",
      "['C4', 'C4', 'G4', 'D4', 'G4'] 0.0\n",
      "['E4', 'C4', 'G4', 'C4', 'E4'] 0.0\n",
      "['C4', 'C4', 'D4', 'G4', 'C4'] 0.0\n",
      "['D4', 'C4', 'E4', 'G4', 'C4'] 0.0\n",
      "['G4', 'D4', 'G4', 'G4', 'E4'] 0.0\n",
      "['G4', 'D4', 'G4', 'E4', 'C4'] 0.0\n",
      "['C4', 'G4', 'G4', 'D4', 'C4'] 0.0\n",
      "['C4', 'C4', 'D4', 'C4', 'D4'] 0.0\n",
      "['G4', 'C4', 'D4', 'C4', 'D4'] 0.0\n",
      "['G4', 'G4', 'C4', 'G4', 'C4'] 0.0\n",
      "['G4', 'D4', 'G4', 'C4', 'D4'] 0.0\n",
      "['C4', 'C4', 'E4', 'C4', 'G4'] 0.0\n",
      "['E4', 'C4', 'G4', 'E4', 'C4'] 0.0\n",
      "['G4', 'C4', 'G4', 'E4', 'C4'] 0.0\n",
      "['G4', 'C4', 'D4', 'D4', 'E4'] 0.0\n",
      "['E4', 'G4', 'C4', 'D4', 'D4'] 0.0\n",
      "['G4', 'C4', 'D4', 'D4', 'D4'] 0.0\n",
      "['E4', 'G4', 'D4', 'D4', 'G4'] 0.0\n",
      "['D4', 'D4', 'G4', 'D4', 'G4'] 0.0\n",
      "['G4', 'C4', 'E4', 'G4', 'C4'] 0.0\n",
      "['G4', 'C4', 'G4', 'E4', 'G4'] 0.0\n",
      "['E4', 'C4', 'E4', 'C4', 'E4'] 0.0\n",
      "['G4', 'G4', 'E4', 'G4', 'D4'] 0.0\n",
      "['E4', 'D4', 'E4', 'C4', 'D4'] 0.0\n",
      "['D4', 'C4', 'E4', 'E4', 'D4'] 0.0\n",
      "['D4', 'D4', 'D4', 'C4', 'G4'] 0.0\n",
      "['C4', 'E4', 'E4', 'G4', 'C4'] 0.0\n",
      "['G4', 'E4', 'G4', 'G4', 'G4'] 0.0\n"
     ]
    },
    {
     "name": "stdout",
     "output_type": "stream",
     "text": [
      "['G4', 'D4', 'E4', 'G4', 'E4'] 0.0\n",
      "['E4', 'D4', 'G4', 'E4', 'C4'] 0.0\n",
      "['C4', 'D4', 'D4', 'E4', 'C4'] 0.0\n",
      "['D4', 'G4', 'C4', 'E4', 'E4'] 0.0\n",
      "['C4', 'G4', 'G4', 'E4', 'G4'] 0.0\n",
      "['D4', 'D4', 'D4', 'D4', 'E4'] 0.0\n",
      "['C4', 'C4', 'E4', 'E4', 'G4'] 0.0\n",
      "['C4', 'G4', 'E4', 'G4', 'D4'] 0.0\n",
      "['C4', 'G4', 'D4', 'C4', 'C4'] 0.0\n",
      "['D4', 'E4', 'G4', 'G4', 'E4'] 0.0\n",
      "['D4', 'C4', 'C4', 'C4', 'D4'] 0.0\n",
      "['G4', 'C4', 'D4', 'G4', 'G4'] 0.0\n",
      "['E4', 'G4', 'D4', 'E4', 'E4'] 0.0\n",
      "['G4', 'G4', 'G4', 'D4', 'C4'] 0.0\n",
      "['D4', 'E4', 'C4', 'G4', 'D4'] 0.0\n",
      "['E4', 'E4', 'C4', 'D4', 'G4'] 0.0\n",
      "['E4', 'E4', 'C4', 'C4', 'E4'] 0.0\n",
      "['D4', 'E4', 'G4', 'E4', 'C4'] 0.0\n",
      "['G4', 'C4', 'C4', 'C4', 'G4'] 0.0\n",
      "['G4', 'C4', 'G4', 'D4', 'C4'] 0.0\n",
      "['G4', 'D4', 'C4', 'C4', 'E4'] 0.0\n",
      "['C4', 'E4', 'G4', 'C4', 'D4'] 0.0\n",
      "['E4', 'C4', 'C4', 'E4', 'D4'] 0.0\n",
      "['G4', 'E4', 'G4', 'G4', 'E4'] 0.0\n",
      "['G4', 'C4', 'G4', 'E4', 'D4'] 0.0\n",
      "['E4', 'E4', 'E4', 'G4', 'C4'] 0.0\n",
      "['D4', 'G4', 'C4', 'G4', 'C4'] 0.0\n",
      "['C4', 'D4', 'C4', 'C4', 'C4'] 0.0\n",
      "['C4', 'G4', 'D4', 'D4', 'D4'] 0.0\n",
      "['G4', 'D4', 'E4', 'E4', 'G4'] 0.0\n",
      "['E4', 'E4', 'E4', 'C4', 'E4'] 0.0\n",
      "['E4', 'E4', 'C4', 'G4', 'G4'] 0.0\n",
      "['D4', 'E4', 'C4', 'C4', 'E4'] 0.0\n",
      "['G4', 'G4', 'D4', 'D4', 'E4'] 0.0\n",
      "['G4', 'G4', 'C4', 'D4', 'D4'] 0.0\n",
      "['C4', 'D4', 'E4', 'E4', 'C4'] 0.0\n",
      "['G4', 'D4', 'E4', 'E4', 'D4'] 0.0\n",
      "['G4', 'D4', 'E4', 'G4', 'D4'] 0.0\n",
      "['D4', 'C4', 'C4', 'C4', 'C4'] 0.0\n",
      "['D4', 'D4', 'G4', 'D4', 'E4'] 0.0\n",
      "['E4', 'E4', 'D4', 'E4', 'D4'] 0.0\n",
      "['C4', 'C4', 'D4', 'C4', 'G4'] 0.0\n",
      "['C4', 'E4', 'E4', 'E4', 'E4'] 0.0\n",
      "['D4', 'D4', 'G4', 'C4', 'G4'] 0.0\n",
      "['D4', 'G4', 'E4', 'G4', 'D4'] 0.0\n",
      "['E4', 'D4', 'D4', 'G4', 'G4'] 0.0\n",
      "['C4', 'E4', 'D4', 'E4', 'D4'] 0.0\n",
      "['G4', 'G4', 'D4', 'E4', 'E4'] 0.0\n",
      "['E4', 'G4', 'D4', 'E4', 'G4'] 0.0\n",
      "['E4', 'G4', 'G4', 'C4', 'D4'] 0.0\n",
      "['C4', 'E4', 'C4', 'D4', 'C4'] 0.0\n",
      "['E4', 'D4', 'D4', 'D4', 'D4'] 0.0\n",
      "['G4', 'E4', 'C4', 'E4', 'G4'] 0.0\n",
      "['G4', 'C4', 'E4', 'G4', 'G4'] 0.0\n",
      "['D4', 'C4', 'G4', 'G4', 'G4'] 0.0\n",
      "['C4', 'C4', 'D4', 'D4', 'C4'] 0.0\n",
      "['C4', 'G4', 'D4', 'E4', 'D4'] 0.0\n",
      "['E4', 'C4', 'C4', 'G4', 'G4'] 0.0\n",
      "['D4', 'C4', 'G4', 'D4', 'C4'] 0.0\n",
      "['C4', 'E4', 'E4', 'E4', 'G4'] 0.0\n",
      "['E4', 'E4', 'E4', 'C4', 'C4'] 0.0\n",
      "['G4', 'G4', 'D4', 'D4', 'C4'] 0.0\n",
      "['D4', 'E4', 'E4', 'D4', 'E4'] 0.0\n",
      "['E4', 'C4', 'E4', 'D4', 'E4'] 0.0\n",
      "['G4', 'D4', 'G4', 'G4', 'C4'] 0.0\n",
      "['D4', 'E4', 'C4', 'D4', 'G4'] 0.0\n",
      "['G4', 'E4', 'E4', 'G4', 'G4'] 0.0\n",
      "['D4', 'D4', 'D4', 'C4', 'C4'] 0.0\n",
      "['E4', 'E4', 'D4', 'D4', 'E4'] 0.0\n",
      "['D4', 'C4', 'D4', 'E4', 'D4'] 0.0\n",
      "['E4', 'D4', 'E4', 'E4', 'G4'] 0.0\n",
      "['G4', 'G4', 'E4', 'G4', 'C4'] 0.0\n",
      "['G4', 'E4', 'E4', 'G4', 'E4'] 0.0\n",
      "['C4', 'E4', 'E4', 'D4', 'D4'] 0.0\n",
      "['G4', 'D4', 'E4', 'D4', 'D4'] 0.0\n",
      "['E4', 'D4', 'E4', 'C4', 'G4'] 0.0\n",
      "['G4', 'G4', 'E4', 'E4', 'D4'] 0.0\n",
      "['E4', 'E4', 'D4', 'D4', 'C4'] 0.0\n",
      "['G4', 'C4', 'C4', 'E4', 'G4'] 0.0\n",
      "['D4', 'G4', 'E4', 'E4', 'D4'] 0.0\n",
      "['D4', 'E4', 'G4', 'C4', 'C4'] 0.0\n",
      "['C4', 'C4', 'C4', 'C4', 'D4'] 0.0\n",
      "['E4', 'C4', 'D4', 'E4', 'D4'] 0.0\n",
      "['E4', 'E4', 'D4', 'C4', 'E4'] 0.0\n",
      "['D4', 'C4', 'C4', 'C4', 'G4'] 0.0\n",
      "['E4', 'E4', 'D4', 'G4', 'E4'] 0.0\n",
      "['G4', 'E4', 'C4', 'C4', 'G4'] 0.0\n",
      "['D4', 'D4', 'G4', 'D4', 'D4'] 0.0\n",
      "['C4', 'G4', 'D4', 'D4', 'E4'] 0.0\n",
      "['G4', 'E4', 'E4', 'E4', 'C4'] 0.0\n",
      "['C4', 'D4', 'E4', 'D4', 'D4'] 0.0\n",
      "['E4', 'C4', 'D4', 'C4', 'E4'] 0.0\n",
      "['E4', 'C4', 'E4', 'G4', 'G4'] 0.0\n",
      "['G4', 'E4', 'D4', 'E4', 'E4'] 0.0\n",
      "['D4', 'D4', 'D4', 'E4', 'D4'] 0.0\n",
      "['D4', 'G4', 'G4', 'G4', 'D4'] 0.0\n",
      "['D4', 'D4', 'C4', 'E4', 'C4'] 0.0\n",
      "['D4', 'C4', 'E4', 'C4', 'D4'] 0.0\n",
      "['G4', 'G4', 'G4', 'D4', 'G4'] 0.0\n",
      "['D4', 'C4', 'G4', 'G4', 'C4'] 0.0\n",
      "['C4', 'E4', 'E4', 'G4', 'D4'] 0.0\n",
      "['D4', 'E4', 'D4', 'G4', 'D4'] 0.0\n",
      "['D4', 'C4', 'E4', 'D4', 'G4'] 0.0\n",
      "['G4', 'D4', 'G4', 'E4', 'D4'] 0.0\n",
      "['E4', 'G4', 'D4', 'E4', 'C4'] 0.0\n",
      "['E4', 'C4', 'C4', 'G4', 'C4'] 0.0\n",
      "['G4', 'C4', 'C4', 'C4', 'E4'] 0.0\n",
      "['E4', 'E4', 'E4', 'E4', 'C4'] 0.0\n",
      "['D4', 'E4', 'D4', 'E4', 'E4'] 0.0\n",
      "['E4', 'G4', 'E4', 'E4', 'G4'] 0.0\n",
      "['G4', 'D4', 'E4', 'D4', 'G4'] 0.0\n",
      "['G4', 'E4', 'E4', 'D4', 'G4'] 0.0\n",
      "['D4', 'G4', 'G4', 'E4', 'E4'] 0.0\n",
      "['D4', 'C4', 'E4', 'G4', 'G4'] 0.0\n",
      "['E4', 'C4', 'D4', 'C4', 'C4'] 0.0\n",
      "['E4', 'C4', 'D4', 'D4', 'C4'] 0.0\n",
      "['D4', 'G4', 'D4', 'D4', 'E4'] 0.0\n",
      "['D4', 'G4', 'E4', 'E4', 'E4'] 0.0\n",
      "['C4', 'D4', 'G4', 'E4', 'C4'] 0.0\n",
      "['C4', 'E4', 'C4', 'C4', 'C4'] 0.0\n",
      "['D4', 'E4', 'G4', 'C4', 'G4'] 0.0\n",
      "['D4', 'C4', 'C4', 'E4', 'E4'] 0.0\n",
      "['G4', 'C4', 'G4', 'C4', 'E4'] 0.0\n",
      "['G4', 'C4', 'C4', 'E4', 'D4'] 0.0\n",
      "['C4', 'C4', 'D4', 'G4', 'G4'] 0.0\n",
      "['G4', 'D4', 'D4', 'G4', 'E4'] 0.0\n",
      "['C4', 'G4', 'C4', 'E4', 'D4'] 0.0\n",
      "['G4', 'D4', 'D4', 'C4', 'E4'] 0.0\n",
      "['E4', 'E4', 'G4', 'G4', 'G4'] 0.0\n",
      "['D4', 'G4', 'D4', 'E4', 'C4'] 0.0\n",
      "['D4', 'G4', 'C4', 'G4', 'G4'] 0.0\n",
      "['D4', 'C4', 'D4', 'C4', 'E4'] 0.0\n",
      "['C4', 'C4', 'G4', 'D4', 'D4'] 0.0\n",
      "['E4', 'E4', 'E4', 'D4', 'D4'] 0.0\n",
      "['D4', 'C4', 'E4', 'G4', 'E4'] 0.0\n",
      "['C4', 'G4', 'G4', 'E4', 'D4'] 0.0\n",
      "['C4', 'G4', 'D4', 'D4', 'G4'] 0.0\n",
      "['E4', 'D4', 'E4', 'G4', 'D4'] 0.0\n",
      "['C4', 'E4', 'E4', 'C4', 'D4'] 0.0\n",
      "['D4', 'D4', 'C4', 'E4', 'D4'] 0.0\n",
      "['G4', 'G4', 'E4', 'C4', 'D4'] 0.0\n",
      "['G4', 'G4', 'D4', 'E4', 'G4'] 0.0\n",
      "['E4', 'C4', 'C4', 'G4', 'E4'] 0.0\n",
      "['D4', 'C4', 'G4', 'G4', 'E4'] 0.0\n",
      "['E4', 'G4', 'C4', 'E4', 'D4'] 0.0\n",
      "['D4', 'G4', 'G4', 'D4', 'D4'] 0.0\n",
      "['D4', 'E4', 'G4', 'G4', 'C4'] 0.0\n",
      "['E4', 'G4', 'D4', 'D4', 'D4'] 0.0\n",
      "['C4', 'D4', 'G4', 'E4', 'G4'] 0.0\n",
      "['E4', 'C4', 'G4', 'C4', 'G4'] 0.0\n",
      "['E4', 'C4', 'C4', 'G4', 'D4'] 0.0\n",
      "['D4', 'D4', 'G4', 'E4', 'G4'] 0.0\n",
      "['G4', 'D4', 'E4', 'G4', 'G4'] 0.0\n",
      "['C4', 'C4', 'C4', 'C4', 'E4'] 0.0\n",
      "['E4', 'C4', 'G4', 'G4', 'E4'] 0.0\n",
      "['C4', 'D4', 'D4', 'E4', 'G4'] 0.0\n",
      "['G4', 'G4', 'D4', 'C4', 'E4'] 0.0\n",
      "['E4', 'E4', 'C4', 'E4', 'E4'] 0.0\n",
      "['E4', 'D4', 'E4', 'E4', 'E4'] 0.0\n",
      "['D4', 'G4', 'E4', 'G4', 'C4'] 0.0\n",
      "['C4', 'G4', 'D4', 'G4', 'G4'] 0.0\n",
      "['D4', 'D4', 'E4', 'D4', 'C4'] 0.0\n",
      "['G4', 'C4', 'C4', 'D4', 'C4'] 0.0\n",
      "['G4', 'D4', 'G4', 'D4', 'C4'] 0.0\n",
      "['G4', 'C4', 'C4', 'D4', 'D4'] 0.0\n",
      "['D4', 'D4', 'E4', 'G4', 'D4'] 0.0\n",
      "['C4', 'E4', 'D4', 'E4', 'G4'] 0.0\n",
      "['D4', 'D4', 'D4', 'C4', 'D4'] 0.0\n",
      "['G4', 'E4', 'C4', 'G4', 'E4'] 0.0\n",
      "['G4', 'D4', 'C4', 'D4', 'C4'] 0.0\n",
      "['G4', 'G4', 'C4', 'G4', 'G4'] 0.0\n",
      "['E4', 'C4', 'C4', 'D4', 'C4'] 0.0\n",
      "['C4', 'G4', 'E4', 'G4', 'C4'] 0.0\n",
      "['E4', 'C4', 'D4', 'D4', 'G4'] 0.0\n",
      "['E4', 'G4', 'C4', 'C4', 'C4'] 0.0\n",
      "['C4', 'G4', 'G4', 'G4', 'D4'] 0.0\n",
      "['C4', 'G4', 'C4', 'C4', 'C4'] 0.0\n",
      "['G4', 'G4', 'E4', 'D4', 'E4'] 0.0\n",
      "['G4', 'C4', 'G4', 'D4', 'E4'] 0.0\n",
      "['C4', 'D4', 'G4', 'G4', 'C4'] 0.0\n",
      "['G4', 'E4', 'D4', 'C4', 'G4'] 0.0\n",
      "['D4', 'D4', 'E4', 'E4', 'D4'] 0.0\n",
      "['C4', 'G4', 'G4', 'D4', 'D4'] 0.0\n",
      "['D4', 'E4', 'G4', 'C4', 'E4'] 0.0\n",
      "['D4', 'D4', 'E4', 'E4', 'E4'] 0.0\n",
      "['C4', 'G4', 'G4', 'C4', 'G4'] 0.0\n",
      "['E4', 'C4', 'D4', 'G4', 'C4'] 0.0\n",
      "['G4', 'E4', 'G4', 'C4', 'D4'] 0.0\n",
      "['G4', 'E4', 'D4', 'D4', 'C4'] 0.0\n",
      "['D4', 'G4', 'G4', 'D4', 'E4'] 0.0\n",
      "['D4', 'G4', 'E4', 'G4', 'E4'] 0.0\n",
      "['D4', 'G4', 'D4', 'D4', 'C4'] 0.0\n",
      "['E4', 'G4', 'C4', 'G4', 'C4'] 0.0\n",
      "['G4', 'C4', 'C4', 'C4', 'D4'] 0.0\n",
      "['C4', 'D4', 'E4', 'D4', 'E4'] 0.0\n",
      "['D4', 'C4', 'C4', 'E4', 'C4'] 0.0\n",
      "['C4', 'C4', 'E4', 'D4', 'C4'] 0.0\n",
      "['D4', 'C4', 'E4', 'E4', 'G4'] 0.0\n",
      "['E4', 'G4', 'G4', 'D4', 'D4'] 0.0\n",
      "['G4', 'G4', 'E4', 'C4', 'G4'] 0.0\n",
      "['C4', 'G4', 'C4', 'C4', 'E4'] 0.0\n",
      "['E4', 'C4', 'D4', 'G4', 'E4'] 0.0\n",
      "['G4', 'D4', 'C4', 'E4', 'E4'] 0.0\n",
      "['D4', 'E4', 'D4', 'C4', 'C4'] 0.0\n",
      "['G4', 'D4', 'E4', 'D4', 'C4'] 0.0\n",
      "['C4', 'G4', 'G4', 'C4', 'D4'] 0.0\n",
      "['G4', 'D4', 'C4', 'G4', 'G4'] 0.0\n",
      "['D4', 'D4', 'E4', 'D4', 'D4'] 0.0\n",
      "['D4', 'E4', 'C4', 'C4', 'D4'] 0.0\n",
      "['D4', 'C4', 'G4', 'C4', 'D4'] 0.0\n",
      "['G4', 'G4', 'G4', 'C4', 'C4'] 0.0\n",
      "['G4', 'C4', 'D4', 'E4', 'G4'] 0.0\n",
      "['C4', 'C4', 'G4', 'G4', 'C4'] 0.0\n",
      "['G4', 'G4', 'G4', 'D4', 'D4'] 0.0\n",
      "['C4', 'C4', 'C4', 'E4', 'C4'] 0.0\n",
      "['C4', 'E4', 'D4', 'C4', 'D4'] 0.0\n",
      "['G4', 'E4', 'E4', 'C4', 'E4'] 0.0\n",
      "['C4', 'E4', 'D4', 'D4', 'G4'] 0.0\n",
      "['E4', 'D4', 'D4', 'G4', 'C4'] 0.0\n",
      "['E4', 'D4', 'C4', 'G4', 'C4'] 0.0\n",
      "['G4', 'C4', 'D4', 'E4', 'C4'] 0.0\n",
      "['C4', 'E4', 'D4', 'G4', 'G4'] 0.0\n",
      "['E4', 'C4', 'G4', 'C4', 'D4'] 0.0\n",
      "['G4', 'G4', 'G4', 'E4', 'G4'] 0.0\n",
      "['C4', 'C4', 'C4', 'G4', 'E4'] 0.0\n",
      "['E4', 'D4', 'C4', 'G4', 'E4'] 0.0\n",
      "['D4', 'C4', 'G4', 'E4', 'E4'] 0.0\n",
      "['G4', 'E4', 'E4', 'D4', 'C4'] 0.0\n",
      "['E4', 'E4', 'D4', 'G4', 'G4'] 0.0\n",
      "['E4', 'E4', 'G4', 'D4', 'D4'] 0.0\n",
      "['C4', 'G4', 'C4', 'G4', 'D4'] 0.0\n",
      "['E4', 'G4', 'D4', 'C4', 'G4'] 0.0\n",
      "['G4', 'G4', 'D4', 'D4', 'G4'] 0.0\n",
      "['G4', 'D4', 'C4', 'E4', 'G4'] 0.0\n",
      "['E4', 'G4', 'C4', 'E4', 'C4'] 0.0\n",
      "['C4', 'E4', 'G4', 'E4', 'G4'] 0.0\n",
      "['D4', 'D4', 'G4', 'G4', 'D4'] 0.0\n",
      "['G4', 'C4', 'E4', 'E4', 'C4'] 0.0\n",
      "['D4', 'E4', 'G4', 'D4', 'D4'] 0.0\n",
      "['G4', 'G4', 'E4', 'E4', 'G4'] 0.0\n",
      "['C4', 'G4', 'E4', 'C4', 'G4'] 0.0\n",
      "['D4', 'D4', 'D4', 'G4', 'C4'] 0.0\n",
      "['E4', 'G4', 'E4', 'D4', 'D4'] 0.0\n",
      "['G4', 'E4', 'C4', 'G4', 'D4'] 0.0\n",
      "['E4', 'G4', 'C4', 'C4', 'D4'] 0.0\n",
      "['D4', 'G4', 'D4', 'C4', 'E4'] 0.0\n",
      "['D4', 'G4', 'D4', 'C4', 'C4'] 0.0\n",
      "['C4', 'D4', 'E4', 'C4', 'C4'] 0.0\n",
      "['E4', 'G4', 'G4', 'G4', 'E4'] 0.0\n",
      "['E4', 'E4', 'E4', 'D4', 'E4'] 0.0\n",
      "['C4', 'G4', 'C4', 'G4', 'C4'] 0.0\n",
      "['D4', 'C4', 'D4', 'G4', 'E4'] 0.0\n",
      "['E4', 'G4', 'C4', 'E4', 'G4'] 0.0\n",
      "['D4', 'E4', 'D4', 'C4', 'E4'] 0.0\n",
      "['D4', 'G4', 'E4', 'D4', 'E4'] 0.0\n",
      "['C4', 'D4', 'C4', 'D4', 'G4'] 0.0\n",
      "['C4', 'C4', 'G4', 'C4', 'E4'] 0.0\n",
      "['G4', 'C4', 'D4', 'C4', 'E4'] 0.0\n",
      "['E4', 'E4', 'G4', 'E4', 'C4'] 0.0\n",
      "['E4', 'C4', 'C4', 'C4', 'G4'] 0.0\n",
      "['G4', 'C4', 'G4', 'G4', 'E4'] 0.0\n",
      "['D4', 'D4', 'D4', 'G4', 'E4'] 0.0\n",
      "['C4', 'E4', 'E4', 'E4', 'D4'] 0.0\n",
      "['C4', 'E4', 'C4', 'D4', 'E4'] 0.0\n",
      "['C4', 'E4', 'D4', 'G4', 'C4'] 0.0\n",
      "['D4', 'G4', 'C4', 'E4', 'D4'] 0.0\n",
      "['D4', 'E4', 'G4', 'G4', 'G4'] 0.0\n",
      "['D4', 'E4', 'G4', 'C4', 'D4'] 0.0\n",
      "['E4', 'G4', 'D4', 'C4', 'D4'] 0.0\n",
      "['E4', 'E4', 'D4', 'D4', 'D4'] 0.0\n",
      "['D4', 'G4', 'G4', 'E4', 'G4'] 0.0\n",
      "['G4', 'D4', 'E4', 'C4', 'G4'] 0.0\n",
      "['G4', 'D4', 'G4', 'G4', 'D4'] 0.0\n",
      "['C4', 'D4', 'D4', 'E4', 'E4'] 0.0\n",
      "['D4', 'D4', 'C4', 'C4', 'C4'] 0.0\n",
      "['G4', 'G4', 'D4', 'C4', 'G4'] 0.0\n",
      "['C4', 'C4', 'G4', 'G4', 'E4'] 0.0\n",
      "['G4', 'E4', 'E4', 'C4', 'D4'] 0.0\n",
      "['D4', 'E4', 'C4', 'C4', 'C4'] 0.0\n",
      "['E4', 'E4', 'E4', 'E4', 'D4'] 0.0\n",
      "['E4', 'E4', 'D4', 'D4', 'G4'] 0.0\n",
      "['C4', 'G4', 'E4', 'E4', 'G4'] 0.0\n",
      "['D4', 'C4', 'D4', 'C4', 'G4'] 0.0\n",
      "['D4', 'G4', 'E4', 'G4', 'G4'] 0.0\n",
      "['C4', 'E4', 'E4', 'C4', 'C4'] 0.0\n",
      "['G4', 'G4', 'C4', 'D4', 'E4'] 0.0\n",
      "['G4', 'D4', 'D4', 'G4', 'C4'] 0.0\n",
      "['C4', 'D4', 'G4', 'G4', 'E4'] 0.0\n",
      "['E4', 'E4', 'C4', 'E4', 'G4'] 0.0\n",
      "['G4', 'C4', 'D4', 'G4', 'C4'] 0.0\n",
      "['C4', 'G4', 'E4', 'D4', 'G4'] 0.0\n",
      "['G4', 'E4', 'G4', 'D4', 'D4'] 0.0\n",
      "['G4', 'C4', 'D4', 'E4', 'D4'] 0.0\n",
      "['E4', 'G4', 'G4', 'E4', 'E4'] 0.0\n",
      "['E4', 'E4', 'D4', 'E4', 'C4'] 0.0\n",
      "['D4', 'C4', 'D4', 'G4', 'C4'] 0.0\n",
      "['D4', 'D4', 'G4', 'G4', 'E4'] 0.0\n",
      "['G4', 'G4', 'C4', 'D4', 'G4'] 0.0\n",
      "['G4', 'C4', 'E4', 'E4', 'E4'] 0.0\n",
      "['G4', 'D4', 'D4', 'C4', 'G4'] 0.0\n",
      "['E4', 'G4', 'G4', 'C4', 'E4'] 0.0\n",
      "['C4', 'C4', 'E4', 'E4', 'C4'] 0.0\n",
      "['G4', 'G4', 'G4', 'C4', 'D4'] 0.0\n",
      "['D4', 'C4', 'C4', 'G4', 'C4'] 0.0\n",
      "['G4', 'G4', 'E4', 'G4', 'E4'] 0.0\n"
     ]
    },
    {
     "name": "stdout",
     "output_type": "stream",
     "text": [
      "['G4', 'D4', 'D4', 'G4', 'D4'] 0.0\n",
      "['C4', 'D4', 'G4', 'D4', 'C4'] 0.0\n",
      "['G4', 'G4', 'D4', 'D4', 'D4'] 0.0\n",
      "['E4', 'C4', 'E4', 'G4', 'C4'] 0.0\n",
      "['G4', 'E4', 'G4', 'G4', 'C4'] 0.0\n",
      "['E4', 'C4', 'C4', 'D4', 'D4'] 0.0\n",
      "['G4', 'C4', 'G4', 'C4', 'D4'] 0.0\n",
      "['C4', 'C4', 'E4', 'G4', 'C4'] 0.0\n",
      "['G4', 'D4', 'E4', 'E4', 'C4'] 0.0\n",
      "['C4', 'E4', 'G4', 'G4', 'E4'] 0.0\n",
      "['E4', 'E4', 'G4', 'G4', 'E4'] 0.0\n",
      "['G4', 'G4', 'D4', 'C4', 'D4'] 0.0\n",
      "['G4', 'D4', 'C4', 'D4', 'G4'] 0.0\n",
      "['G4', 'D4', 'G4', 'E4', 'G4'] 0.0\n",
      "['G4', 'C4', 'D4', 'D4', 'G4'] 0.0\n",
      "['E4', 'D4', 'G4', 'E4', 'E4'] 0.0\n",
      "['C4', 'E4', 'D4', 'C4', 'E4'] 0.0\n",
      "['D4', 'C4', 'E4', 'C4', 'E4'] 0.0\n",
      "['E4', 'D4', 'G4', 'D4', 'G4'] 0.0\n",
      "['C4', 'G4', 'D4', 'G4', 'E4'] 0.0\n",
      "['D4', 'E4', 'E4', 'G4', 'G4'] 0.0\n",
      "['G4', 'E4', 'E4', 'G4', 'D4'] 0.0\n",
      "['C4', 'C4', 'D4', 'D4', 'G4'] 0.0\n",
      "['E4', 'G4', 'G4', 'G4', 'G4'] 0.0\n",
      "['E4', 'E4', 'G4', 'D4', 'G4'] 0.0\n",
      "['D4', 'G4', 'D4', 'E4', 'G4'] 0.0\n",
      "['E4', 'G4', 'D4', 'G4', 'C4'] 0.0\n",
      "['E4', 'D4', 'G4', 'G4', 'E4'] 0.0\n",
      "['E4', 'E4', 'G4', 'G4', 'C4'] 0.0\n",
      "['C4', 'E4', 'D4', 'D4', 'E4'] 0.0\n",
      "['E4', 'G4', 'G4', 'G4', 'D4'] 0.0\n",
      "['G4', 'G4', 'C4', 'D4', 'C4'] 0.0\n",
      "['C4', 'D4', 'E4', 'D4', 'G4'] 0.0\n",
      "['E4', 'G4', 'E4', 'C4', 'D4'] 0.0\n",
      "['E4', 'G4', 'D4', 'D4', 'E4'] 0.0\n",
      "['G4', 'G4', 'D4', 'G4', 'E4'] 0.0\n",
      "['G4', 'G4', 'E4', 'C4', 'E4'] 0.0\n",
      "['E4', 'D4', 'C4', 'E4', 'D4'] 0.0\n",
      "['G4', 'D4', 'E4', 'E4', 'E4'] 0.0\n",
      "['D4', 'C4', 'C4', 'G4', 'G4'] 0.0\n",
      "['C4', 'C4', 'G4', 'G4', 'G4'] 0.0\n",
      "['G4', 'E4', 'C4', 'C4', 'C4'] 0.0\n",
      "['D4', 'C4', 'D4', 'E4', 'C4'] 0.0\n",
      "['G4', 'G4', 'G4', 'G4', 'C4'] 0.0\n",
      "['D4', 'E4', 'E4', 'D4', 'G4'] 0.0\n",
      "['D4', 'D4', 'D4', 'G4', 'G4'] 0.0\n",
      "['E4', 'D4', 'C4', 'C4', 'E4'] 0.0\n",
      "['G4', 'G4', 'G4', 'E4', 'C4'] 0.0\n",
      "['E4', 'C4', 'E4', 'C4', 'C4'] 0.0\n",
      "['C4', 'C4', 'E4', 'G4', 'D4'] 0.0\n",
      "['E4', 'D4', 'D4', 'D4', 'G4'] 0.0\n",
      "['E4', 'E4', 'E4', 'G4', 'D4'] 0.0\n",
      "['E4', 'C4', 'C4', 'E4', 'G4'] 0.0\n",
      "['E4', 'E4', 'D4', 'G4', 'D4'] 0.0\n",
      "['G4', 'C4', 'G4', 'G4', 'G4'] 0.0\n",
      "['E4', 'C4', 'C4', 'D4', 'E4'] 0.0\n",
      "['C4', 'G4', 'G4', 'D4', 'E4'] 0.0\n",
      "['C4', 'C4', 'D4', 'C4', 'E4'] 0.0\n",
      "['E4', 'G4', 'C4', 'D4', 'G4'] 0.0\n",
      "['G4', 'G4', 'C4', 'E4', 'C4'] 0.0\n",
      "['C4', 'G4', 'E4', 'D4', 'D4'] 0.0\n",
      "['G4', 'E4', 'E4', 'E4', 'D4'] 0.0\n",
      "['E4', 'C4', 'G4', 'G4', 'C4'] 0.0\n",
      "['D4', 'E4', 'C4', 'D4', 'D4'] 0.0\n",
      "['C4', 'G4', 'C4', 'D4', 'E4'] 0.0\n",
      "['C4', 'G4', 'E4', 'E4', 'E4'] 0.0\n",
      "['G4', 'E4', 'G4', 'E4', 'D4'] 0.0\n",
      "['E4', 'E4', 'E4', 'G4', 'G4'] 0.0\n",
      "['D4', 'C4', 'D4', 'D4', 'C4'] 0.0\n",
      "['G4', 'G4', 'G4', 'G4', 'D4'] 0.0\n",
      "['G4', 'G4', 'D4', 'C4', 'C4'] 0.0\n",
      "['G4', 'C4', 'E4', 'D4', 'D4'] 0.0\n",
      "['D4', 'C4', 'C4', 'E4', 'G4'] 0.0\n",
      "['G4', 'C4', 'C4', 'C4', 'C4'] 0.0\n",
      "['C4', 'D4', 'C4', 'C4', 'D4'] 0.0\n",
      "['C4', 'C4', 'C4', 'G4', 'G4'] 0.0\n",
      "['D4', 'D4', 'E4', 'D4', 'D4', 'G4'] 1.0\n"
     ]
    }
   ],
   "source": [
    "for data in sampleset.data():\n",
    "    seq = translate_sample(data.sample,P,n)\n",
    "    print(seq,data.energy)"
   ]
  },
  {
   "cell_type": "markdown",
   "id": "known-fisher",
   "metadata": {},
   "source": [
    "You can get the sample with the lowest energy using `sampleset.first.sample`. Since there are multiple of them in this case, this will return you the first sample in the list."
   ]
  },
  {
   "cell_type": "code",
   "execution_count": 52,
   "id": "quality-mountain",
   "metadata": {},
   "outputs": [
    {
     "data": {
      "text/plain": [
       "{'x_1_C4': 0,\n",
       " 'x_1_D4': 1,\n",
       " 'x_1_E4': 0,\n",
       " 'x_1_G4': 0,\n",
       " 'x_2_C4': 0,\n",
       " 'x_2_D4': 1,\n",
       " 'x_2_E4': 0,\n",
       " 'x_2_G4': 0,\n",
       " 'x_3_C4': 0,\n",
       " 'x_3_D4': 1,\n",
       " 'x_3_E4': 0,\n",
       " 'x_3_G4': 0,\n",
       " 'x_4_C4': 0,\n",
       " 'x_4_D4': 1,\n",
       " 'x_4_E4': 0,\n",
       " 'x_4_G4': 0,\n",
       " 'x_5_C4': 0,\n",
       " 'x_5_D4': 1,\n",
       " 'x_5_E4': 0,\n",
       " 'x_5_G4': 0}"
      ]
     },
     "execution_count": 52,
     "metadata": {},
     "output_type": "execute_result"
    }
   ],
   "source": [
    "sampleset.first.sample"
   ]
  },
  {
   "cell_type": "markdown",
   "id": "weighted-insurance",
   "metadata": {},
   "source": [
    "As the lowest energy sample has energy 0, we expect that no constraint is violated. We can check it also using pyqubo. The returned dictionary will contain the list of violated constraints, or {} in case no constraint is violated. "
   ]
  },
  {
   "cell_type": "code",
   "execution_count": 53,
   "id": "respective-climb",
   "metadata": {},
   "outputs": [
    {
     "name": "stdout",
     "output_type": "stream",
     "text": [
      "{}\n"
     ]
    }
   ],
   "source": [
    "check_constraints(sampleset.first.sample, model)  "
   ]
  },
  {
   "cell_type": "markdown",
   "id": "known-serial",
   "metadata": {},
   "source": [
    "If you want to store the results, you can run the following cell. "
   ]
  },
  {
   "cell_type": "code",
   "execution_count": 54,
   "id": "valued-indianapolis",
   "metadata": {},
   "outputs": [],
   "source": [
    "filename =\"experiment1\"\n",
    "store_results(filename, sampleset)"
   ]
  },
  {
   "cell_type": "markdown",
   "id": "ordered-stationery",
   "metadata": {},
   "source": [
    "---"
   ]
  },
  {
   "cell_type": "markdown",
   "id": "moral-french",
   "metadata": {},
   "source": [
    "### Example 2 (page 14) - Avoiding certain consecutive notes"
   ]
  },
  {
   "cell_type": "markdown",
   "id": "686c1dbf",
   "metadata": {},
   "source": [
    "Suppose that we want to add a restriction that the note $p_l$ does not appear after the note $p_k$. This is useful for avoiding particular intervals and amending our model. \n",
    "\n",
    "Such a restriction can be incorporated into the QUBO formulation by adding the following term to the objective function multiplied with a suitable penalty coefficient $C$ for each $i \\in [n-1]$.\n",
    "\\begin{equation}\\label{eq:consec} \n",
    "x_{i,p_k}x_{i+1,p_l}     \n",
    "\\end{equation}\n",
    "\n",
    "Note that when both variables equal 1 simultaneously, a penalty of $C$ is added to the objective function. Alternatively, we can express the same rule using the following constraint.\n",
    "\\begin{equation}\\label{eq:constraint}\n",
    "    x_{i,p_k} + x_{i+1,p_l} \\leq 1     \n",
    "\\end{equation}\n",
    "\n",
    "In this case, the inequality should be first transformed into equality by using slack variables and then added to the objective function."
   ]
  },
  {
   "cell_type": "markdown",
   "id": "choice-petite",
   "metadata": {},
   "source": [
    "<b> Creating the model"
   ]
  },
  {
   "cell_type": "markdown",
   "id": "pregnant-respect",
   "metadata": {},
   "source": [
    "We use the same `P` and `n` as before."
   ]
  },
  {
   "cell_type": "code",
   "execution_count": 55,
   "id": "naval-maryland",
   "metadata": {},
   "outputs": [],
   "source": [
    "P = ['C4', 'D4', 'E4','G4' ]\n",
    "n = 5"
   ]
  },
  {
   "cell_type": "markdown",
   "id": "aware-extreme",
   "metadata": {},
   "source": [
    "First we define the single note constraint."
   ]
  },
  {
   "cell_type": "code",
   "execution_count": 56,
   "id": "special-alcohol",
   "metadata": {},
   "outputs": [],
   "source": [
    "H = 0\n",
    "for i in range(1,n+1):\n",
    "    H += Constraint((1-sum(Binary(f\"x_{i}_{p}\") for p in P))**2, f\"Single_note_{i}\")"
   ]
  },
  {
   "cell_type": "markdown",
   "id": "naked-period",
   "metadata": {},
   "source": [
    "We want to enforce that G4 does not follow D4. We add the term ` Binary(f\"x_{i}_D4\")*Binary(f\"x_{i+1}_G4\")` directly to the objective for each $i$. Note that the penalty coefficient is 1 in this case."
   ]
  },
  {
   "cell_type": "code",
   "execution_count": 57,
   "id": "reduced-campbell",
   "metadata": {},
   "outputs": [],
   "source": [
    "for i in range(1,n+1):\n",
    "    H += Binary(f\"x_{i}_D4\")*Binary(f\"x_{i+1}_G4\")     "
   ]
  },
  {
   "cell_type": "markdown",
   "id": "31ce943e",
   "metadata": {},
   "source": [
    "Now let us consider a rule saying that the same note does not appear more than twice in a row. Similar to what we had above, the term $x_{i,p_j}x_{i+1,p_j}x_{i+2,p_j} $ can be added to the objective for each $i\\in[n-2]$ and $j \\in P$. However, this is not a quadratic term, and quadratization is needed to obtain a QUBO. \n",
    "\n",
    "Alternatively, the rule can be expressed by the following constraint, which forces that at most two of the variables are equal to 1 simultaneously. \n",
    "\n",
    "\\begin{equation}\\label{eq:samenote}\n",
    " x_{i,j} + x_{i+1,j} + x_{i+2,j} \\leq 2\n",
    "\\end{equation}"
   ]
  },
  {
   "cell_type": "markdown",
   "id": "monthly-thread",
   "metadata": {},
   "source": [
    "As we have an inequality, we need to introduce a slack variable $s_{i,j}$. \n",
    "\n",
    "$$ x_{i,j} + x_{i+1,j} + x_{i+2,j} +s_{i,j} = 2$$\n",
    "\n",
    "The upper bound for the slack variable is 2, as all three binary variables can be equal to 0 simulatenously. Hence we need an integer variable $s$. We use `LogEncInteger(f\"s_{i}_{j}\",(0,2))` from pyqubo to create an integer variable named `s_i_j`, with the lower and upper bounds (0,2). \n",
    "\n",
    "Finally, we convert it to the following constraint add to our model.\n",
    "\n",
    "$ (x_{i,j} + x_{i+1,j} + x_{i+2,j} +s_{i,j} - 2)^2$\n",
    "\n",
    "Notice that the penalty value is set as 1."
   ]
  },
  {
   "cell_type": "code",
   "execution_count": 58,
   "id": "thorough-prison",
   "metadata": {},
   "outputs": [],
   "source": [
    "for i in range(1,n-1):\n",
    "    for j in P:\n",
    "        H += Constraint((Binary(f\"x_{i+2}_{j}\") + Binary(f\"x_{i}_{j}\") + Binary(f\"x_{i+1}_{j}\") + LogEncInteger(f\"s_{i}_{j}\",(0,2))-2)**2, f\"same_note_{i}_{j}\")"
   ]
  },
  {
   "cell_type": "markdown",
   "id": "nonprofit-filing",
   "metadata": {},
   "source": [
    "<b> Running the experiment"
   ]
  },
  {
   "cell_type": "code",
   "execution_count": 59,
   "id": "minimal-fountain",
   "metadata": {},
   "outputs": [],
   "source": [
    "model = H.compile()\n",
    "qubo, of = model.to_qubo()\n",
    "bqm = dimod.BinaryQuadraticModel.from_qubo(qubo,of)"
   ]
  },
  {
   "cell_type": "markdown",
   "id": "super-newton",
   "metadata": {},
   "source": [
    "We increase the chain strength to 1.5 this time."
   ]
  },
  {
   "cell_type": "code",
   "execution_count": 60,
   "id": "every-pricing",
   "metadata": {},
   "outputs": [],
   "source": [
    "sampleset = anneal(bqm, 's', cs=1.5)"
   ]
  },
  {
   "cell_type": "markdown",
   "id": "temporal-wheat",
   "metadata": {},
   "source": [
    "<b>Interpreting the results"
   ]
  },
  {
   "cell_type": "markdown",
   "id": "photographic-moment",
   "metadata": {},
   "source": [
    "Let's print the first 5 samples and their energies."
   ]
  },
  {
   "cell_type": "code",
   "execution_count": 61,
   "id": "refined-london",
   "metadata": {},
   "outputs": [
    {
     "name": "stdout",
     "output_type": "stream",
     "text": [
      "['G4', 'D4', 'E4', 'G4', 'C4'] 0.0\n",
      "['G4', 'E4', 'G4', 'E4', 'G4'] 0.0\n",
      "['D4', 'E4', 'C4', 'D4', 'E4'] 0.0\n",
      "['C4', 'E4', 'G4', 'C4', 'D4'] 0.0\n",
      "['D4', 'E4', 'E4', 'C4', 'C4'] 0.0\n",
      "['E4', 'G4', 'C4', 'E4', 'E4'] 0.0\n"
     ]
    }
   ],
   "source": [
    "for i, data in enumerate(sampleset.data()):\n",
    "    seq = translate_sample(data.sample,P,n)\n",
    "    print(seq,data.energy)\n",
    "    if i==5:\n",
    "        break"
   ]
  },
  {
   "cell_type": "code",
   "execution_count": 62,
   "id": "nervous-microphone",
   "metadata": {},
   "outputs": [],
   "source": [
    "filename = \"experiment2\"\n",
    "store_results(filename, sampleset)"
   ]
  },
  {
   "cell_type": "markdown",
   "id": "altered-vessel",
   "metadata": {},
   "source": [
    "---"
   ]
  },
  {
   "cell_type": "markdown",
   "id": "square-numbers",
   "metadata": {},
   "source": [
    "### Example 4 (Page 15) - Diatonic scale and tendency notes"
   ]
  },
  {
   "cell_type": "markdown",
   "id": "516d7838",
   "metadata": {},
   "source": [
    "All music pieces have a definite key signature. Therefore it is often more suitable to work with pitches from a particular scale.\n",
    "\n",
    "For simplicity, let us consider the 8 degrees of a diatonic scale. In this case, the set $P$ consists of $d_1,d_2,\\dots,d_8$ where $d_j$ is the $j$'th degree of the scale. Instead of defining the variables by the pitches, we will define them through degrees for each $i\\in[n]$ and $d_j\\in P$.\n",
    "\n",
    "\\begin{equation}\\label{eq:modeldiatonic}\n",
    "x_{i,j} =  \\begin{cases}%\n",
    "1      & \\text{note at position $i$ is $d_j$,}\\\\\n",
    "0 & \\text{otherwise.}\n",
    "\\end{cases}\n",
    "\\end{equation}\n",
    "\n",
    "As a result of the optimization procedure, we will obtain a degree sequence, which can then be translated into a note sequence based on the chosen scale. Hence, our model is readily adaptable to different scales. Furthermore, the rules described in the previous subsections are still applicable. \n",
    "\n",
    "Some notes in the scale are less stable than the others which are known as the \\textit{tendency notes} and tend to resolve to the stable ones. Let us examine how to incorporate rules about tendency notes.  According to the rule, degrees 2, 4, and 6 resolve down by one step, and degree 7 resolves to the octave. To reflect the rule about tendency notes, for each $i \\in [n-1]$, we will add the terms defined in Eq.~\\ref{eq:tendency} to the objective.\n",
    "\n",
    "\\begin{equation}\\label{eq:tendency}\n",
    "x_{i,2}(1-x_{i+1,1}),~~\n",
    "x_{i,4}(1-x_{i+1,3}),~~\n",
    "x_{i,6}(1-x_{i+1,5}),~~\n",
    "x_{i,7}(1-x_{i+1,8})\n",
    "\\end{equation}"
   ]
  },
  {
   "cell_type": "markdown",
   "id": "associate-reynolds",
   "metadata": {},
   "source": [
    "<b>Creating the model"
   ]
  },
  {
   "cell_type": "markdown",
   "id": "loved-alarm",
   "metadata": {},
   "source": [
    "This time, we take the diatonic scale and select `P` as follows. We will generate 20 notes."
   ]
  },
  {
   "cell_type": "code",
   "execution_count": 75,
   "id": "accredited-script",
   "metadata": {},
   "outputs": [],
   "source": [
    "P = [1,2,3,4,5,6,7,8]\n",
    "n = 20"
   ]
  },
  {
   "cell_type": "markdown",
   "id": "distributed-setting",
   "metadata": {},
   "source": [
    "We start by adding the single note constraint."
   ]
  },
  {
   "cell_type": "code",
   "execution_count": 76,
   "id": "organic-enhancement",
   "metadata": {},
   "outputs": [],
   "source": [
    "H = 0\n",
    "for i in range(1,n+1):\n",
    "    H += Constraint((1-sum(Binary(f\"x_{i}_{p}\") for p in P))**2, f\"Single_note_{i}\")"
   ]
  },
  {
   "cell_type": "markdown",
   "id": "extended-services",
   "metadata": {},
   "source": [
    "We initialize the first and the last note of the sequence."
   ]
  },
  {
   "cell_type": "code",
   "execution_count": 77,
   "id": "affected-turkey",
   "metadata": {},
   "outputs": [],
   "source": [
    "H += (1-Binary(f\"x_1_1\")) + (1-Binary(f\"x_20_1\"))"
   ]
  },
  {
   "cell_type": "markdown",
   "id": "agricultural-dance",
   "metadata": {},
   "source": [
    "Next we add the rules about tendency notes, by adding the following terms directly to the objective."
   ]
  },
  {
   "cell_type": "code",
   "execution_count": 78,
   "id": "tracked-vulnerability",
   "metadata": {},
   "outputs": [],
   "source": [
    "for i in range(1,n):\n",
    "    H += Binary(f\"x_{i}_2\")*(1-Binary(f\"x_{i+1}_1\"))\n",
    "    H += Binary(f\"x_{i}_4\")*(1-Binary(f\"x_{i+1}_3\"))\n",
    "    H += Binary(f\"x_{i}_6\")*(1-Binary(f\"x_{i+1}_5\"))\n",
    "    H += Binary(f\"x_{i}_7\")*(1-Binary(f\"x_{i+1}_8\"))"
   ]
  },
  {
   "cell_type": "markdown",
   "id": "loose-pressure",
   "metadata": {},
   "source": [
    "<b> Running the experiment"
   ]
  },
  {
   "cell_type": "code",
   "execution_count": 79,
   "id": "peripheral-vehicle",
   "metadata": {},
   "outputs": [],
   "source": [
    "model = H.compile()\n",
    "qubo, of = model.to_qubo()\n",
    "bqm = dimod.BinaryQuadraticModel.from_qubo(qubo,of)"
   ]
  },
  {
   "cell_type": "code",
   "execution_count": 80,
   "id": "endless-fifth",
   "metadata": {},
   "outputs": [],
   "source": [
    "cs = 1.5\n",
    "sampleset = anneal(bqm, 'q', cs)"
   ]
  },
  {
   "cell_type": "markdown",
   "id": "integrated-angola",
   "metadata": {},
   "source": [
    "<b> Interpreting the results"
   ]
  },
  {
   "cell_type": "markdown",
   "id": "attached-singer",
   "metadata": {},
   "source": [
    "Let's print the first five samples and their energies."
   ]
  },
  {
   "cell_type": "code",
   "execution_count": 81,
   "id": "economic-track",
   "metadata": {},
   "outputs": [
    {
     "name": "stdout",
     "output_type": "stream",
     "text": [
      "[1, 8, 3, 2, 1, 5, 7, 8, 2, 1, 1, 5, 8, 7, 1, 6, 5, 8, 1, 5] 2.0\n",
      "[1, 2, 1, 6, 5, 8, 5, 2, 1, 3, 3, 8, 8, 5, 7, 8, 2, 7, 1, 2, 1] 2.0\n",
      "[1, 8, 1, 1, 1, 4, 3, 1, 3, 5, 8, 5, 3, 5, 1, 4, 3, 2, 7, 1, 3, 1] 3.0\n",
      "[1, 2, 1, 7, 8, 3, 4, 3, 1, 3, 7, 3, 3, 5, 7, 1, 3, 7, 8, 5, 1] 3.0\n",
      "[1, 8, 1, 3, 8, 7, 1, 8, 5, 7, 1, 8, 5, 3, 7, 8, 3, 3, 8, 3, 1] 3.0\n",
      "[1, 8, 3, 8, 1, 3, 1, 8, 3, 7, 8, 1, 7, 8, 8, 1, 2, 7, 3, 5, 1] 3.0\n",
      "[1, 8, 1, 1, 8, 5, 7, 2, 1, 1, 7, 8, 5, 1, 1, 3, 5, 7, 5, 1, 1] 3.0\n"
     ]
    }
   ],
   "source": [
    "for i,data in enumerate(sampleset.data()):\n",
    "    seq = translate_sample(data.sample,P,n)\n",
    "    print(seq,data.energy)\n",
    "    if i==6:\n",
    "        break"
   ]
  },
  {
   "cell_type": "code",
   "execution_count": 82,
   "id": "together-parameter",
   "metadata": {},
   "outputs": [],
   "source": [
    "filename = \"experiment4\"\n",
    "store_results(filename, sampleset)"
   ]
  },
  {
   "cell_type": "markdown",
   "id": "dedicated-roots",
   "metadata": {},
   "source": [
    "---"
   ]
  },
  {
   "cell_type": "markdown",
   "id": "prostate-spiritual",
   "metadata": {},
   "source": [
    "### Example 5 (Page 16-17) - Objective function"
   ]
  },
  {
   "cell_type": "markdown",
   "id": "0b3af82c",
   "metadata": {},
   "source": [
    "In order to differentiate between the feasible solutions, we can give some `rewards' to a particular sequence of notes, i.e. decrease their energy. For instance,  we might give a higher reward for pitch $\\mathtt{D4}$ following $\\mathtt{C4}$ vs. pitch $\\mathtt{E4}$ following $\\mathtt{C4}$. The way to accomplish this is to have the following term in the objective function.\n",
    "\\begin{equation}\\label{eq:objective}\n",
    "    -\\sum_{ \\substack{i\\in [n-1]  \\\\ j,j' \\in P}} W_{j,j'} x_{i,j} x_{i+1,j'}\n",
    "\\end{equation}\n",
    "Here, $W_{j,j'}$ is the weight associated with having note $j'$ after note $j$. The larger the weight, the higher the reward we have in the objective function. Note that we have a negative sign in front of the equation, as we have a minimization problem and want to decrease the energy. The weights can be determined by analyzing some music pieces and forming a transition matrix of weights examining the consecutive notes. Below, we illustrate this idea through a simple music piece.\n"
   ]
  },
  {
   "cell_type": "markdown",
   "id": "younger-seller",
   "metadata": {},
   "source": [
    "<b>Creating the model"
   ]
  },
  {
   "cell_type": "markdown",
   "id": "stylish-senator",
   "metadata": {},
   "source": [
    "We use the diatonic scale as the list of pitches and we will generate 20 notes."
   ]
  },
  {
   "cell_type": "code",
   "execution_count": 83,
   "id": "earlier-pension",
   "metadata": {},
   "outputs": [],
   "source": [
    "P = [1,2,3,4,5,6,7,8]\n",
    "n = 20"
   ]
  },
  {
   "cell_type": "markdown",
   "id": "greenhouse-speaker",
   "metadata": {},
   "source": [
    "We define some penalty values. "
   ]
  },
  {
   "cell_type": "code",
   "execution_count": 84,
   "id": "automatic-theta",
   "metadata": {},
   "outputs": [],
   "source": [
    "P1,P2,P3,P4,P5 = 5,3,1,1,1"
   ]
  },
  {
   "cell_type": "markdown",
   "id": "instant-coral",
   "metadata": {},
   "source": [
    "We define the matrix of the weights."
   ]
  },
  {
   "cell_type": "code",
   "execution_count": 85,
   "id": "prerequisite-payroll",
   "metadata": {},
   "outputs": [],
   "source": [
    "M = [[0 for i in range(9)] for j in range(9)]\n",
    "M[4][4]=2\n",
    "M[4][3]=2\n",
    "M[4][5]=1\n",
    "\n",
    "M[5][6]=1\n",
    "M[5][4]=1\n",
    "\n",
    "M[6][6]=1\n",
    "M[6][5]=1\n",
    "\n",
    "\n",
    "M[2][1]=1\n",
    "M[2][3]=1\n",
    "M[2][2]=1\n",
    "\n",
    "M[1][1]=1\n",
    "M[1][2]=1"
   ]
  },
  {
   "cell_type": "markdown",
   "id": "approximate-outside",
   "metadata": {},
   "source": [
    "As always, we start by single note constraint. (Eq.18)"
   ]
  },
  {
   "cell_type": "code",
   "execution_count": 86,
   "id": "systematic-puppy",
   "metadata": {},
   "outputs": [],
   "source": [
    "H = 0\n",
    "for i in range(1,n+1):\n",
    "    H += P1*Constraint((1-sum(Binary(f\"x_{i}_{p}\") for p in P))**2, f\"Single_note_{i}\")"
   ]
  },
  {
   "cell_type": "markdown",
   "id": "after-bookmark",
   "metadata": {},
   "source": [
    "We add the rule about the first and the last note. (Eq.26)"
   ]
  },
  {
   "cell_type": "code",
   "execution_count": 87,
   "id": "polish-seven",
   "metadata": {},
   "outputs": [],
   "source": [
    "H += P2*Constraint(1-Binary(f\"x_1_1\"),\"first\") + P2*Constraint(1-Binary(f\"x_20_1\"),\"last\")"
   ]
  },
  {
   "cell_type": "markdown",
   "id": "secure-combine",
   "metadata": {},
   "source": [
    "We include the rule about no more than two same note in a sequence. (Eq.22)"
   ]
  },
  {
   "cell_type": "code",
   "execution_count": 88,
   "id": "emotional-equality",
   "metadata": {},
   "outputs": [],
   "source": [
    "for i in range(1,n-1):\n",
    "    for j in P:\n",
    "        H += Constraint(P3*(Binary(f\"x_{i+2}_{j}\") + Binary(f\"x_{i}_{j}\") + Binary(f\"x_{i+1}_{j}\") + LogEncInteger(f\"s_{i}_{j}\",(0,2))-2)**2, f\"same_note_{i}_{j}\")"
   ]
  },
  {
   "cell_type": "markdown",
   "id": "statistical-mississippi",
   "metadata": {},
   "source": [
    "Next we add the rules about tendency notes (Eq.28), by adding the following terms directly to the objective."
   ]
  },
  {
   "cell_type": "code",
   "execution_count": 89,
   "id": "fresh-banks",
   "metadata": {},
   "outputs": [],
   "source": [
    "for i in range(1,n):\n",
    "    H += P4*Binary(f\"x_{i}_2\")*(1-Binary(f\"x_{i+1}_1\"))\n",
    "    H += P4*Binary(f\"x_{i}_4\")*(1-Binary(f\"x_{i+1}_3\"))\n",
    "    H += P4*Binary(f\"x_{i}_6\")*(1-Binary(f\"x_{i+1}_5\"))\n",
    "    H += P4*Binary(f\"x_{i}_7\")*(1-Binary(f\"x_{i+1}_8\"))"
   ]
  },
  {
   "cell_type": "markdown",
   "id": "alert-socket",
   "metadata": {},
   "source": [
    "Finally, we add the 'rewards' to our objective function, defined as $\n",
    "    -\\sum_{ \\substack{i\\in [n-1]  \\\\ j,j' \\in P}} W_{j,j'} x_{i,j} x_{i+1,j'}\n",
    "$. The weights we use are stored inside `M`. (Eq. 29)\n",
    "\n"
   ]
  },
  {
   "cell_type": "code",
   "execution_count": 90,
   "id": "noted-rally",
   "metadata": {},
   "outputs": [],
   "source": [
    "for i in range(1,n+1):\n",
    "    for j, jp in product(P,P):\n",
    "        if M[j][jp]!=0:\n",
    "            H += -P5*M[j][jp]*Binary(f\"x_{i}_{j}\")*Binary(f\"x_{i+1}_{jp}\")           "
   ]
  },
  {
   "cell_type": "markdown",
   "id": "difficult-paragraph",
   "metadata": {},
   "source": [
    "<b> Running the experiment"
   ]
  },
  {
   "cell_type": "code",
   "execution_count": 91,
   "id": "silver-optimum",
   "metadata": {},
   "outputs": [],
   "source": [
    "model = H.compile()\n",
    "qubo, of = model.to_qubo()\n",
    "bqm = dimod.BinaryQuadraticModel.from_qubo(qubo,of)"
   ]
  },
  {
   "cell_type": "markdown",
   "id": "banner-breast",
   "metadata": {},
   "source": [
    "We'll again use the hybrid solver."
   ]
  },
  {
   "cell_type": "code",
   "execution_count": 92,
   "id": "signal-recruitment",
   "metadata": {},
   "outputs": [],
   "source": [
    "sampleset = anneal(bqm, 'h')"
   ]
  },
  {
   "cell_type": "markdown",
   "id": "regulation-rebate",
   "metadata": {},
   "source": [
    "<b> Interpreting the results"
   ]
  },
  {
   "cell_type": "code",
   "execution_count": 93,
   "id": "operating-devon",
   "metadata": {},
   "outputs": [
    {
     "name": "stdout",
     "output_type": "stream",
     "text": [
      "[1, 2, 1, 4, 3, 4, 3, 5, 4, 3, 4, 3, 4, 3, 1, 2, 1, 4, 3, 1] -19.0\n"
     ]
    }
   ],
   "source": [
    "for data in sampleset.data():\n",
    "    seq = translate_sample(data.sample,P,n)\n",
    "    print(seq,data.energy)"
   ]
  },
  {
   "cell_type": "code",
   "execution_count": 94,
   "id": "gross-object",
   "metadata": {},
   "outputs": [
    {
     "name": "stdout",
     "output_type": "stream",
     "text": [
      "{}\n"
     ]
    }
   ],
   "source": [
    "dec = model.decode_sample(sampleset.first.sample, vartype='BINARY')\n",
    "print(dec.constraints(only_broken=True))"
   ]
  },
  {
   "cell_type": "code",
   "execution_count": 95,
   "id": "decreased-sellers",
   "metadata": {},
   "outputs": [],
   "source": [
    "filename = \"experiment5\"\n",
    "store_results(filename, sampleset)"
   ]
  },
  {
   "cell_type": "markdown",
   "id": "bound-belarus",
   "metadata": {},
   "source": [
    "---"
   ]
  },
  {
   "cell_type": "markdown",
   "id": "novel-reflection",
   "metadata": {},
   "source": [
    "### Example 6 (Page 17-18) - Rhythm generation"
   ]
  },
  {
   "cell_type": "markdown",
   "id": "e375b675",
   "metadata": {},
   "source": [
    "When generating a music piece, one option would be to generate the pitch sequence and the rhythmic sequence separately. In such a case, the idea will be similar to what we had previously. The set $S$ will consist of possible durations for the notes, such as whole, half, quarter, etc. The binary variables $y_{i,j}$ for $i \\in [n]$ and $j \\in D$ will be defined as follows.\n",
    "\\begin{equation}\\label{eq:modelrhythm}\n",
    "y_{i,j} =  \\begin{cases}%\n",
    "1      & \\text{note at position $i$ has duration $j$,}\\\\\n",
    "0 & \\text{otherwise.}\n",
    "\\end{cases}\n",
    "\\end{equation}\n",
    " "
   ]
  },
  {
   "cell_type": "markdown",
   "id": "17a1a201",
   "metadata": {},
   "source": [
    "Similarly, the first rule we need to incorporate is that only one of the variables $y_{i,j}$ is equal to 1 for each position $i$, which is expressed using the following constraint for each $i \\in [n]$.\n",
    "\\begin{equation}\\label{eq:singlerhythm}\n",
    "    \\sum_{j \\in D} y_{i,j} = 1\n",
    "\\end{equation}"
   ]
  },
  {
   "cell_type": "markdown",
   "id": "39ea3fc3",
   "metadata": {},
   "source": [
    "For the objective function, the same method can be used. Let us denote half note by $\\mathtt{H}$, quarter note by $\\mathtt{Q}$, dotted quarter note by $\\mathtt{DQ}$ and eighth note by $\\mathtt{E}$. "
   ]
  },
  {
   "cell_type": "markdown",
   "id": "equipped-nursing",
   "metadata": {},
   "source": [
    "<b> Creating the model"
   ]
  },
  {
   "cell_type": "markdown",
   "id": "express-saint",
   "metadata": {},
   "source": [
    "We identify quarter, dotted quarted, eighth and half notes by 0,1,2,3 respectively. Later on, we will use this `Pdict` to translate our sample back."
   ]
  },
  {
   "cell_type": "code",
   "execution_count": 96,
   "id": "utility-special",
   "metadata": {},
   "outputs": [],
   "source": [
    "Pdict = {0:\"Q\", 1:\"DQ\", 2:\"E\", 3:\"H\"}\n",
    "P = [0,1,2,3]\n",
    "n = 20"
   ]
  },
  {
   "cell_type": "markdown",
   "id": "downtown-philip",
   "metadata": {},
   "source": [
    "We define the matrix of weights for the note durations."
   ]
  },
  {
   "cell_type": "code",
   "execution_count": 97,
   "id": "uniform-underground",
   "metadata": {},
   "outputs": [],
   "source": [
    "M = [[0 for i in range(4)] for j in range(4)]\n",
    "M[0][0]=11\n",
    "M[0][1]=1\n",
    "\n",
    "M[1][2] = 1\n",
    "M[2][3]=1"
   ]
  },
  {
   "cell_type": "markdown",
   "id": "clinical-warrant",
   "metadata": {},
   "source": [
    "Penalty values."
   ]
  },
  {
   "cell_type": "code",
   "execution_count": 98,
   "id": "associate-coating",
   "metadata": {},
   "outputs": [],
   "source": [
    "P1, P2, P3 = 50, 50, 1"
   ]
  },
  {
   "cell_type": "markdown",
   "id": "resident-jewelry",
   "metadata": {},
   "source": [
    "We start by single note constraint. (Eq.18)"
   ]
  },
  {
   "cell_type": "code",
   "execution_count": 99,
   "id": "wired-evolution",
   "metadata": {},
   "outputs": [],
   "source": [
    "H = 0\n",
    "for i in range(1,n+1):\n",
    "    H += P1*Constraint((1-sum(Binary(f\"x_{i}_{p}\") for p in P))**2, f\"Single_note_{i}\")"
   ]
  },
  {
   "cell_type": "markdown",
   "id": "macro-growing",
   "metadata": {},
   "source": [
    "We add the rule forcing that each duration appears at least twice. (Eq.36)"
   ]
  },
  {
   "cell_type": "code",
   "execution_count": 100,
   "id": "studied-alert",
   "metadata": {},
   "outputs": [],
   "source": [
    "for d in P:\n",
    "    H += P2*Constraint((2-sum(Binary(f\"x_{i}_{d}\") for i in range(1,n+1))+LogEncInteger(f\"s_{d}\",(0,14)))**2, f\"At_least_two_{d}\")"
   ]
  },
  {
   "cell_type": "markdown",
   "id": "present-senior",
   "metadata": {},
   "source": [
    "We add the 'rewards' reflecting the weights for consecutive durations. (Eq. 29)"
   ]
  },
  {
   "cell_type": "code",
   "execution_count": 101,
   "id": "above-tonight",
   "metadata": {},
   "outputs": [],
   "source": [
    "for i in range(1,n+1):\n",
    "    for j, jp in product(P,P):\n",
    "        if M[j][jp]!=0:\n",
    "            H += P3 * -M[j][jp]*Binary(f\"x_{i}_{j}\")*Binary(f\"x_{i+1}_{jp}\")"
   ]
  },
  {
   "cell_type": "markdown",
   "id": "consecutive-salem",
   "metadata": {},
   "source": [
    "<b> Running the experiment"
   ]
  },
  {
   "cell_type": "code",
   "execution_count": 102,
   "id": "helpful-acquisition",
   "metadata": {},
   "outputs": [],
   "source": [
    "model = H.compile()\n",
    "qubo, of = model.to_qubo()\n",
    "bqm = dimod.BinaryQuadraticModel.from_qubo(qubo,of)"
   ]
  },
  {
   "cell_type": "markdown",
   "id": "afraid-consumption",
   "metadata": {},
   "source": [
    "We will use the hybrid solver"
   ]
  },
  {
   "cell_type": "code",
   "execution_count": 103,
   "id": "printable-impact",
   "metadata": {},
   "outputs": [],
   "source": [
    "sampleset = anneal(bqm, 'h')"
   ]
  },
  {
   "cell_type": "markdown",
   "id": "egyptian-bidder",
   "metadata": {},
   "source": [
    "<b> Interpreting the results"
   ]
  },
  {
   "cell_type": "code",
   "execution_count": 104,
   "id": "according-advantage",
   "metadata": {
    "scrolled": true
   },
   "outputs": [
    {
     "name": "stdout",
     "output_type": "stream",
     "text": [
      "[1, 2, 0, 0, 0, 3, 2, 3, 2, 2, 0, 2, 3, 2, 2, 0, 1, 0, 0, 0] -60.0\n"
     ]
    }
   ],
   "source": [
    "for data in sampleset.data():\n",
    "    seq = translate_sample(data.sample,P,n)\n",
    "    print(seq,data.energy)"
   ]
  },
  {
   "cell_type": "markdown",
   "id": "cooked-cement",
   "metadata": {},
   "source": [
    "We can get the list of durations back using the dictionary."
   ]
  },
  {
   "cell_type": "code",
   "execution_count": 105,
   "id": "focal-scanner",
   "metadata": {},
   "outputs": [
    {
     "name": "stdout",
     "output_type": "stream",
     "text": [
      "['DQ', 'E', 'Q', 'Q', 'Q', 'H', 'E', 'H', 'E', 'E', 'Q', 'E', 'H', 'E', 'E', 'Q', 'DQ', 'Q', 'Q', 'Q']\n"
     ]
    }
   ],
   "source": [
    "L = [Pdict[s] for s in seq]\n",
    "print(L)"
   ]
  },
  {
   "cell_type": "code",
   "execution_count": 106,
   "id": "wireless-newfoundland",
   "metadata": {},
   "outputs": [
    {
     "name": "stdout",
     "output_type": "stream",
     "text": [
      "{}\n"
     ]
    }
   ],
   "source": [
    "dec = model.decode_sample(sampleset.first.sample, vartype='BINARY')\n",
    "print(dec.constraints(only_broken=True))"
   ]
  },
  {
   "cell_type": "code",
   "execution_count": 107,
   "id": "certain-tucson",
   "metadata": {},
   "outputs": [],
   "source": [
    "filename = f\"experiment6\"\n",
    "store_results(filename, sampleset)"
   ]
  },
  {
   "cell_type": "markdown",
   "id": "african-compensation",
   "metadata": {},
   "source": [
    "---"
   ]
  },
  {
   "cell_type": "markdown",
   "id": "breathing-constraint",
   "metadata": {},
   "source": [
    "### Example 8 (Page 22) - Harmonizing melody"
   ]
  },
  {
   "cell_type": "markdown",
   "id": "68ae06de",
   "metadata": {},
   "source": [
    "Suppose that we would like to add three-note chords, triads, to a given music piece. The notes appearing in the triads will be restricted to the set of pitches $P=\\{1,2,3,4,5,6,7,8\\}$, where the elements represent the degrees of the scale. Our binary variables $x_{i,j}$ for $i \\in [n]$ and $j \\in P$ are defined as follow.\n",
    "\\begin{equation}\\label{eq:model_chords}\n",
    "x_{i,j} =  \\begin{cases}%\n",
    "1      & \\text{chord at position $i$ contains note $j$,}\\\\\n",
    "0 & \\text{otherwise.}\n",
    "\\end{cases}\n",
    "\\end{equation}"
   ]
  },
  {
   "cell_type": "markdown",
   "id": "28670942",
   "metadata": {},
   "source": [
    "At each time point, we would like to have three notes. Hence, we are going to add the following constraint. \n",
    "\\begin{equation}\\label{eq:three_notes}\n",
    "    \\sum_{j \\in P} x_{i,j} = 3\n",
    "\\end{equation}"
   ]
  },
  {
   "cell_type": "markdown",
   "id": "20f58939",
   "metadata": {},
   "source": [
    "Recall that we had already defined a constraint so that the melody begins and ends with the first degree of the scale. Similarly, we can enforce the first and the last triads to be built upon the first degree of the scale.  We can add the following terms to the objective function:\n",
    "\n",
    "\\begin{equation}\\label{eq:first_last_chord}\n",
    "    (1-x_{1,1}),~~(1-x_{1,3}),~~(1-x_{1,5}),~~(1-x_{n,1}),~~(1-x_{n,3}),~~(1-x_{n,5}).\n",
    "\\end{equation}\n",
    "\n",
    "For each time point, one of the pitches in the triad should be the pitch of the melody. Let $N=[p_{1_j},p_{2_j},\\dots,p_{n_j} ]$ be the note sequence that we would like to harmonize. We assume that each $p_{i_j} \\in P $. To enforce that one of the three notes in the triad at time point $i$ is $p_{i_j}$, we add the term defined in Eq.~\\ref{eq:note_i} to the objective function for all $i= 2,\\dots,n-1$. (We are assuming that the first and the last pitch of the note sequence is the first degree of the scale.)\n",
    "\n",
    "\\begin{equation}\\label{eq:note_i}\n",
    "     (1-x_{i,p_{i_j}})\n",
    "\\end{equation}\n",
    "\n",
    "We want to generate triads either obtained by taking the degrees of the scale as their root or their inversions. We want to avoid consecutive degrees from the scale and the degrees 1-7, 2-8, 1-8 to appear in the same triad by adding the following terms to the objective function \n",
    "for all $i= 2,\\dots,n-1$, $|j-j'| \\in \\{1,6,7\\}$.\n",
    "\\begin{equation}\\label{eq:triad}\n",
    "    x_{i,j}x_{i,j'}\n",
    "\\end{equation}"
   ]
  },
  {
   "cell_type": "markdown",
   "id": "empirical-lover",
   "metadata": {},
   "source": [
    "<b> Creating the model"
   ]
  },
  {
   "cell_type": "markdown",
   "id": "obvious-tablet",
   "metadata": {},
   "source": [
    "The list `P` represents the degrees of the scale"
   ]
  },
  {
   "cell_type": "code",
   "execution_count": 119,
   "id": "minute-reform",
   "metadata": {},
   "outputs": [],
   "source": [
    "P = [1,2,3,4,5,6,7,8]\n",
    "n = 20"
   ]
  },
  {
   "cell_type": "markdown",
   "id": "personalized-feelings",
   "metadata": {},
   "source": [
    "The `note_list` represents the music pieace we would like to harmonize."
   ]
  },
  {
   "cell_type": "code",
   "execution_count": 120,
   "id": "french-bathroom",
   "metadata": {},
   "outputs": [],
   "source": [
    "note_list = [1, 4, 3, 5, 1, 7, 8, 3, 5, 4, 3, 5, 4, 3, 6, 5, 4, 3, 5, 1]"
   ]
  },
  {
   "cell_type": "markdown",
   "id": "common-advantage",
   "metadata": {},
   "source": [
    "We would like to generate a triad. Hence, as opposed to single note constraint, we have the constraint forcing that there are three notes at each time point $\n",
    "\\sum_{j \\in P} x_{i,j} = 3\n",
    "$. (Eq.41)\n",
    "\n"
   ]
  },
  {
   "cell_type": "code",
   "execution_count": 121,
   "id": "thick-guarantee",
   "metadata": {},
   "outputs": [],
   "source": [
    "H = 0\n",
    "for i in range(1,n+1):\n",
    "    H += 2*Constraint((3-sum(Binary(f\"x_{i}_{p}\") for p in P))**2, f\"Triad_{i}\")"
   ]
  },
  {
   "cell_type": "markdown",
   "id": "loved-scottish",
   "metadata": {},
   "source": [
    "We would like to have the first and the last triad to be built on the first degree of the scale, hence we use the following constraints. (Eq. 42)"
   ]
  },
  {
   "cell_type": "code",
   "execution_count": 122,
   "id": "sought-signature",
   "metadata": {},
   "outputs": [],
   "source": [
    "H += Constraint((1-Binary(f\"x_{1}_{3}\"))**2, f\"note_{1}_3\")\n",
    "H += Constraint((1-Binary(f\"x_{1}_{5}\"))**2, f\"note_{1}_5\")\n",
    "H += Constraint((1-Binary(f\"x_{20}_{3}\"))**2, f\"note_{20}_3\")\n",
    "H += Constraint((1-Binary(f\"x_{20}_{5}\"))**2, f\"note_{20}_5\")\n",
    "H += Constraint((1-Binary(f\"x_{20}_{1}\"))**2, f\"note_{20}_1\")"
   ]
  },
  {
   "cell_type": "markdown",
   "id": "comparative-wells",
   "metadata": {},
   "source": [
    "Each triad should contain the note given in the `note_list`."
   ]
  },
  {
   "cell_type": "code",
   "execution_count": 123,
   "id": "three-change",
   "metadata": {},
   "outputs": [],
   "source": [
    "for i in range(1,n+1):\n",
    "    H += Constraint((1-Binary(f\"x_{i}_{note_list[(i-1)]}\"))**2, f\"note_{i}\")"
   ]
  },
  {
   "cell_type": "markdown",
   "id": "likely-noise",
   "metadata": {},
   "source": [
    "We would like to avoid consecutive degrees to appear in the triad, as well as degrees 1-7, 2-6, 1-8. Hence we add the following penalty terms to the objective. (Eq. 44)"
   ]
  },
  {
   "cell_type": "code",
   "execution_count": 124,
   "id": "prompt-regression",
   "metadata": {},
   "outputs": [],
   "source": [
    "A = [1,6,7]\n",
    "for i in range(1,n+1):\n",
    "    for j, k in product(P,P):\n",
    "        if abs(j-k) in A:\n",
    "            H += Binary(f\"x_{i}_{j}\")*(Binary(f\"x_{i}_{k}\"))"
   ]
  },
  {
   "cell_type": "markdown",
   "id": "solid-behavior",
   "metadata": {},
   "source": [
    "<b> Running the experiment"
   ]
  },
  {
   "cell_type": "code",
   "execution_count": 125,
   "id": "addressed-timer",
   "metadata": {},
   "outputs": [],
   "source": [
    "model = H.compile()\n",
    "qubo, of = model.to_qubo()\n",
    "bqm = dimod.BinaryQuadraticModel.from_qubo(qubo,of)"
   ]
  },
  {
   "cell_type": "code",
   "execution_count": 126,
   "id": "pretty-enhancement",
   "metadata": {},
   "outputs": [],
   "source": [
    "sampleset = anneal(bqm, 'h')"
   ]
  },
  {
   "cell_type": "markdown",
   "id": "shaped-price",
   "metadata": {},
   "source": [
    "<b> Interpreting the results"
   ]
  },
  {
   "cell_type": "markdown",
   "id": "motivated-stranger",
   "metadata": {},
   "source": [
    "We use the method `translate_chord` to convert our sample into a list of chords."
   ]
  },
  {
   "cell_type": "code",
   "execution_count": 127,
   "id": "involved-planet",
   "metadata": {},
   "outputs": [
    {
     "name": "stdout",
     "output_type": "stream",
     "text": [
      "{1: [1, 3, 5], 2: [4, 6, 8], 3: [3, 5, 7], 4: [3, 5, 7], 5: [1, 3, 5], 6: [3, 5, 7], 7: [3, 5, 8], 8: [3, 6, 8], 9: [3, 5, 7], 10: [2, 4, 7], 11: [3, 6, 8], 12: [2, 5, 7], 13: [1, 4, 6], 14: [3, 5, 7], 15: [1, 4, 6], 16: [1, 3, 5], 17: [2, 4, 7], 18: [3, 5, 8], 19: [1, 3, 5], 20: [1, 3, 5]} 0.0\n"
     ]
    }
   ],
   "source": [
    "for data in sampleset.data():\n",
    "    seq = translate_chord(data.sample,P,n)\n",
    "    print(seq,data.energy)"
   ]
  },
  {
   "cell_type": "markdown",
   "id": "turkish-accordance",
   "metadata": {},
   "source": [
    "You can check if any of the constraints are broken or not."
   ]
  },
  {
   "cell_type": "code",
   "execution_count": 128,
   "id": "annual-brass",
   "metadata": {},
   "outputs": [
    {
     "name": "stdout",
     "output_type": "stream",
     "text": [
      "{}\n"
     ]
    }
   ],
   "source": [
    "dec = model.decode_sample(sampleset.first.sample, vartype='BINARY')\n",
    "print(dec.constraints(only_broken=True))"
   ]
  },
  {
   "cell_type": "code",
   "execution_count": 129,
   "id": "herbal-fruit",
   "metadata": {},
   "outputs": [],
   "source": [
    "filename = f\"experiment8\"\n",
    "store_results(filename, sampleset)"
   ]
  }
 ],
 "metadata": {
  "kernelspec": {
   "display_name": "Python 3",
   "language": "python",
   "name": "python3"
  },
  "language_info": {
   "codemirror_mode": {
    "name": "ipython",
    "version": 3
   },
   "file_extension": ".py",
   "mimetype": "text/x-python",
   "name": "python",
   "nbconvert_exporter": "python",
   "pygments_lexer": "ipython3",
   "version": "3.7.3"
  }
 },
 "nbformat": 4,
 "nbformat_minor": 5
}
